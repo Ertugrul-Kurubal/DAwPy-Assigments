{
  "nbformat": 4,
  "nbformat_minor": 0,
  "metadata": {
    "colab": {
      "name": "LAB_Pandas2.ipynb",
      "provenance": [],
      "collapsed_sections": [
        "AKMEw_5XpnRS",
        "IQ8zBK9rqKI7",
        "Id3ch7FBZpFJ",
        "PE709_O7qVKo",
        "Pfly3jfcrieu",
        "7I7mTxEFtGfa",
        "UXYMxibY9-n2",
        "Qo30E_lAtXIi",
        "J6Si9_pFAW34",
        "SDq-l53aAgxu"
      ]
    },
    "kernelspec": {
      "display_name": "Python 3",
      "language": "python",
      "name": "python3"
    },
    "language_info": {
      "codemirror_mode": {
        "name": "ipython",
        "version": 3
      },
      "file_extension": ".py",
      "mimetype": "text/x-python",
      "name": "python",
      "nbconvert_exporter": "python",
      "pygments_lexer": "ipython3",
      "version": "3.8.5"
    }
  },
  "cells": [
    {
      "cell_type": "code",
      "metadata": {
        "colab": {
          "base_uri": "https://localhost:8080/"
        },
        "id": "hCwZN0lR8pxY",
        "outputId": "efb8528c-a73c-43df-a305-a0a89937231f"
      },
      "source": [
        "pip install pyforest"
      ],
      "execution_count": 411,
      "outputs": [
        {
          "output_type": "stream",
          "text": [
            "Requirement already satisfied: pyforest in /usr/local/lib/python3.7/dist-packages (1.0.3)\n"
          ],
          "name": "stdout"
        }
      ]
    },
    {
      "cell_type": "code",
      "metadata": {
        "id": "Mcy8qRfw8kEa"
      },
      "source": [
        "import pyforest"
      ],
      "execution_count": 412,
      "outputs": []
    },
    {
      "cell_type": "code",
      "metadata": {
        "colab": {
          "base_uri": "https://localhost:8080/"
        },
        "id": "2ec0oC63IT5Y",
        "outputId": "0d6c687a-d7a1-4b32-93e6-ab1555954993"
      },
      "source": [
        "#help(pyforest)\n",
        "dir(pyforest)"
      ],
      "execution_count": 413,
      "outputs": [
        {
          "output_type": "execute_result",
          "data": {
            "text/plain": [
              "['GradientBoostingClassifier',\n",
              " 'GradientBoostingRegressor',\n",
              " 'LazyImport',\n",
              " 'OneHotEncoder',\n",
              " 'Path',\n",
              " 'RandomForestClassifier',\n",
              " 'RandomForestRegressor',\n",
              " 'SparkContext',\n",
              " 'TSNE',\n",
              " 'TfidfVectorizer',\n",
              " '__builtins__',\n",
              " '__cached__',\n",
              " '__doc__',\n",
              " '__file__',\n",
              " '__loader__',\n",
              " '__name__',\n",
              " '__package__',\n",
              " '__path__',\n",
              " '__spec__',\n",
              " '__version__',\n",
              " '_importable',\n",
              " '_imports',\n",
              " '_jupyter_labextension_paths',\n",
              " '_jupyter_nbextension_paths',\n",
              " 'active_imports',\n",
              " 'alt',\n",
              " 'bokeh',\n",
              " 'dash',\n",
              " 'dd',\n",
              " 'dt',\n",
              " 'gensim',\n",
              " 'get_user_symbols',\n",
              " 'glob',\n",
              " 'go',\n",
              " 'import_symbol',\n",
              " 'install_extensions',\n",
              " 'install_labextension',\n",
              " 'install_nbextension',\n",
              " 'keras',\n",
              " 'lazy_imports',\n",
              " 'lgb',\n",
              " 'load_workbook',\n",
              " 'mpl',\n",
              " 'nltk',\n",
              " 'np',\n",
              " 'os',\n",
              " 'pd',\n",
              " 'pickle',\n",
              " 'plt',\n",
              " 'px',\n",
              " 'py',\n",
              " 'pydot',\n",
              " 'pyforest_imports',\n",
              " 're',\n",
              " 'sklearn',\n",
              " 'sns',\n",
              " 'spacy',\n",
              " 'statistics',\n",
              " 'svm',\n",
              " 'sys',\n",
              " 'tf',\n",
              " 'tqdm',\n",
              " 'train_test_split',\n",
              " 'user_specific_imports',\n",
              " 'user_symbols',\n",
              " 'utils',\n",
              " 'wr',\n",
              " 'xgb']"
            ]
          },
          "metadata": {
            "tags": []
          },
          "execution_count": 413
        }
      ]
    },
    {
      "cell_type": "code",
      "metadata": {
        "colab": {
          "base_uri": "https://localhost:8080/",
          "height": 1000
        },
        "id": "Q5D3yZYfItDb",
        "outputId": "ee417430-30e2-415b-efe7-3cff4c63643f"
      },
      "source": [
        "dir(pd)"
      ],
      "execution_count": 384,
      "outputs": [
        {
          "output_type": "display_data",
          "data": {
            "application/javascript": [
              "\n",
              "        if (window._pyforest_update_imports_cell) { window._pyforest_update_imports_cell('import spacy\\nfrom sklearn import svm\\nimport matplotlib.pyplot as plt\\nimport glob\\nimport statistics\\nimport seaborn as sns\\nimport plotly.graph_objs as go\\nimport plotly.express as px\\nimport pandas as pd\\nimport re\\nimport numpy as np\\nimport pickle\\nimport matplotlib as mpl\\nimport altair as alt\\nimport nltk\\nimport sys\\nimport lightgbm as lgb\\nimport bokeh\\nfrom pathlib import Path\\nimport pydot\\nimport plotly as py\\nfrom openpyxl import load_workbook\\nimport sklearn\\nimport gensim'); }\n",
              "    "
            ],
            "text/plain": [
              "<IPython.core.display.Javascript object>"
            ]
          },
          "metadata": {
            "tags": []
          }
        },
        {
          "output_type": "execute_result",
          "data": {
            "text/plain": [
              "['BooleanDtype',\n",
              " 'Categorical',\n",
              " 'CategoricalDtype',\n",
              " 'CategoricalIndex',\n",
              " 'DataFrame',\n",
              " 'DateOffset',\n",
              " 'DatetimeIndex',\n",
              " 'DatetimeTZDtype',\n",
              " 'ExcelFile',\n",
              " 'ExcelWriter',\n",
              " 'Float64Index',\n",
              " 'Grouper',\n",
              " 'HDFStore',\n",
              " 'Index',\n",
              " 'IndexSlice',\n",
              " 'Int16Dtype',\n",
              " 'Int32Dtype',\n",
              " 'Int64Dtype',\n",
              " 'Int64Index',\n",
              " 'Int8Dtype',\n",
              " 'Interval',\n",
              " 'IntervalDtype',\n",
              " 'IntervalIndex',\n",
              " 'MultiIndex',\n",
              " 'NA',\n",
              " 'NaT',\n",
              " 'NamedAgg',\n",
              " 'Period',\n",
              " 'PeriodDtype',\n",
              " 'PeriodIndex',\n",
              " 'RangeIndex',\n",
              " 'Series',\n",
              " 'SparseDtype',\n",
              " 'StringDtype',\n",
              " 'Timedelta',\n",
              " 'TimedeltaIndex',\n",
              " 'Timestamp',\n",
              " 'UInt16Dtype',\n",
              " 'UInt32Dtype',\n",
              " 'UInt64Dtype',\n",
              " 'UInt64Index',\n",
              " 'UInt8Dtype',\n",
              " '__builtins__',\n",
              " '__cached__',\n",
              " '__doc__',\n",
              " '__docformat__',\n",
              " '__file__',\n",
              " '__getattr__',\n",
              " '__git_version__',\n",
              " '__loader__',\n",
              " '__name__',\n",
              " '__package__',\n",
              " '__path__',\n",
              " '__spec__',\n",
              " '__version__',\n",
              " '_config',\n",
              " '_hashtable',\n",
              " '_is_numpy_dev',\n",
              " '_lib',\n",
              " '_libs',\n",
              " '_np_version_under1p16',\n",
              " '_np_version_under1p17',\n",
              " '_np_version_under1p18',\n",
              " '_testing',\n",
              " '_tslib',\n",
              " '_typing',\n",
              " '_version',\n",
              " 'api',\n",
              " 'array',\n",
              " 'arrays',\n",
              " 'bdate_range',\n",
              " 'compat',\n",
              " 'concat',\n",
              " 'core',\n",
              " 'crosstab',\n",
              " 'cut',\n",
              " 'date_range',\n",
              " 'describe_option',\n",
              " 'errors',\n",
              " 'eval',\n",
              " 'factorize',\n",
              " 'get_dummies',\n",
              " 'get_option',\n",
              " 'infer_freq',\n",
              " 'interval_range',\n",
              " 'io',\n",
              " 'isna',\n",
              " 'isnull',\n",
              " 'json_normalize',\n",
              " 'lreshape',\n",
              " 'melt',\n",
              " 'merge',\n",
              " 'merge_asof',\n",
              " 'merge_ordered',\n",
              " 'notna',\n",
              " 'notnull',\n",
              " 'offsets',\n",
              " 'option_context',\n",
              " 'options',\n",
              " 'pandas',\n",
              " 'period_range',\n",
              " 'pivot',\n",
              " 'pivot_table',\n",
              " 'plotting',\n",
              " 'qcut',\n",
              " 'read_clipboard',\n",
              " 'read_csv',\n",
              " 'read_excel',\n",
              " 'read_feather',\n",
              " 'read_fwf',\n",
              " 'read_gbq',\n",
              " 'read_hdf',\n",
              " 'read_html',\n",
              " 'read_json',\n",
              " 'read_orc',\n",
              " 'read_parquet',\n",
              " 'read_pickle',\n",
              " 'read_sas',\n",
              " 'read_spss',\n",
              " 'read_sql',\n",
              " 'read_sql_query',\n",
              " 'read_sql_table',\n",
              " 'read_stata',\n",
              " 'read_table',\n",
              " 'reset_option',\n",
              " 'set_eng_float_format',\n",
              " 'set_option',\n",
              " 'show_versions',\n",
              " 'test',\n",
              " 'testing',\n",
              " 'timedelta_range',\n",
              " 'to_datetime',\n",
              " 'to_numeric',\n",
              " 'to_pickle',\n",
              " 'to_timedelta',\n",
              " 'tseries',\n",
              " 'unique',\n",
              " 'util',\n",
              " 'value_counts',\n",
              " 'wide_to_long']"
            ]
          },
          "metadata": {
            "tags": []
          },
          "execution_count": 384
        }
      ]
    },
    {
      "cell_type": "markdown",
      "metadata": {
        "id": "AKMEw_5XpnRS"
      },
      "source": [
        "# WORLD HEALTH ORG DATA"
      ]
    },
    {
      "cell_type": "code",
      "metadata": {
        "colab": {
          "base_uri": "https://localhost:8080/"
        },
        "id": "MoCB6IVPqw0x",
        "outputId": "1a80e9d1-bd60-426d-eb48-4c29e5ae657a"
      },
      "source": [
        "from google.colab import drive\n",
        "drive.mount('/content/drive')"
      ],
      "execution_count": 414,
      "outputs": [
        {
          "output_type": "stream",
          "text": [
            "Drive already mounted at /content/drive; to attempt to forcibly remount, call drive.mount(\"/content/drive\", force_remount=True).\n"
          ],
          "name": "stdout"
        }
      ]
    },
    {
      "cell_type": "code",
      "metadata": {
        "colab": {
          "base_uri": "https://localhost:8080/",
          "height": 17
        },
        "id": "ZVskCCLV8vQ6",
        "outputId": "6c2e6a71-2810-4bda-ea11-e6a4253fa506"
      },
      "source": [
        "df = pd.read_csv(\"/content/drive/MyDrive/Colab notebooks/pandas/health_vs_gdp/SDG_SH_DTH_RNCOM.csv\", header=1)"
      ],
      "execution_count": 415,
      "outputs": [
        {
          "output_type": "display_data",
          "data": {
            "application/javascript": [
              "\n",
              "        if (window._pyforest_update_imports_cell) { window._pyforest_update_imports_cell('import spacy\\nfrom sklearn import svm\\nimport matplotlib.pyplot as plt\\nimport glob\\nimport statistics\\nimport seaborn as sns\\nimport plotly.graph_objs as go\\nimport plotly.express as px\\nimport pandas as pd\\nimport re\\nimport numpy as np\\nimport pickle\\nimport matplotlib as mpl\\nimport altair as alt\\nimport nltk\\nimport sys\\nimport lightgbm as lgb\\nimport bokeh\\nfrom pathlib import Path\\nimport pydot\\nimport plotly as py\\nfrom openpyxl import load_workbook\\nimport sklearn\\nimport gensim'); }\n",
              "    "
            ],
            "text/plain": [
              "<IPython.core.display.Javascript object>"
            ]
          },
          "metadata": {
            "tags": []
          }
        }
      ]
    },
    {
      "cell_type": "code",
      "metadata": {
        "colab": {
          "base_uri": "https://localhost:8080/",
          "height": 17
        },
        "id": "VuyfNmGkRAoC",
        "outputId": "65a6c905-d471-4aac-ffb7-875acacaaaf4"
      },
      "source": [
        "df = pd.read_csv(\"https://apps.who.int/gho/athena/data/GHO/SDG_SH_DTH_RNCOM?filter=COUNTRY:*&x-sideaxis=COUNTRY;YEAR;GHECAUSES&x-topaxis=GHO;SEX&profile=crosstable&format=csv\", header=1) # download directly from site"
      ],
      "execution_count": 416,
      "outputs": [
        {
          "output_type": "display_data",
          "data": {
            "application/javascript": [
              "\n",
              "        if (window._pyforest_update_imports_cell) { window._pyforest_update_imports_cell('import spacy\\nfrom sklearn import svm\\nimport matplotlib.pyplot as plt\\nimport glob\\nimport statistics\\nimport seaborn as sns\\nimport plotly.graph_objs as go\\nimport plotly.express as px\\nimport pandas as pd\\nimport re\\nimport numpy as np\\nimport pickle\\nimport matplotlib as mpl\\nimport altair as alt\\nimport nltk\\nimport sys\\nimport lightgbm as lgb\\nimport bokeh\\nfrom pathlib import Path\\nimport pydot\\nimport plotly as py\\nfrom openpyxl import load_workbook\\nimport sklearn\\nimport gensim'); }\n",
              "    "
            ],
            "text/plain": [
              "<IPython.core.display.Javascript object>"
            ]
          },
          "metadata": {
            "tags": []
          }
        }
      ]
    },
    {
      "cell_type": "code",
      "metadata": {
        "colab": {
          "base_uri": "https://localhost:8080/",
          "height": 402
        },
        "id": "1fFfu1oE8-Kt",
        "outputId": "c6c41725-0a26-47e8-a1be-ddeddffce306"
      },
      "source": [
        "df"
      ],
      "execution_count": 417,
      "outputs": [
        {
          "output_type": "execute_result",
          "data": {
            "text/html": [
              "<div>\n",
              "<style scoped>\n",
              "    .dataframe tbody tr th:only-of-type {\n",
              "        vertical-align: middle;\n",
              "    }\n",
              "\n",
              "    .dataframe tbody tr th {\n",
              "        vertical-align: top;\n",
              "    }\n",
              "\n",
              "    .dataframe thead th {\n",
              "        text-align: right;\n",
              "    }\n",
              "</style>\n",
              "<table border=\"1\" class=\"dataframe\">\n",
              "  <thead>\n",
              "    <tr style=\"text-align: right;\">\n",
              "      <th></th>\n",
              "      <th>Country</th>\n",
              "      <th>Year</th>\n",
              "      <th>Causes</th>\n",
              "      <th>Both sexes</th>\n",
              "      <th>Male</th>\n",
              "      <th>Female</th>\n",
              "    </tr>\n",
              "  </thead>\n",
              "  <tbody>\n",
              "    <tr>\n",
              "      <th>0</th>\n",
              "      <td>Afghanistan</td>\n",
              "      <td>2019</td>\n",
              "      <td>Malignant neoplasms</td>\n",
              "      <td>15565 [7609-28280]</td>\n",
              "      <td>7756 [3898-13841]</td>\n",
              "      <td>7809 [3711-14439]</td>\n",
              "    </tr>\n",
              "    <tr>\n",
              "      <th>1</th>\n",
              "      <td>Afghanistan</td>\n",
              "      <td>2019</td>\n",
              "      <td>Diabetes mellitus</td>\n",
              "      <td>8060 [3827-14468]</td>\n",
              "      <td>2612 [1377-4651]</td>\n",
              "      <td>5448 [2451-9817]</td>\n",
              "    </tr>\n",
              "    <tr>\n",
              "      <th>2</th>\n",
              "      <td>Afghanistan</td>\n",
              "      <td>2019</td>\n",
              "      <td>Cardiovascular diseases</td>\n",
              "      <td>71264 [42413-108472]</td>\n",
              "      <td>33793 [20550-51028]</td>\n",
              "      <td>37471 [21863-57444]</td>\n",
              "    </tr>\n",
              "    <tr>\n",
              "      <th>3</th>\n",
              "      <td>Afghanistan</td>\n",
              "      <td>2019</td>\n",
              "      <td>Chronic respiratory diseases</td>\n",
              "      <td>8285 [3618-14626]</td>\n",
              "      <td>3920 [1877-6745]</td>\n",
              "      <td>4365 [1741-7881]</td>\n",
              "    </tr>\n",
              "    <tr>\n",
              "      <th>4</th>\n",
              "      <td>Afghanistan</td>\n",
              "      <td>2018</td>\n",
              "      <td>Malignant neoplasms</td>\n",
              "      <td>15065 [7337-27401]</td>\n",
              "      <td>7534 [3766-13454]</td>\n",
              "      <td>7531 [3570-13948]</td>\n",
              "    </tr>\n",
              "    <tr>\n",
              "      <th>...</th>\n",
              "      <td>...</td>\n",
              "      <td>...</td>\n",
              "      <td>...</td>\n",
              "      <td>...</td>\n",
              "      <td>...</td>\n",
              "      <td>...</td>\n",
              "    </tr>\n",
              "    <tr>\n",
              "      <th>14635</th>\n",
              "      <td>Zimbabwe</td>\n",
              "      <td>2001</td>\n",
              "      <td>Chronic respiratory diseases</td>\n",
              "      <td>1884 [1044-3046]</td>\n",
              "      <td>996 [603-1513]</td>\n",
              "      <td>887 [441-1533]</td>\n",
              "    </tr>\n",
              "    <tr>\n",
              "      <th>14636</th>\n",
              "      <td>Zimbabwe</td>\n",
              "      <td>2000</td>\n",
              "      <td>Malignant neoplasms</td>\n",
              "      <td>7474 [4592-11441]</td>\n",
              "      <td>3838 [2512-5647]</td>\n",
              "      <td>3636 [2080-5794]</td>\n",
              "    </tr>\n",
              "    <tr>\n",
              "      <th>14637</th>\n",
              "      <td>Zimbabwe</td>\n",
              "      <td>2000</td>\n",
              "      <td>Diabetes mellitus</td>\n",
              "      <td>2039 [1227-3219]</td>\n",
              "      <td>810 [507-1246]</td>\n",
              "      <td>1229 [720-1972]</td>\n",
              "    </tr>\n",
              "    <tr>\n",
              "      <th>14638</th>\n",
              "      <td>Zimbabwe</td>\n",
              "      <td>2000</td>\n",
              "      <td>Cardiovascular diseases</td>\n",
              "      <td>10368 [6335-16076]</td>\n",
              "      <td>4425 [2818-6837]</td>\n",
              "      <td>5943 [3516-9239]</td>\n",
              "    </tr>\n",
              "    <tr>\n",
              "      <th>14639</th>\n",
              "      <td>Zimbabwe</td>\n",
              "      <td>2000</td>\n",
              "      <td>Chronic respiratory diseases</td>\n",
              "      <td>1861 [1039-2993]</td>\n",
              "      <td>983 [605-1481]</td>\n",
              "      <td>878 [435-1513]</td>\n",
              "    </tr>\n",
              "  </tbody>\n",
              "</table>\n",
              "<p>14640 rows × 6 columns</p>\n",
              "</div>"
            ],
            "text/plain": [
              "           Country  Year  ...                 Male               Female\n",
              "0      Afghanistan  2019  ...    7756 [3898-13841]    7809 [3711-14439]\n",
              "1      Afghanistan  2019  ...     2612 [1377-4651]     5448 [2451-9817]\n",
              "2      Afghanistan  2019  ...  33793 [20550-51028]  37471 [21863-57444]\n",
              "3      Afghanistan  2019  ...     3920 [1877-6745]     4365 [1741-7881]\n",
              "4      Afghanistan  2018  ...    7534 [3766-13454]    7531 [3570-13948]\n",
              "...            ...   ...  ...                  ...                  ...\n",
              "14635     Zimbabwe  2001  ...       996 [603-1513]       887 [441-1533]\n",
              "14636     Zimbabwe  2000  ...     3838 [2512-5647]     3636 [2080-5794]\n",
              "14637     Zimbabwe  2000  ...       810 [507-1246]      1229 [720-1972]\n",
              "14638     Zimbabwe  2000  ...     4425 [2818-6837]     5943 [3516-9239]\n",
              "14639     Zimbabwe  2000  ...       983 [605-1481]       878 [435-1513]\n",
              "\n",
              "[14640 rows x 6 columns]"
            ]
          },
          "metadata": {
            "tags": []
          },
          "execution_count": 417
        }
      ]
    },
    {
      "cell_type": "code",
      "metadata": {
        "colab": {
          "base_uri": "https://localhost:8080/"
        },
        "id": "5CZpC6r98-ww",
        "outputId": "4dd74688-5930-4599-c709-fb94db63da5b"
      },
      "source": [
        "for i in df.columns:\n",
        "  print(df[i].value_counts(dropna =False))\n",
        "  print(\"*-\"*20)"
      ],
      "execution_count": 418,
      "outputs": [
        {
          "output_type": "stream",
          "text": [
            "Guinea-Bissau    80\n",
            "Ukraine          80\n",
            "Denmark          80\n",
            "Kenya            80\n",
            "El Salvador      80\n",
            "                 ..\n",
            "Pakistan         80\n",
            "Rwanda           80\n",
            "Turkey           80\n",
            "Israel           80\n",
            "Honduras         80\n",
            "Name: Country, Length: 183, dtype: int64\n",
            "*-*-*-*-*-*-*-*-*-*-*-*-*-*-*-*-*-*-*-*-\n",
            "2015    732\n",
            "2007    732\n",
            "2008    732\n",
            "2016    732\n",
            "2001    732\n",
            "2009    732\n",
            "2017    732\n",
            "2002    732\n",
            "2010    732\n",
            "2018    732\n",
            "2003    732\n",
            "2011    732\n",
            "2019    732\n",
            "2004    732\n",
            "2012    732\n",
            "2005    732\n",
            "2013    732\n",
            "2006    732\n",
            "2014    732\n",
            "2000    732\n",
            "Name: Year, dtype: int64\n",
            "*-*-*-*-*-*-*-*-*-*-*-*-*-*-*-*-*-*-*-*-\n",
            " Diabetes mellitus               3660\n",
            " Cardiovascular diseases         3660\n",
            " Chronic respiratory diseases    3660\n",
            " Malignant neoplasms             3660\n",
            "Name: Causes, dtype: int64\n",
            "*-*-*-*-*-*-*-*-*-*-*-*-*-*-*-*-*-*-*-*-\n",
            "29 [18-43]             6\n",
            "27 [19-37]             4\n",
            "35 [23-50]             3\n",
            "85 [49-137]            3\n",
            "15 [10-21]             3\n",
            "                      ..\n",
            "26865 [21034-33691]    1\n",
            "58043 [51079-64578]    1\n",
            "4898 [3861-6199]       1\n",
            "63270 [51114-76011]    1\n",
            "1578 [1336-1991]       1\n",
            "Name:  Both sexes, Length: 14531, dtype: int64\n",
            "*-*-*-*-*-*-*-*-*-*-*-*-*-*-*-*-*-*-*-*-\n",
            "15 [10-22]              9\n",
            "27 [17-41]              7\n",
            "25 [18-33]              7\n",
            "38 [29-49]              6\n",
            "16 [10-23]              6\n",
            "                       ..\n",
            "8415 [6586-10483]       1\n",
            "290 [214-383]           1\n",
            "95254 [80504-107088]    1\n",
            "1355 [733-2323]         1\n",
            "455 [362-585]           1\n",
            "Name:  Male, Length: 14337, dtype: int64\n",
            "*-*-*-*-*-*-*-*-*-*-*-*-*-*-*-*-*-*-*-*-\n",
            "13 [9-18]              16\n",
            "12 [7-19]              11\n",
            "12 [8-16]               9\n",
            "11 [6-17]               8\n",
            "43 [24-70]              7\n",
            "                       ..\n",
            "687 [405-1104]          1\n",
            "26602 [19439-34565]     1\n",
            "1173 [894-1490]         1\n",
            "2467 [1476-3826]        1\n",
            "500 [315-755]           1\n",
            "Name:  Female, Length: 14331, dtype: int64\n",
            "*-*-*-*-*-*-*-*-*-*-*-*-*-*-*-*-*-*-*-*-\n"
          ],
          "name": "stdout"
        }
      ]
    },
    {
      "cell_type": "markdown",
      "metadata": {
        "id": "IQ8zBK9rqKI7"
      },
      "source": [
        "## REARANGE COLUMNS NAMES"
      ]
    },
    {
      "cell_type": "code",
      "metadata": {
        "id": "OABJ3jK49ynD"
      },
      "source": [
        "# df[\"Male\"]"
      ],
      "execution_count": 421,
      "outputs": []
    },
    {
      "cell_type": "code",
      "metadata": {
        "colab": {
          "base_uri": "https://localhost:8080/"
        },
        "id": "-_Xpbmbd_foS",
        "outputId": "21d8c606-cfd8-44f3-837b-d9d26ca457a2"
      },
      "source": [
        "df.columns"
      ],
      "execution_count": 422,
      "outputs": [
        {
          "output_type": "execute_result",
          "data": {
            "text/plain": [
              "Index(['Country', 'Year', 'Causes', ' Both sexes', ' Male', ' Female'], dtype='object')"
            ]
          },
          "metadata": {
            "tags": []
          },
          "execution_count": 422
        }
      ]
    },
    {
      "cell_type": "code",
      "metadata": {
        "colab": {
          "base_uri": "https://localhost:8080/"
        },
        "id": "YOMarO7h_Nwe",
        "outputId": "a61000fa-5871-4fea-f78c-b8a0763a4918"
      },
      "source": [
        "df.columns.str.strip()"
      ],
      "execution_count": 423,
      "outputs": [
        {
          "output_type": "execute_result",
          "data": {
            "text/plain": [
              "Index(['Country', 'Year', 'Causes', 'Both sexes', 'Male', 'Female'], dtype='object')"
            ]
          },
          "metadata": {
            "tags": []
          },
          "execution_count": 423
        }
      ]
    },
    {
      "cell_type": "code",
      "metadata": {
        "id": "_I3PqKSI_rVG"
      },
      "source": [
        "df.columns = df.columns.str.strip()"
      ],
      "execution_count": 424,
      "outputs": []
    },
    {
      "cell_type": "markdown",
      "metadata": {
        "id": "Id3ch7FBZpFJ"
      },
      "source": [
        "## DEAL WITH SAME ISSUE IF VALUES HAVE SOMETHING LIKE THIS ABOVE"
      ]
    },
    {
      "cell_type": "code",
      "metadata": {
        "colab": {
          "base_uri": "https://localhost:8080/"
        },
        "id": "0KZmYr9zcENz",
        "outputId": "3806a4d9-3e19-4d08-a4df-7c9a41273ef8"
      },
      "source": [
        "df.Causes.unique()"
      ],
      "execution_count": 425,
      "outputs": [
        {
          "output_type": "execute_result",
          "data": {
            "text/plain": [
              "array([' Malignant neoplasms', ' Diabetes mellitus',\n",
              "       ' Cardiovascular diseases', ' Chronic respiratory diseases'],\n",
              "      dtype=object)"
            ]
          },
          "metadata": {
            "tags": []
          },
          "execution_count": 425
        }
      ]
    },
    {
      "cell_type": "code",
      "metadata": {
        "colab": {
          "base_uri": "https://localhost:8080/"
        },
        "id": "-EioeJJtbYsO",
        "outputId": "141b33e0-5e56-4bed-e10b-677646c0caf2"
      },
      "source": [
        "df.select_dtypes(\"object\").columns"
      ],
      "execution_count": 426,
      "outputs": [
        {
          "output_type": "execute_result",
          "data": {
            "text/plain": [
              "Index(['Country', 'Causes', 'Both sexes', 'Male', 'Female'], dtype='object')"
            ]
          },
          "metadata": {
            "tags": []
          },
          "execution_count": 426
        }
      ]
    },
    {
      "cell_type": "code",
      "metadata": {
        "id": "40j1dKArZk-Y"
      },
      "source": [
        "for column in df.select_dtypes(\"object\").columns:\n",
        "  df[column] = df[column].apply(lambda x :x.strip())"
      ],
      "execution_count": 427,
      "outputs": []
    },
    {
      "cell_type": "code",
      "metadata": {
        "colab": {
          "base_uri": "https://localhost:8080/"
        },
        "id": "zxOdTEMvbtU9",
        "outputId": "6790f3d9-4273-407f-c343-f8641ae12fea"
      },
      "source": [
        "df.Causes.unique()"
      ],
      "execution_count": 428,
      "outputs": [
        {
          "output_type": "execute_result",
          "data": {
            "text/plain": [
              "array(['Malignant neoplasms', 'Diabetes mellitus',\n",
              "       'Cardiovascular diseases', 'Chronic respiratory diseases'],\n",
              "      dtype=object)"
            ]
          },
          "metadata": {
            "tags": []
          },
          "execution_count": 428
        }
      ]
    },
    {
      "cell_type": "markdown",
      "metadata": {
        "id": "PE709_O7qVKo"
      },
      "source": [
        "## CREATE NEW FEATURES FROM Both sexes, Male, Female \n",
        "* NOTE : the first number is recent and the numbers in bracket are min and max"
      ]
    },
    {
      "cell_type": "code",
      "metadata": {
        "colab": {
          "base_uri": "https://localhost:8080/"
        },
        "id": "J8LF7Q_UAueP",
        "outputId": "1f256b5e-342d-423d-932f-798e004ecfe2"
      },
      "source": [
        "df.Male"
      ],
      "execution_count": 429,
      "outputs": [
        {
          "output_type": "execute_result",
          "data": {
            "text/plain": [
              "0          7756 [3898-13841]\n",
              "1           2612 [1377-4651]\n",
              "2        33793 [20550-51028]\n",
              "3           3920 [1877-6745]\n",
              "4          7534 [3766-13454]\n",
              "                ...         \n",
              "14635         996 [603-1513]\n",
              "14636       3838 [2512-5647]\n",
              "14637         810 [507-1246]\n",
              "14638       4425 [2818-6837]\n",
              "14639         983 [605-1481]\n",
              "Name: Male, Length: 14640, dtype: object"
            ]
          },
          "metadata": {
            "tags": []
          },
          "execution_count": 429
        }
      ]
    },
    {
      "cell_type": "code",
      "metadata": {
        "colab": {
          "base_uri": "https://localhost:8080/"
        },
        "id": "59Sxbvnc_ycg",
        "outputId": "e78581ab-c218-48d1-b845-53ad8cc68ebf"
      },
      "source": [
        "df.Male.apply(lambda x : x.split()[0]).astype(\"int\")"
      ],
      "execution_count": 430,
      "outputs": [
        {
          "output_type": "execute_result",
          "data": {
            "text/plain": [
              "0         7756\n",
              "1         2612\n",
              "2        33793\n",
              "3         3920\n",
              "4         7534\n",
              "         ...  \n",
              "14635      996\n",
              "14636     3838\n",
              "14637      810\n",
              "14638     4425\n",
              "14639      983\n",
              "Name: Male, Length: 14640, dtype: int64"
            ]
          },
          "metadata": {
            "tags": []
          },
          "execution_count": 430
        }
      ]
    },
    {
      "cell_type": "code",
      "metadata": {
        "colab": {
          "base_uri": "https://localhost:8080/"
        },
        "id": "hVQCAm_rC3xU",
        "outputId": "615232d4-6cb8-48ee-9741-cd4b24f7e668"
      },
      "source": [
        "df.Male.apply(lambda x : x.split()[1].split(\"-\")[0].strip(\"[]\"))"
      ],
      "execution_count": 431,
      "outputs": [
        {
          "output_type": "execute_result",
          "data": {
            "text/plain": [
              "0         3898\n",
              "1         1377\n",
              "2        20550\n",
              "3         1877\n",
              "4         3766\n",
              "         ...  \n",
              "14635      603\n",
              "14636     2512\n",
              "14637      507\n",
              "14638     2818\n",
              "14639      605\n",
              "Name: Male, Length: 14640, dtype: object"
            ]
          },
          "metadata": {
            "tags": []
          },
          "execution_count": 431
        }
      ]
    },
    {
      "cell_type": "code",
      "metadata": {
        "colab": {
          "base_uri": "https://localhost:8080/"
        },
        "id": "7rg_UuI1EhU4",
        "outputId": "4d531407-0db3-4c5e-8e48-466f56be50d9"
      },
      "source": [
        "df.Male.apply(lambda x : x.split()[1].split(\"-\")[1].strip(\"[]\"))"
      ],
      "execution_count": 432,
      "outputs": [
        {
          "output_type": "execute_result",
          "data": {
            "text/plain": [
              "0        13841\n",
              "1         4651\n",
              "2        51028\n",
              "3         6745\n",
              "4        13454\n",
              "         ...  \n",
              "14635     1513\n",
              "14636     5647\n",
              "14637     1246\n",
              "14638     6837\n",
              "14639     1481\n",
              "Name: Male, Length: 14640, dtype: object"
            ]
          },
          "metadata": {
            "tags": []
          },
          "execution_count": 432
        }
      ]
    },
    {
      "cell_type": "code",
      "metadata": {
        "id": "LEyYuTpZ_02p"
      },
      "source": [
        "for i in df.columns[-3:]:\n",
        "  df[i+\"_recent\"] = df[i].apply(lambda x : x.split()[0]).astype(\"int\")\n",
        "  df[i+\"_min\"] = df[i].apply(lambda x : x.split()[1].split(\"-\")[0].strip(\"[]\")).astype(\"int\")\n",
        "  df[i+\"_max\"] = df[i].apply(lambda x : x.split()[1].split(\"-\")[1].strip(\"[]\")).astype(\"int\")"
      ],
      "execution_count": 433,
      "outputs": []
    },
    {
      "cell_type": "code",
      "metadata": {
        "colab": {
          "base_uri": "https://localhost:8080/",
          "height": 0
        },
        "id": "dTrry-4VCbiq",
        "outputId": "f8041ddf-52ca-48c9-c037-1dff6e909be3"
      },
      "source": [
        "df"
      ],
      "execution_count": 434,
      "outputs": [
        {
          "output_type": "execute_result",
          "data": {
            "text/html": [
              "<div>\n",
              "<style scoped>\n",
              "    .dataframe tbody tr th:only-of-type {\n",
              "        vertical-align: middle;\n",
              "    }\n",
              "\n",
              "    .dataframe tbody tr th {\n",
              "        vertical-align: top;\n",
              "    }\n",
              "\n",
              "    .dataframe thead th {\n",
              "        text-align: right;\n",
              "    }\n",
              "</style>\n",
              "<table border=\"1\" class=\"dataframe\">\n",
              "  <thead>\n",
              "    <tr style=\"text-align: right;\">\n",
              "      <th></th>\n",
              "      <th>Country</th>\n",
              "      <th>Year</th>\n",
              "      <th>Causes</th>\n",
              "      <th>Both sexes</th>\n",
              "      <th>Male</th>\n",
              "      <th>Female</th>\n",
              "      <th>Both sexes_recent</th>\n",
              "      <th>Both sexes_min</th>\n",
              "      <th>Both sexes_max</th>\n",
              "      <th>Male_recent</th>\n",
              "      <th>Male_min</th>\n",
              "      <th>Male_max</th>\n",
              "      <th>Female_recent</th>\n",
              "      <th>Female_min</th>\n",
              "      <th>Female_max</th>\n",
              "    </tr>\n",
              "  </thead>\n",
              "  <tbody>\n",
              "    <tr>\n",
              "      <th>0</th>\n",
              "      <td>Afghanistan</td>\n",
              "      <td>2019</td>\n",
              "      <td>Malignant neoplasms</td>\n",
              "      <td>15565 [7609-28280]</td>\n",
              "      <td>7756 [3898-13841]</td>\n",
              "      <td>7809 [3711-14439]</td>\n",
              "      <td>15565</td>\n",
              "      <td>7609</td>\n",
              "      <td>28280</td>\n",
              "      <td>7756</td>\n",
              "      <td>3898</td>\n",
              "      <td>13841</td>\n",
              "      <td>7809</td>\n",
              "      <td>3711</td>\n",
              "      <td>14439</td>\n",
              "    </tr>\n",
              "    <tr>\n",
              "      <th>1</th>\n",
              "      <td>Afghanistan</td>\n",
              "      <td>2019</td>\n",
              "      <td>Diabetes mellitus</td>\n",
              "      <td>8060 [3827-14468]</td>\n",
              "      <td>2612 [1377-4651]</td>\n",
              "      <td>5448 [2451-9817]</td>\n",
              "      <td>8060</td>\n",
              "      <td>3827</td>\n",
              "      <td>14468</td>\n",
              "      <td>2612</td>\n",
              "      <td>1377</td>\n",
              "      <td>4651</td>\n",
              "      <td>5448</td>\n",
              "      <td>2451</td>\n",
              "      <td>9817</td>\n",
              "    </tr>\n",
              "    <tr>\n",
              "      <th>2</th>\n",
              "      <td>Afghanistan</td>\n",
              "      <td>2019</td>\n",
              "      <td>Cardiovascular diseases</td>\n",
              "      <td>71264 [42413-108472]</td>\n",
              "      <td>33793 [20550-51028]</td>\n",
              "      <td>37471 [21863-57444]</td>\n",
              "      <td>71264</td>\n",
              "      <td>42413</td>\n",
              "      <td>108472</td>\n",
              "      <td>33793</td>\n",
              "      <td>20550</td>\n",
              "      <td>51028</td>\n",
              "      <td>37471</td>\n",
              "      <td>21863</td>\n",
              "      <td>57444</td>\n",
              "    </tr>\n",
              "    <tr>\n",
              "      <th>3</th>\n",
              "      <td>Afghanistan</td>\n",
              "      <td>2019</td>\n",
              "      <td>Chronic respiratory diseases</td>\n",
              "      <td>8285 [3618-14626]</td>\n",
              "      <td>3920 [1877-6745]</td>\n",
              "      <td>4365 [1741-7881]</td>\n",
              "      <td>8285</td>\n",
              "      <td>3618</td>\n",
              "      <td>14626</td>\n",
              "      <td>3920</td>\n",
              "      <td>1877</td>\n",
              "      <td>6745</td>\n",
              "      <td>4365</td>\n",
              "      <td>1741</td>\n",
              "      <td>7881</td>\n",
              "    </tr>\n",
              "    <tr>\n",
              "      <th>4</th>\n",
              "      <td>Afghanistan</td>\n",
              "      <td>2018</td>\n",
              "      <td>Malignant neoplasms</td>\n",
              "      <td>15065 [7337-27401]</td>\n",
              "      <td>7534 [3766-13454]</td>\n",
              "      <td>7531 [3570-13948]</td>\n",
              "      <td>15065</td>\n",
              "      <td>7337</td>\n",
              "      <td>27401</td>\n",
              "      <td>7534</td>\n",
              "      <td>3766</td>\n",
              "      <td>13454</td>\n",
              "      <td>7531</td>\n",
              "      <td>3570</td>\n",
              "      <td>13948</td>\n",
              "    </tr>\n",
              "    <tr>\n",
              "      <th>...</th>\n",
              "      <td>...</td>\n",
              "      <td>...</td>\n",
              "      <td>...</td>\n",
              "      <td>...</td>\n",
              "      <td>...</td>\n",
              "      <td>...</td>\n",
              "      <td>...</td>\n",
              "      <td>...</td>\n",
              "      <td>...</td>\n",
              "      <td>...</td>\n",
              "      <td>...</td>\n",
              "      <td>...</td>\n",
              "      <td>...</td>\n",
              "      <td>...</td>\n",
              "      <td>...</td>\n",
              "    </tr>\n",
              "    <tr>\n",
              "      <th>14635</th>\n",
              "      <td>Zimbabwe</td>\n",
              "      <td>2001</td>\n",
              "      <td>Chronic respiratory diseases</td>\n",
              "      <td>1884 [1044-3046]</td>\n",
              "      <td>996 [603-1513]</td>\n",
              "      <td>887 [441-1533]</td>\n",
              "      <td>1884</td>\n",
              "      <td>1044</td>\n",
              "      <td>3046</td>\n",
              "      <td>996</td>\n",
              "      <td>603</td>\n",
              "      <td>1513</td>\n",
              "      <td>887</td>\n",
              "      <td>441</td>\n",
              "      <td>1533</td>\n",
              "    </tr>\n",
              "    <tr>\n",
              "      <th>14636</th>\n",
              "      <td>Zimbabwe</td>\n",
              "      <td>2000</td>\n",
              "      <td>Malignant neoplasms</td>\n",
              "      <td>7474 [4592-11441]</td>\n",
              "      <td>3838 [2512-5647]</td>\n",
              "      <td>3636 [2080-5794]</td>\n",
              "      <td>7474</td>\n",
              "      <td>4592</td>\n",
              "      <td>11441</td>\n",
              "      <td>3838</td>\n",
              "      <td>2512</td>\n",
              "      <td>5647</td>\n",
              "      <td>3636</td>\n",
              "      <td>2080</td>\n",
              "      <td>5794</td>\n",
              "    </tr>\n",
              "    <tr>\n",
              "      <th>14637</th>\n",
              "      <td>Zimbabwe</td>\n",
              "      <td>2000</td>\n",
              "      <td>Diabetes mellitus</td>\n",
              "      <td>2039 [1227-3219]</td>\n",
              "      <td>810 [507-1246]</td>\n",
              "      <td>1229 [720-1972]</td>\n",
              "      <td>2039</td>\n",
              "      <td>1227</td>\n",
              "      <td>3219</td>\n",
              "      <td>810</td>\n",
              "      <td>507</td>\n",
              "      <td>1246</td>\n",
              "      <td>1229</td>\n",
              "      <td>720</td>\n",
              "      <td>1972</td>\n",
              "    </tr>\n",
              "    <tr>\n",
              "      <th>14638</th>\n",
              "      <td>Zimbabwe</td>\n",
              "      <td>2000</td>\n",
              "      <td>Cardiovascular diseases</td>\n",
              "      <td>10368 [6335-16076]</td>\n",
              "      <td>4425 [2818-6837]</td>\n",
              "      <td>5943 [3516-9239]</td>\n",
              "      <td>10368</td>\n",
              "      <td>6335</td>\n",
              "      <td>16076</td>\n",
              "      <td>4425</td>\n",
              "      <td>2818</td>\n",
              "      <td>6837</td>\n",
              "      <td>5943</td>\n",
              "      <td>3516</td>\n",
              "      <td>9239</td>\n",
              "    </tr>\n",
              "    <tr>\n",
              "      <th>14639</th>\n",
              "      <td>Zimbabwe</td>\n",
              "      <td>2000</td>\n",
              "      <td>Chronic respiratory diseases</td>\n",
              "      <td>1861 [1039-2993]</td>\n",
              "      <td>983 [605-1481]</td>\n",
              "      <td>878 [435-1513]</td>\n",
              "      <td>1861</td>\n",
              "      <td>1039</td>\n",
              "      <td>2993</td>\n",
              "      <td>983</td>\n",
              "      <td>605</td>\n",
              "      <td>1481</td>\n",
              "      <td>878</td>\n",
              "      <td>435</td>\n",
              "      <td>1513</td>\n",
              "    </tr>\n",
              "  </tbody>\n",
              "</table>\n",
              "<p>14640 rows × 15 columns</p>\n",
              "</div>"
            ],
            "text/plain": [
              "           Country  Year  ... Female_min Female_max\n",
              "0      Afghanistan  2019  ...       3711      14439\n",
              "1      Afghanistan  2019  ...       2451       9817\n",
              "2      Afghanistan  2019  ...      21863      57444\n",
              "3      Afghanistan  2019  ...       1741       7881\n",
              "4      Afghanistan  2018  ...       3570      13948\n",
              "...            ...   ...  ...        ...        ...\n",
              "14635     Zimbabwe  2001  ...        441       1533\n",
              "14636     Zimbabwe  2000  ...       2080       5794\n",
              "14637     Zimbabwe  2000  ...        720       1972\n",
              "14638     Zimbabwe  2000  ...       3516       9239\n",
              "14639     Zimbabwe  2000  ...        435       1513\n",
              "\n",
              "[14640 rows x 15 columns]"
            ]
          },
          "metadata": {
            "tags": []
          },
          "execution_count": 434
        }
      ]
    },
    {
      "cell_type": "code",
      "metadata": {
        "colab": {
          "base_uri": "https://localhost:8080/",
          "height": 0
        },
        "cellView": "form",
        "id": "vwgxntNQ5gyV",
        "outputId": "c2d57579-9611-473b-b54a-2007f03fdc51"
      },
      "source": [
        "#@title\n",
        "fig, ax = plt.subplots()\n",
        "ax = sns.lineplot(y = df[(df.Country == \"Afghanistan\") & (df.Causes == \"Malignant neoplasms\")][\"Both sexes_min\"], x =df[(df.Country == \"Afghanistan\") & (df.Causes == \"Malignant neoplasms\")][\"Year\"])\n",
        "ax = sns.lineplot(y = df[(df.Country == \"Afghanistan\") & (df.Causes == \"Malignant neoplasms\")][\"Both sexes_max\"], x =df[(df.Country == \"Afghanistan\") & (df.Causes == \"Malignant neoplasms\")][\"Year\"])\n",
        "ax = sns.lineplot(y = df[(df.Country == \"Afghanistan\") & (df.Causes == \"Malignant neoplasms\")][\"Both sexes_recent\"], x =df[(df.Country == \"Afghanistan\") & (df.Causes == \"Malignant neoplasms\")][\"Year\"])\n",
        "\n",
        "\n"
      ],
      "execution_count": 435,
      "outputs": [
        {
          "output_type": "display_data",
          "data": {
            "application/javascript": [
              "\n",
              "        if (window._pyforest_update_imports_cell) { window._pyforest_update_imports_cell('import spacy\\nfrom sklearn import svm\\nimport matplotlib.pyplot as plt\\nimport glob\\nimport statistics\\nimport seaborn as sns\\nimport plotly.graph_objs as go\\nimport plotly.express as px\\nimport pandas as pd\\nimport re\\nimport numpy as np\\nimport pickle\\nimport matplotlib as mpl\\nimport altair as alt\\nimport nltk\\nimport sys\\nimport lightgbm as lgb\\nimport bokeh\\nfrom pathlib import Path\\nimport pydot\\nimport plotly as py\\nfrom openpyxl import load_workbook\\nimport sklearn\\nimport gensim'); }\n",
              "    "
            ],
            "text/plain": [
              "<IPython.core.display.Javascript object>"
            ]
          },
          "metadata": {
            "tags": []
          }
        },
        {
          "output_type": "display_data",
          "data": {
            "application/javascript": [
              "\n",
              "        if (window._pyforest_update_imports_cell) { window._pyforest_update_imports_cell('import spacy\\nfrom sklearn import svm\\nimport matplotlib.pyplot as plt\\nimport glob\\nimport statistics\\nimport seaborn as sns\\nimport plotly.graph_objs as go\\nimport plotly.express as px\\nimport pandas as pd\\nimport re\\nimport numpy as np\\nimport pickle\\nimport matplotlib as mpl\\nimport altair as alt\\nimport nltk\\nimport sys\\nimport lightgbm as lgb\\nimport bokeh\\nfrom pathlib import Path\\nimport pydot\\nimport plotly as py\\nfrom openpyxl import load_workbook\\nimport sklearn\\nimport gensim'); }\n",
              "    "
            ],
            "text/plain": [
              "<IPython.core.display.Javascript object>"
            ]
          },
          "metadata": {
            "tags": []
          }
        },
        {
          "output_type": "display_data",
          "data": {
            "application/javascript": [
              "\n",
              "        if (window._pyforest_update_imports_cell) { window._pyforest_update_imports_cell('import spacy\\nfrom sklearn import svm\\nimport matplotlib.pyplot as plt\\nimport glob\\nimport statistics\\nimport seaborn as sns\\nimport plotly.graph_objs as go\\nimport plotly.express as px\\nimport pandas as pd\\nimport re\\nimport numpy as np\\nimport pickle\\nimport matplotlib as mpl\\nimport altair as alt\\nimport nltk\\nimport sys\\nimport lightgbm as lgb\\nimport bokeh\\nfrom pathlib import Path\\nimport pydot\\nimport plotly as py\\nfrom openpyxl import load_workbook\\nimport sklearn\\nimport gensim'); }\n",
              "    "
            ],
            "text/plain": [
              "<IPython.core.display.Javascript object>"
            ]
          },
          "metadata": {
            "tags": []
          }
        },
        {
          "output_type": "display_data",
          "data": {
            "application/javascript": [
              "\n",
              "        if (window._pyforest_update_imports_cell) { window._pyforest_update_imports_cell('import spacy\\nfrom sklearn import svm\\nimport matplotlib.pyplot as plt\\nimport glob\\nimport statistics\\nimport seaborn as sns\\nimport plotly.graph_objs as go\\nimport plotly.express as px\\nimport pandas as pd\\nimport re\\nimport numpy as np\\nimport pickle\\nimport matplotlib as mpl\\nimport altair as alt\\nimport nltk\\nimport sys\\nimport lightgbm as lgb\\nimport bokeh\\nfrom pathlib import Path\\nimport pydot\\nimport plotly as py\\nfrom openpyxl import load_workbook\\nimport sklearn\\nimport gensim'); }\n",
              "    "
            ],
            "text/plain": [
              "<IPython.core.display.Javascript object>"
            ]
          },
          "metadata": {
            "tags": []
          }
        },
        {
          "output_type": "display_data",
          "data": {
            "image/png": "[encoded data removed]",
            "text/plain": [
              "<Figure size 432x288 with 1 Axes>"
            ]
          },
          "metadata": {
            "tags": [],
            "needs_background": "light"
          }
        }
      ]
    },
    {
      "cell_type": "markdown",
      "metadata": {
        "id": "Pfly3jfcrieu"
      },
      "source": [
        "## DROP UNNECESSARY FEATURES"
      ]
    },
    {
      "cell_type": "code",
      "metadata": {
        "id": "2-LFh1pTCcZX"
      },
      "source": [
        "df_rearanged = df.drop(df.columns[3:6],axis=1)"
      ],
      "execution_count": 436,
      "outputs": []
    },
    {
      "cell_type": "code",
      "metadata": {
        "colab": {
          "base_uri": "https://localhost:8080/",
          "height": 0
        },
        "id": "_ICnsGfGE5dy",
        "outputId": "47d93e33-028e-4de4-afef-a7d832277f87"
      },
      "source": [
        "df_rearanged"
      ],
      "execution_count": 437,
      "outputs": [
        {
          "output_type": "execute_result",
          "data": {
            "text/html": [
              "<div>\n",
              "<style scoped>\n",
              "    .dataframe tbody tr th:only-of-type {\n",
              "        vertical-align: middle;\n",
              "    }\n",
              "\n",
              "    .dataframe tbody tr th {\n",
              "        vertical-align: top;\n",
              "    }\n",
              "\n",
              "    .dataframe thead th {\n",
              "        text-align: right;\n",
              "    }\n",
              "</style>\n",
              "<table border=\"1\" class=\"dataframe\">\n",
              "  <thead>\n",
              "    <tr style=\"text-align: right;\">\n",
              "      <th></th>\n",
              "      <th>Country</th>\n",
              "      <th>Year</th>\n",
              "      <th>Causes</th>\n",
              "      <th>Both sexes_recent</th>\n",
              "      <th>Both sexes_min</th>\n",
              "      <th>Both sexes_max</th>\n",
              "      <th>Male_recent</th>\n",
              "      <th>Male_min</th>\n",
              "      <th>Male_max</th>\n",
              "      <th>Female_recent</th>\n",
              "      <th>Female_min</th>\n",
              "      <th>Female_max</th>\n",
              "    </tr>\n",
              "  </thead>\n",
              "  <tbody>\n",
              "    <tr>\n",
              "      <th>0</th>\n",
              "      <td>Afghanistan</td>\n",
              "      <td>2019</td>\n",
              "      <td>Malignant neoplasms</td>\n",
              "      <td>15565</td>\n",
              "      <td>7609</td>\n",
              "      <td>28280</td>\n",
              "      <td>7756</td>\n",
              "      <td>3898</td>\n",
              "      <td>13841</td>\n",
              "      <td>7809</td>\n",
              "      <td>3711</td>\n",
              "      <td>14439</td>\n",
              "    </tr>\n",
              "    <tr>\n",
              "      <th>1</th>\n",
              "      <td>Afghanistan</td>\n",
              "      <td>2019</td>\n",
              "      <td>Diabetes mellitus</td>\n",
              "      <td>8060</td>\n",
              "      <td>3827</td>\n",
              "      <td>14468</td>\n",
              "      <td>2612</td>\n",
              "      <td>1377</td>\n",
              "      <td>4651</td>\n",
              "      <td>5448</td>\n",
              "      <td>2451</td>\n",
              "      <td>9817</td>\n",
              "    </tr>\n",
              "    <tr>\n",
              "      <th>2</th>\n",
              "      <td>Afghanistan</td>\n",
              "      <td>2019</td>\n",
              "      <td>Cardiovascular diseases</td>\n",
              "      <td>71264</td>\n",
              "      <td>42413</td>\n",
              "      <td>108472</td>\n",
              "      <td>33793</td>\n",
              "      <td>20550</td>\n",
              "      <td>51028</td>\n",
              "      <td>37471</td>\n",
              "      <td>21863</td>\n",
              "      <td>57444</td>\n",
              "    </tr>\n",
              "    <tr>\n",
              "      <th>3</th>\n",
              "      <td>Afghanistan</td>\n",
              "      <td>2019</td>\n",
              "      <td>Chronic respiratory diseases</td>\n",
              "      <td>8285</td>\n",
              "      <td>3618</td>\n",
              "      <td>14626</td>\n",
              "      <td>3920</td>\n",
              "      <td>1877</td>\n",
              "      <td>6745</td>\n",
              "      <td>4365</td>\n",
              "      <td>1741</td>\n",
              "      <td>7881</td>\n",
              "    </tr>\n",
              "    <tr>\n",
              "      <th>4</th>\n",
              "      <td>Afghanistan</td>\n",
              "      <td>2018</td>\n",
              "      <td>Malignant neoplasms</td>\n",
              "      <td>15065</td>\n",
              "      <td>7337</td>\n",
              "      <td>27401</td>\n",
              "      <td>7534</td>\n",
              "      <td>3766</td>\n",
              "      <td>13454</td>\n",
              "      <td>7531</td>\n",
              "      <td>3570</td>\n",
              "      <td>13948</td>\n",
              "    </tr>\n",
              "    <tr>\n",
              "      <th>...</th>\n",
              "      <td>...</td>\n",
              "      <td>...</td>\n",
              "      <td>...</td>\n",
              "      <td>...</td>\n",
              "      <td>...</td>\n",
              "      <td>...</td>\n",
              "      <td>...</td>\n",
              "      <td>...</td>\n",
              "      <td>...</td>\n",
              "      <td>...</td>\n",
              "      <td>...</td>\n",
              "      <td>...</td>\n",
              "    </tr>\n",
              "    <tr>\n",
              "      <th>14635</th>\n",
              "      <td>Zimbabwe</td>\n",
              "      <td>2001</td>\n",
              "      <td>Chronic respiratory diseases</td>\n",
              "      <td>1884</td>\n",
              "      <td>1044</td>\n",
              "      <td>3046</td>\n",
              "      <td>996</td>\n",
              "      <td>603</td>\n",
              "      <td>1513</td>\n",
              "      <td>887</td>\n",
              "      <td>441</td>\n",
              "      <td>1533</td>\n",
              "    </tr>\n",
              "    <tr>\n",
              "      <th>14636</th>\n",
              "      <td>Zimbabwe</td>\n",
              "      <td>2000</td>\n",
              "      <td>Malignant neoplasms</td>\n",
              "      <td>7474</td>\n",
              "      <td>4592</td>\n",
              "      <td>11441</td>\n",
              "      <td>3838</td>\n",
              "      <td>2512</td>\n",
              "      <td>5647</td>\n",
              "      <td>3636</td>\n",
              "      <td>2080</td>\n",
              "      <td>5794</td>\n",
              "    </tr>\n",
              "    <tr>\n",
              "      <th>14637</th>\n",
              "      <td>Zimbabwe</td>\n",
              "      <td>2000</td>\n",
              "      <td>Diabetes mellitus</td>\n",
              "      <td>2039</td>\n",
              "      <td>1227</td>\n",
              "      <td>3219</td>\n",
              "      <td>810</td>\n",
              "      <td>507</td>\n",
              "      <td>1246</td>\n",
              "      <td>1229</td>\n",
              "      <td>720</td>\n",
              "      <td>1972</td>\n",
              "    </tr>\n",
              "    <tr>\n",
              "      <th>14638</th>\n",
              "      <td>Zimbabwe</td>\n",
              "      <td>2000</td>\n",
              "      <td>Cardiovascular diseases</td>\n",
              "      <td>10368</td>\n",
              "      <td>6335</td>\n",
              "      <td>16076</td>\n",
              "      <td>4425</td>\n",
              "      <td>2818</td>\n",
              "      <td>6837</td>\n",
              "      <td>5943</td>\n",
              "      <td>3516</td>\n",
              "      <td>9239</td>\n",
              "    </tr>\n",
              "    <tr>\n",
              "      <th>14639</th>\n",
              "      <td>Zimbabwe</td>\n",
              "      <td>2000</td>\n",
              "      <td>Chronic respiratory diseases</td>\n",
              "      <td>1861</td>\n",
              "      <td>1039</td>\n",
              "      <td>2993</td>\n",
              "      <td>983</td>\n",
              "      <td>605</td>\n",
              "      <td>1481</td>\n",
              "      <td>878</td>\n",
              "      <td>435</td>\n",
              "      <td>1513</td>\n",
              "    </tr>\n",
              "  </tbody>\n",
              "</table>\n",
              "<p>14640 rows × 12 columns</p>\n",
              "</div>"
            ],
            "text/plain": [
              "           Country  Year  ... Female_min  Female_max\n",
              "0      Afghanistan  2019  ...       3711       14439\n",
              "1      Afghanistan  2019  ...       2451        9817\n",
              "2      Afghanistan  2019  ...      21863       57444\n",
              "3      Afghanistan  2019  ...       1741        7881\n",
              "4      Afghanistan  2018  ...       3570       13948\n",
              "...            ...   ...  ...        ...         ...\n",
              "14635     Zimbabwe  2001  ...        441        1533\n",
              "14636     Zimbabwe  2000  ...       2080        5794\n",
              "14637     Zimbabwe  2000  ...        720        1972\n",
              "14638     Zimbabwe  2000  ...       3516        9239\n",
              "14639     Zimbabwe  2000  ...        435        1513\n",
              "\n",
              "[14640 rows x 12 columns]"
            ]
          },
          "metadata": {
            "tags": []
          },
          "execution_count": 437
        }
      ]
    },
    {
      "cell_type": "markdown",
      "metadata": {
        "id": "7I7mTxEFtGfa"
      },
      "source": [
        "## DESCRIPTIVE ANALYSIS"
      ]
    },
    {
      "cell_type": "code",
      "metadata": {
        "colab": {
          "base_uri": "https://localhost:8080/"
        },
        "id": "6zcMdUWYFUGI",
        "outputId": "3681208f-549a-4957-a727-6d7266dc5399"
      },
      "source": [
        "df_rearanged.isnull().any()"
      ],
      "execution_count": 438,
      "outputs": [
        {
          "output_type": "execute_result",
          "data": {
            "text/plain": [
              "Country              False\n",
              "Year                 False\n",
              "Causes               False\n",
              "Both sexes_recent    False\n",
              "Both sexes_min       False\n",
              "Both sexes_max       False\n",
              "Male_recent          False\n",
              "Male_min             False\n",
              "Male_max             False\n",
              "Female_recent        False\n",
              "Female_min           False\n",
              "Female_max           False\n",
              "dtype: bool"
            ]
          },
          "metadata": {
            "tags": []
          },
          "execution_count": 438
        }
      ]
    },
    {
      "cell_type": "code",
      "metadata": {
        "colab": {
          "base_uri": "https://localhost:8080/",
          "height": 0
        },
        "id": "Vrdy8pzOFahj",
        "outputId": "86cffd48-1407-49f1-9b24-e443317c67f5"
      },
      "source": [
        "pd.options.display.float_format = '{:,.0f}'.format\n",
        "df_rearanged.describe()\n"
      ],
      "execution_count": 439,
      "outputs": [
        {
          "output_type": "display_data",
          "data": {
            "application/javascript": [
              "\n",
              "        if (window._pyforest_update_imports_cell) { window._pyforest_update_imports_cell('import spacy\\nfrom sklearn import svm\\nimport matplotlib.pyplot as plt\\nimport glob\\nimport statistics\\nimport seaborn as sns\\nimport plotly.graph_objs as go\\nimport plotly.express as px\\nimport pandas as pd\\nimport re\\nimport numpy as np\\nimport pickle\\nimport matplotlib as mpl\\nimport altair as alt\\nimport nltk\\nimport sys\\nimport lightgbm as lgb\\nimport bokeh\\nfrom pathlib import Path\\nimport pydot\\nimport plotly as py\\nfrom openpyxl import load_workbook\\nimport sklearn\\nimport gensim'); }\n",
              "    "
            ],
            "text/plain": [
              "<IPython.core.display.Javascript object>"
            ]
          },
          "metadata": {
            "tags": []
          }
        },
        {
          "output_type": "execute_result",
          "data": {
            "text/html": [
              "<div>\n",
              "<style scoped>\n",
              "    .dataframe tbody tr th:only-of-type {\n",
              "        vertical-align: middle;\n",
              "    }\n",
              "\n",
              "    .dataframe tbody tr th {\n",
              "        vertical-align: top;\n",
              "    }\n",
              "\n",
              "    .dataframe thead th {\n",
              "        text-align: right;\n",
              "    }\n",
              "</style>\n",
              "<table border=\"1\" class=\"dataframe\">\n",
              "  <thead>\n",
              "    <tr style=\"text-align: right;\">\n",
              "      <th></th>\n",
              "      <th>Year</th>\n",
              "      <th>Both sexes_recent</th>\n",
              "      <th>Both sexes_min</th>\n",
              "      <th>Both sexes_max</th>\n",
              "      <th>Male_recent</th>\n",
              "      <th>Male_min</th>\n",
              "      <th>Male_max</th>\n",
              "      <th>Female_recent</th>\n",
              "      <th>Female_min</th>\n",
              "      <th>Female_max</th>\n",
              "    </tr>\n",
              "  </thead>\n",
              "  <tbody>\n",
              "    <tr>\n",
              "      <th>count</th>\n",
              "      <td>14,640</td>\n",
              "      <td>14,640</td>\n",
              "      <td>14,640</td>\n",
              "      <td>14,640</td>\n",
              "      <td>14,640</td>\n",
              "      <td>14,640</td>\n",
              "      <td>14,640</td>\n",
              "      <td>14,640</td>\n",
              "      <td>14,640</td>\n",
              "      <td>14,640</td>\n",
              "    </tr>\n",
              "    <tr>\n",
              "      <th>mean</th>\n",
              "      <td>2,010</td>\n",
              "      <td>39,983</td>\n",
              "      <td>31,587</td>\n",
              "      <td>49,221</td>\n",
              "      <td>21,311</td>\n",
              "      <td>17,140</td>\n",
              "      <td>26,038</td>\n",
              "      <td>18,672</td>\n",
              "      <td>14,447</td>\n",
              "      <td>23,183</td>\n",
              "    </tr>\n",
              "    <tr>\n",
              "      <th>std</th>\n",
              "      <td>6</td>\n",
              "      <td>198,613</td>\n",
              "      <td>165,303</td>\n",
              "      <td>232,468</td>\n",
              "      <td>112,578</td>\n",
              "      <td>94,515</td>\n",
              "      <td>131,513</td>\n",
              "      <td>87,033</td>\n",
              "      <td>71,645</td>\n",
              "      <td>102,106</td>\n",
              "    </tr>\n",
              "    <tr>\n",
              "      <th>min</th>\n",
              "      <td>2,000</td>\n",
              "      <td>13</td>\n",
              "      <td>8</td>\n",
              "      <td>18</td>\n",
              "      <td>7</td>\n",
              "      <td>4</td>\n",
              "      <td>11</td>\n",
              "      <td>5</td>\n",
              "      <td>3</td>\n",
              "      <td>6</td>\n",
              "    </tr>\n",
              "    <tr>\n",
              "      <th>25%</th>\n",
              "      <td>2,005</td>\n",
              "      <td>997</td>\n",
              "      <td>641</td>\n",
              "      <td>1,452</td>\n",
              "      <td>516</td>\n",
              "      <td>332</td>\n",
              "      <td>732</td>\n",
              "      <td>461</td>\n",
              "      <td>298</td>\n",
              "      <td>680</td>\n",
              "    </tr>\n",
              "    <tr>\n",
              "      <th>50%</th>\n",
              "      <td>2,010</td>\n",
              "      <td>4,478</td>\n",
              "      <td>2,842</td>\n",
              "      <td>6,454</td>\n",
              "      <td>2,259</td>\n",
              "      <td>1,456</td>\n",
              "      <td>3,188</td>\n",
              "      <td>2,104</td>\n",
              "      <td>1,354</td>\n",
              "      <td>3,102</td>\n",
              "    </tr>\n",
              "    <tr>\n",
              "      <th>75%</th>\n",
              "      <td>2,014</td>\n",
              "      <td>18,375</td>\n",
              "      <td>13,010</td>\n",
              "      <td>25,051</td>\n",
              "      <td>9,246</td>\n",
              "      <td>6,642</td>\n",
              "      <td>12,145</td>\n",
              "      <td>8,979</td>\n",
              "      <td>6,130</td>\n",
              "      <td>12,286</td>\n",
              "    </tr>\n",
              "    <tr>\n",
              "      <th>max</th>\n",
              "      <td>2,019</td>\n",
              "      <td>4,306,536</td>\n",
              "      <td>3,385,792</td>\n",
              "      <td>5,228,328</td>\n",
              "      <td>2,429,441</td>\n",
              "      <td>1,922,224</td>\n",
              "      <td>2,945,644</td>\n",
              "      <td>1,877,096</td>\n",
              "      <td>1,463,568</td>\n",
              "      <td>2,282,684</td>\n",
              "    </tr>\n",
              "  </tbody>\n",
              "</table>\n",
              "</div>"
            ],
            "text/plain": [
              "        Year  Both sexes_recent  ...  Female_min  Female_max\n",
              "count 14,640             14,640  ...      14,640      14,640\n",
              "mean   2,010             39,983  ...      14,447      23,183\n",
              "std        6            198,613  ...      71,645     102,106\n",
              "min    2,000                 13  ...           3           6\n",
              "25%    2,005                997  ...         298         680\n",
              "50%    2,010              4,478  ...       1,354       3,102\n",
              "75%    2,014             18,375  ...       6,130      12,286\n",
              "max    2,019          4,306,536  ...   1,463,568   2,282,684\n",
              "\n",
              "[8 rows x 10 columns]"
            ]
          },
          "metadata": {
            "tags": []
          },
          "execution_count": 439
        }
      ]
    },
    {
      "cell_type": "code",
      "metadata": {
        "id": "BgyUx1_PyoUK"
      },
      "source": [
        ""
      ],
      "execution_count": 439,
      "outputs": []
    },
    {
      "cell_type": "code",
      "metadata": {
        "colab": {
          "base_uri": "https://localhost:8080/",
          "height": 0
        },
        "id": "mg2IszLEFh1Y",
        "outputId": "768cb31d-47b7-4f40-f606-d5a9db2f1ce8"
      },
      "source": [
        "df_rearanged[df_rearanged[\"Both sexes_recent\"] == df_rearanged[\"Both sexes_recent\"].max() ]"
      ],
      "execution_count": 440,
      "outputs": [
        {
          "output_type": "execute_result",
          "data": {
            "text/html": [
              "<div>\n",
              "<style scoped>\n",
              "    .dataframe tbody tr th:only-of-type {\n",
              "        vertical-align: middle;\n",
              "    }\n",
              "\n",
              "    .dataframe tbody tr th {\n",
              "        vertical-align: top;\n",
              "    }\n",
              "\n",
              "    .dataframe thead th {\n",
              "        text-align: right;\n",
              "    }\n",
              "</style>\n",
              "<table border=\"1\" class=\"dataframe\">\n",
              "  <thead>\n",
              "    <tr style=\"text-align: right;\">\n",
              "      <th></th>\n",
              "      <th>Country</th>\n",
              "      <th>Year</th>\n",
              "      <th>Causes</th>\n",
              "      <th>Both sexes_recent</th>\n",
              "      <th>Both sexes_min</th>\n",
              "      <th>Both sexes_max</th>\n",
              "      <th>Male_recent</th>\n",
              "      <th>Male_min</th>\n",
              "      <th>Male_max</th>\n",
              "      <th>Female_recent</th>\n",
              "      <th>Female_min</th>\n",
              "      <th>Female_max</th>\n",
              "    </tr>\n",
              "  </thead>\n",
              "  <tbody>\n",
              "    <tr>\n",
              "      <th>2722</th>\n",
              "      <td>China</td>\n",
              "      <td>2019</td>\n",
              "      <td>Cardiovascular diseases</td>\n",
              "      <td>4306536</td>\n",
              "      <td>3385792</td>\n",
              "      <td>5228328</td>\n",
              "      <td>2429441</td>\n",
              "      <td>1922224</td>\n",
              "      <td>2945644</td>\n",
              "      <td>1877096</td>\n",
              "      <td>1463568</td>\n",
              "      <td>2282684</td>\n",
              "    </tr>\n",
              "  </tbody>\n",
              "</table>\n",
              "</div>"
            ],
            "text/plain": [
              "     Country  Year  ... Female_min  Female_max\n",
              "2722   China  2019  ...    1463568     2282684\n",
              "\n",
              "[1 rows x 12 columns]"
            ]
          },
          "metadata": {
            "tags": []
          },
          "execution_count": 440
        }
      ]
    },
    {
      "cell_type": "code",
      "metadata": {
        "colab": {
          "base_uri": "https://localhost:8080/",
          "height": 0
        },
        "id": "XVlxszNSc4Ek",
        "outputId": "ac7f1ae1-436f-4217-8c19-0cdb577768ee"
      },
      "source": [
        "df_rearanged[df_rearanged[\"Both sexes_recent\"] == df_rearanged[\"Both sexes_recent\"].min() ]"
      ],
      "execution_count": 441,
      "outputs": [
        {
          "output_type": "execute_result",
          "data": {
            "text/html": [
              "<div>\n",
              "<style scoped>\n",
              "    .dataframe tbody tr th:only-of-type {\n",
              "        vertical-align: middle;\n",
              "    }\n",
              "\n",
              "    .dataframe tbody tr th {\n",
              "        vertical-align: top;\n",
              "    }\n",
              "\n",
              "    .dataframe thead th {\n",
              "        text-align: right;\n",
              "    }\n",
              "</style>\n",
              "<table border=\"1\" class=\"dataframe\">\n",
              "  <thead>\n",
              "    <tr style=\"text-align: right;\">\n",
              "      <th></th>\n",
              "      <th>Country</th>\n",
              "      <th>Year</th>\n",
              "      <th>Causes</th>\n",
              "      <th>Both sexes_recent</th>\n",
              "      <th>Both sexes_min</th>\n",
              "      <th>Both sexes_max</th>\n",
              "      <th>Male_recent</th>\n",
              "      <th>Male_min</th>\n",
              "      <th>Male_max</th>\n",
              "      <th>Female_recent</th>\n",
              "      <th>Female_min</th>\n",
              "      <th>Female_max</th>\n",
              "    </tr>\n",
              "  </thead>\n",
              "  <tbody>\n",
              "    <tr>\n",
              "      <th>387</th>\n",
              "      <td>Antigua and Barbuda</td>\n",
              "      <td>2003</td>\n",
              "      <td>Chronic respiratory diseases</td>\n",
              "      <td>13</td>\n",
              "      <td>9</td>\n",
              "      <td>18</td>\n",
              "      <td>8</td>\n",
              "      <td>6</td>\n",
              "      <td>11</td>\n",
              "      <td>5</td>\n",
              "      <td>3</td>\n",
              "      <td>6</td>\n",
              "    </tr>\n",
              "  </tbody>\n",
              "</table>\n",
              "</div>"
            ],
            "text/plain": [
              "                 Country  Year  ... Female_min  Female_max\n",
              "387  Antigua and Barbuda  2003  ...          3           6\n",
              "\n",
              "[1 rows x 12 columns]"
            ]
          },
          "metadata": {
            "tags": []
          },
          "execution_count": 441
        }
      ]
    },
    {
      "cell_type": "code",
      "metadata": {
        "colab": {
          "base_uri": "https://localhost:8080/"
        },
        "id": "j0dddEfmyv5W",
        "outputId": "cd03638d-1439-4baf-a7e8-7f551fa5cc29"
      },
      "source": [
        "print(df_rearanged[(df_rearanged[\"Both sexes_recent\"] > 44442) & (df_rearanged[\"Male_recent\"] > 22341) & (df_rearanged[\"Female_recent\"] > 21756)].Country.unique()) # IQR calculated manually\n"
      ],
      "execution_count": 442,
      "outputs": [
        {
          "output_type": "stream",
          "text": [
            "['Afghanistan' 'Algeria' 'Argentina' 'Australia' 'Azerbaijan' 'Bangladesh'\n",
            " 'Belarus' 'Brazil' 'Bulgaria' 'Canada' 'China' 'Colombia' 'Czechia'\n",
            " \"Democratic People's Republic of Korea\"\n",
            " 'Democratic Republic of the Congo' 'Egypt' 'Ethiopia' 'France' 'Germany'\n",
            " 'Greece' 'Hungary' 'India' 'Indonesia' 'Iran (Islamic Republic of)'\n",
            " 'Iraq' 'Italy' 'Japan' 'Kazakhstan' 'Malaysia' 'Mexico' 'Morocco'\n",
            " 'Myanmar' 'Netherlands' 'Nigeria' 'Pakistan' 'Philippines' 'Poland'\n",
            " 'Republic of Korea' 'Romania' 'Russian Federation' 'Saudi Arabia'\n",
            " 'Serbia' 'South Africa' 'Spain' 'Sudan' 'Thailand' 'Turkey' 'Ukraine'\n",
            " 'United Kingdom of Great Britain and Northern Ireland'\n",
            " 'United States of America' 'Uzbekistan'\n",
            " 'Venezuela (Bolivarian Republic of)' 'Viet Nam' 'Yemen']\n"
          ],
          "name": "stdout"
        }
      ]
    },
    {
      "cell_type": "markdown",
      "metadata": {
        "id": "UXYMxibY9-n2"
      },
      "source": [
        "## PIVOT TABLE\n",
        "\n",
        "* We are looking for how the Diabetes mellitus\tavarege rate changed 2000 to 2019."
      ]
    },
    {
      "cell_type": "code",
      "metadata": {
        "colab": {
          "base_uri": "https://localhost:8080/",
          "height": 0
        },
        "id": "huxDPXKFw7xA",
        "outputId": "46c8225e-0a68-4ea2-e8b1-86a82ca43961"
      },
      "source": [
        "df_rearanged_pivot = pd.pivot_table(df_rearanged,values= ['Both sexes_recent', 'Both sexes_min', 'Both sexes_max', 'Male_recent',\n",
        "       'Male_min', 'Male_max', 'Female_recent', 'Female_min', 'Female_max'], index=['Country', 'Year', 'Causes'])"
      ],
      "execution_count": 443,
      "outputs": [
        {
          "output_type": "display_data",
          "data": {
            "application/javascript": [
              "\n",
              "        if (window._pyforest_update_imports_cell) { window._pyforest_update_imports_cell('import spacy\\nfrom sklearn import svm\\nimport matplotlib.pyplot as plt\\nimport glob\\nimport statistics\\nimport seaborn as sns\\nimport plotly.graph_objs as go\\nimport plotly.express as px\\nimport pandas as pd\\nimport re\\nimport numpy as np\\nimport pickle\\nimport matplotlib as mpl\\nimport altair as alt\\nimport nltk\\nimport sys\\nimport lightgbm as lgb\\nimport bokeh\\nfrom pathlib import Path\\nimport pydot\\nimport plotly as py\\nfrom openpyxl import load_workbook\\nimport sklearn\\nimport gensim'); }\n",
              "    "
            ],
            "text/plain": [
              "<IPython.core.display.Javascript object>"
            ]
          },
          "metadata": {
            "tags": []
          }
        }
      ]
    },
    {
      "cell_type": "code",
      "metadata": {
        "colab": {
          "base_uri": "https://localhost:8080/",
          "height": 0
        },
        "id": "FEGLxlw3AKwy",
        "outputId": "dd5c5f79-a403-432d-cc73-f8de198763b0"
      },
      "source": [
        "df_rearanged_pivot"
      ],
      "execution_count": 444,
      "outputs": [
        {
          "output_type": "execute_result",
          "data": {
            "text/html": [
              "<div>\n",
              "<style scoped>\n",
              "    .dataframe tbody tr th:only-of-type {\n",
              "        vertical-align: middle;\n",
              "    }\n",
              "\n",
              "    .dataframe tbody tr th {\n",
              "        vertical-align: top;\n",
              "    }\n",
              "\n",
              "    .dataframe thead th {\n",
              "        text-align: right;\n",
              "    }\n",
              "</style>\n",
              "<table border=\"1\" class=\"dataframe\">\n",
              "  <thead>\n",
              "    <tr style=\"text-align: right;\">\n",
              "      <th></th>\n",
              "      <th></th>\n",
              "      <th></th>\n",
              "      <th>Both sexes_max</th>\n",
              "      <th>Both sexes_min</th>\n",
              "      <th>Both sexes_recent</th>\n",
              "      <th>Female_max</th>\n",
              "      <th>Female_min</th>\n",
              "      <th>Female_recent</th>\n",
              "      <th>Male_max</th>\n",
              "      <th>Male_min</th>\n",
              "      <th>Male_recent</th>\n",
              "    </tr>\n",
              "    <tr>\n",
              "      <th>Country</th>\n",
              "      <th>Year</th>\n",
              "      <th>Causes</th>\n",
              "      <th></th>\n",
              "      <th></th>\n",
              "      <th></th>\n",
              "      <th></th>\n",
              "      <th></th>\n",
              "      <th></th>\n",
              "      <th></th>\n",
              "      <th></th>\n",
              "      <th></th>\n",
              "    </tr>\n",
              "  </thead>\n",
              "  <tbody>\n",
              "    <tr>\n",
              "      <th rowspan=\"5\" valign=\"top\">Afghanistan</th>\n",
              "      <th rowspan=\"4\" valign=\"top\">2000</th>\n",
              "      <th>Cardiovascular diseases</th>\n",
              "      <td>70123</td>\n",
              "      <td>25975</td>\n",
              "      <td>44706</td>\n",
              "      <td>34435</td>\n",
              "      <td>11921</td>\n",
              "      <td>21492</td>\n",
              "      <td>35688</td>\n",
              "      <td>14054</td>\n",
              "      <td>23214</td>\n",
              "    </tr>\n",
              "    <tr>\n",
              "      <th>Chronic respiratory diseases</th>\n",
              "      <td>11226</td>\n",
              "      <td>2398</td>\n",
              "      <td>6088</td>\n",
              "      <td>5486</td>\n",
              "      <td>1055</td>\n",
              "      <td>2914</td>\n",
              "      <td>5740</td>\n",
              "      <td>1343</td>\n",
              "      <td>3174</td>\n",
              "    </tr>\n",
              "    <tr>\n",
              "      <th>Diabetes mellitus</th>\n",
              "      <td>6103</td>\n",
              "      <td>1526</td>\n",
              "      <td>3218</td>\n",
              "      <td>3710</td>\n",
              "      <td>877</td>\n",
              "      <td>1936</td>\n",
              "      <td>2392</td>\n",
              "      <td>649</td>\n",
              "      <td>1282</td>\n",
              "    </tr>\n",
              "    <tr>\n",
              "      <th>Malignant neoplasms</th>\n",
              "      <td>16134</td>\n",
              "      <td>3751</td>\n",
              "      <td>8378</td>\n",
              "      <td>7918</td>\n",
              "      <td>1792</td>\n",
              "      <td>4075</td>\n",
              "      <td>8216</td>\n",
              "      <td>1959</td>\n",
              "      <td>4304</td>\n",
              "    </tr>\n",
              "    <tr>\n",
              "      <th>2001</th>\n",
              "      <th>Cardiovascular diseases</th>\n",
              "      <td>73446</td>\n",
              "      <td>27138</td>\n",
              "      <td>46859</td>\n",
              "      <td>36267</td>\n",
              "      <td>12531</td>\n",
              "      <td>22630</td>\n",
              "      <td>37179</td>\n",
              "      <td>14607</td>\n",
              "      <td>24229</td>\n",
              "    </tr>\n",
              "    <tr>\n",
              "      <th>...</th>\n",
              "      <th>...</th>\n",
              "      <th>...</th>\n",
              "      <td>...</td>\n",
              "      <td>...</td>\n",
              "      <td>...</td>\n",
              "      <td>...</td>\n",
              "      <td>...</td>\n",
              "      <td>...</td>\n",
              "      <td>...</td>\n",
              "      <td>...</td>\n",
              "      <td>...</td>\n",
              "    </tr>\n",
              "    <tr>\n",
              "      <th rowspan=\"5\" valign=\"top\">Zimbabwe</th>\n",
              "      <th>2018</th>\n",
              "      <th>Malignant neoplasms</th>\n",
              "      <td>16974</td>\n",
              "      <td>6208</td>\n",
              "      <td>10650</td>\n",
              "      <td>11038</td>\n",
              "      <td>3934</td>\n",
              "      <td>6887</td>\n",
              "      <td>5936</td>\n",
              "      <td>2274</td>\n",
              "      <td>3763</td>\n",
              "    </tr>\n",
              "    <tr>\n",
              "      <th rowspan=\"4\" valign=\"top\">2019</th>\n",
              "      <th>Cardiovascular diseases</th>\n",
              "      <td>27148</td>\n",
              "      <td>10438</td>\n",
              "      <td>17335</td>\n",
              "      <td>15524</td>\n",
              "      <td>6031</td>\n",
              "      <td>10035</td>\n",
              "      <td>11625</td>\n",
              "      <td>4407</td>\n",
              "      <td>7300</td>\n",
              "    </tr>\n",
              "    <tr>\n",
              "      <th>Chronic respiratory diseases</th>\n",
              "      <td>4904</td>\n",
              "      <td>1287</td>\n",
              "      <td>2807</td>\n",
              "      <td>2585</td>\n",
              "      <td>508</td>\n",
              "      <td>1381</td>\n",
              "      <td>2319</td>\n",
              "      <td>780</td>\n",
              "      <td>1426</td>\n",
              "    </tr>\n",
              "    <tr>\n",
              "      <th>Diabetes mellitus</th>\n",
              "      <td>6314</td>\n",
              "      <td>2305</td>\n",
              "      <td>3934</td>\n",
              "      <td>3888</td>\n",
              "      <td>1423</td>\n",
              "      <td>2404</td>\n",
              "      <td>2426</td>\n",
              "      <td>882</td>\n",
              "      <td>1530</td>\n",
              "    </tr>\n",
              "    <tr>\n",
              "      <th>Malignant neoplasms</th>\n",
              "      <td>17377</td>\n",
              "      <td>6293</td>\n",
              "      <td>10876</td>\n",
              "      <td>11249</td>\n",
              "      <td>3966</td>\n",
              "      <td>7002</td>\n",
              "      <td>6127</td>\n",
              "      <td>2328</td>\n",
              "      <td>3875</td>\n",
              "    </tr>\n",
              "  </tbody>\n",
              "</table>\n",
              "<p>14640 rows × 9 columns</p>\n",
              "</div>"
            ],
            "text/plain": [
              "                                               Both sexes_max  ...  Male_recent\n",
              "Country     Year Causes                                        ...             \n",
              "Afghanistan 2000 Cardiovascular diseases                70123  ...        23214\n",
              "                 Chronic respiratory diseases           11226  ...         3174\n",
              "                 Diabetes mellitus                       6103  ...         1282\n",
              "                 Malignant neoplasms                    16134  ...         4304\n",
              "            2001 Cardiovascular diseases                73446  ...        24229\n",
              "...                                                       ...  ...          ...\n",
              "Zimbabwe    2018 Malignant neoplasms                    16974  ...         3763\n",
              "            2019 Cardiovascular diseases                27148  ...         7300\n",
              "                 Chronic respiratory diseases            4904  ...         1426\n",
              "                 Diabetes mellitus                       6314  ...         1530\n",
              "                 Malignant neoplasms                    17377  ...         3875\n",
              "\n",
              "[14640 rows x 9 columns]"
            ]
          },
          "metadata": {
            "tags": []
          },
          "execution_count": 444
        }
      ]
    },
    {
      "cell_type": "code",
      "metadata": {
        "colab": {
          "base_uri": "https://localhost:8080/",
          "height": 0
        },
        "id": "2K14wJp3ylOq",
        "outputId": "fa6f0f03-513d-427c-c7a0-570c00d57e23"
      },
      "source": [
        "df_rearanged_pivot.xs((2019, \"Diabetes mellitus\"), level=[1, \"Causes\"])"
      ],
      "execution_count": 445,
      "outputs": [
        {
          "output_type": "execute_result",
          "data": {
            "text/html": [
              "<div>\n",
              "<style scoped>\n",
              "    .dataframe tbody tr th:only-of-type {\n",
              "        vertical-align: middle;\n",
              "    }\n",
              "\n",
              "    .dataframe tbody tr th {\n",
              "        vertical-align: top;\n",
              "    }\n",
              "\n",
              "    .dataframe thead th {\n",
              "        text-align: right;\n",
              "    }\n",
              "</style>\n",
              "<table border=\"1\" class=\"dataframe\">\n",
              "  <thead>\n",
              "    <tr style=\"text-align: right;\">\n",
              "      <th></th>\n",
              "      <th>Both sexes_max</th>\n",
              "      <th>Both sexes_min</th>\n",
              "      <th>Both sexes_recent</th>\n",
              "      <th>Female_max</th>\n",
              "      <th>Female_min</th>\n",
              "      <th>Female_recent</th>\n",
              "      <th>Male_max</th>\n",
              "      <th>Male_min</th>\n",
              "      <th>Male_recent</th>\n",
              "    </tr>\n",
              "    <tr>\n",
              "      <th>Country</th>\n",
              "      <th></th>\n",
              "      <th></th>\n",
              "      <th></th>\n",
              "      <th></th>\n",
              "      <th></th>\n",
              "      <th></th>\n",
              "      <th></th>\n",
              "      <th></th>\n",
              "      <th></th>\n",
              "    </tr>\n",
              "  </thead>\n",
              "  <tbody>\n",
              "    <tr>\n",
              "      <th>Afghanistan</th>\n",
              "      <td>14468</td>\n",
              "      <td>3827</td>\n",
              "      <td>8060</td>\n",
              "      <td>9817</td>\n",
              "      <td>2451</td>\n",
              "      <td>5448</td>\n",
              "      <td>4651</td>\n",
              "      <td>1377</td>\n",
              "      <td>2612</td>\n",
              "    </tr>\n",
              "    <tr>\n",
              "      <th>Albania</th>\n",
              "      <td>439</td>\n",
              "      <td>156</td>\n",
              "      <td>269</td>\n",
              "      <td>246</td>\n",
              "      <td>88</td>\n",
              "      <td>151</td>\n",
              "      <td>194</td>\n",
              "      <td>68</td>\n",
              "      <td>118</td>\n",
              "    </tr>\n",
              "    <tr>\n",
              "      <th>Algeria</th>\n",
              "      <td>11849</td>\n",
              "      <td>4065</td>\n",
              "      <td>7186</td>\n",
              "      <td>6815</td>\n",
              "      <td>2306</td>\n",
              "      <td>4071</td>\n",
              "      <td>5034</td>\n",
              "      <td>1759</td>\n",
              "      <td>3115</td>\n",
              "    </tr>\n",
              "    <tr>\n",
              "      <th>Angola</th>\n",
              "      <td>8070</td>\n",
              "      <td>3049</td>\n",
              "      <td>5143</td>\n",
              "      <td>3072</td>\n",
              "      <td>1086</td>\n",
              "      <td>1905</td>\n",
              "      <td>4998</td>\n",
              "      <td>1962</td>\n",
              "      <td>3238</td>\n",
              "    </tr>\n",
              "    <tr>\n",
              "      <th>Antigua and Barbuda</th>\n",
              "      <td>90</td>\n",
              "      <td>47</td>\n",
              "      <td>67</td>\n",
              "      <td>52</td>\n",
              "      <td>28</td>\n",
              "      <td>39</td>\n",
              "      <td>38</td>\n",
              "      <td>19</td>\n",
              "      <td>28</td>\n",
              "    </tr>\n",
              "    <tr>\n",
              "      <th>...</th>\n",
              "      <td>...</td>\n",
              "      <td>...</td>\n",
              "      <td>...</td>\n",
              "      <td>...</td>\n",
              "      <td>...</td>\n",
              "      <td>...</td>\n",
              "      <td>...</td>\n",
              "      <td>...</td>\n",
              "      <td>...</td>\n",
              "    </tr>\n",
              "    <tr>\n",
              "      <th>Venezuela (Bolivarian Republic of)</th>\n",
              "      <td>21794</td>\n",
              "      <td>9691</td>\n",
              "      <td>14969</td>\n",
              "      <td>11244</td>\n",
              "      <td>5035</td>\n",
              "      <td>7745</td>\n",
              "      <td>10550</td>\n",
              "      <td>4656</td>\n",
              "      <td>7224</td>\n",
              "    </tr>\n",
              "    <tr>\n",
              "      <th>Viet Nam</th>\n",
              "      <td>69161</td>\n",
              "      <td>27215</td>\n",
              "      <td>45193</td>\n",
              "      <td>42918</td>\n",
              "      <td>16745</td>\n",
              "      <td>28107</td>\n",
              "      <td>26244</td>\n",
              "      <td>10470</td>\n",
              "      <td>17086</td>\n",
              "    </tr>\n",
              "    <tr>\n",
              "      <th>Yemen</th>\n",
              "      <td>4601</td>\n",
              "      <td>1353</td>\n",
              "      <td>2627</td>\n",
              "      <td>2665</td>\n",
              "      <td>769</td>\n",
              "      <td>1512</td>\n",
              "      <td>1935</td>\n",
              "      <td>584</td>\n",
              "      <td>1114</td>\n",
              "    </tr>\n",
              "    <tr>\n",
              "      <th>Zambia</th>\n",
              "      <td>4586</td>\n",
              "      <td>1750</td>\n",
              "      <td>2935</td>\n",
              "      <td>1940</td>\n",
              "      <td>728</td>\n",
              "      <td>1232</td>\n",
              "      <td>2646</td>\n",
              "      <td>1021</td>\n",
              "      <td>1702</td>\n",
              "    </tr>\n",
              "    <tr>\n",
              "      <th>Zimbabwe</th>\n",
              "      <td>6314</td>\n",
              "      <td>2305</td>\n",
              "      <td>3934</td>\n",
              "      <td>3888</td>\n",
              "      <td>1423</td>\n",
              "      <td>2404</td>\n",
              "      <td>2426</td>\n",
              "      <td>882</td>\n",
              "      <td>1530</td>\n",
              "    </tr>\n",
              "  </tbody>\n",
              "</table>\n",
              "<p>183 rows × 9 columns</p>\n",
              "</div>"
            ],
            "text/plain": [
              "                                    Both sexes_max  ...  Male_recent\n",
              "Country                                             ...             \n",
              "Afghanistan                                  14468  ...         2612\n",
              "Albania                                        439  ...          118\n",
              "Algeria                                      11849  ...         3115\n",
              "Angola                                        8070  ...         3238\n",
              "Antigua and Barbuda                             90  ...           28\n",
              "...                                            ...  ...          ...\n",
              "Venezuela (Bolivarian Republic of)           21794  ...         7224\n",
              "Viet Nam                                     69161  ...        17086\n",
              "Yemen                                         4601  ...         1114\n",
              "Zambia                                        4586  ...         1702\n",
              "Zimbabwe                                      6314  ...         1530\n",
              "\n",
              "[183 rows x 9 columns]"
            ]
          },
          "metadata": {
            "tags": []
          },
          "execution_count": 445
        }
      ]
    },
    {
      "cell_type": "code",
      "metadata": {
        "colab": {
          "base_uri": "https://localhost:8080/",
          "height": 0
        },
        "id": "QJySWJT_zXIE",
        "outputId": "fca5a339-d910-46ee-d320-746e466be07a"
      },
      "source": [
        "df_rearanged_pivot.xs((2019, \"Diabetes mellitus\"), level=[1, \"Causes\"]).agg([\"median\",\"mean\"])"
      ],
      "execution_count": 446,
      "outputs": [
        {
          "output_type": "execute_result",
          "data": {
            "text/html": [
              "<div>\n",
              "<style scoped>\n",
              "    .dataframe tbody tr th:only-of-type {\n",
              "        vertical-align: middle;\n",
              "    }\n",
              "\n",
              "    .dataframe tbody tr th {\n",
              "        vertical-align: top;\n",
              "    }\n",
              "\n",
              "    .dataframe thead th {\n",
              "        text-align: right;\n",
              "    }\n",
              "</style>\n",
              "<table border=\"1\" class=\"dataframe\">\n",
              "  <thead>\n",
              "    <tr style=\"text-align: right;\">\n",
              "      <th></th>\n",
              "      <th>Both sexes_max</th>\n",
              "      <th>Both sexes_min</th>\n",
              "      <th>Both sexes_recent</th>\n",
              "      <th>Female_max</th>\n",
              "      <th>Female_min</th>\n",
              "      <th>Female_recent</th>\n",
              "      <th>Male_max</th>\n",
              "      <th>Male_min</th>\n",
              "      <th>Male_recent</th>\n",
              "    </tr>\n",
              "  </thead>\n",
              "  <tbody>\n",
              "    <tr>\n",
              "      <th>median</th>\n",
              "      <td>3,612</td>\n",
              "      <td>1,423</td>\n",
              "      <td>2,363</td>\n",
              "      <td>1,941</td>\n",
              "      <td>769</td>\n",
              "      <td>1,300</td>\n",
              "      <td>1,604</td>\n",
              "      <td>661</td>\n",
              "      <td>1,078</td>\n",
              "    </tr>\n",
              "    <tr>\n",
              "      <th>mean</th>\n",
              "      <td>14,672</td>\n",
              "      <td>7,463</td>\n",
              "      <td>10,678</td>\n",
              "      <td>7,400</td>\n",
              "      <td>3,726</td>\n",
              "      <td>5,382</td>\n",
              "      <td>7,272</td>\n",
              "      <td>3,737</td>\n",
              "      <td>5,296</td>\n",
              "    </tr>\n",
              "  </tbody>\n",
              "</table>\n",
              "</div>"
            ],
            "text/plain": [
              "        Both sexes_max  Both sexes_min  ...  Male_min  Male_recent\n",
              "median           3,612           1,423  ...       661        1,078\n",
              "mean            14,672           7,463  ...     3,737        5,296\n",
              "\n",
              "[2 rows x 9 columns]"
            ]
          },
          "metadata": {
            "tags": []
          },
          "execution_count": 446
        }
      ]
    },
    {
      "cell_type": "code",
      "metadata": {
        "colab": {
          "base_uri": "https://localhost:8080/",
          "height": 0
        },
        "id": "Onvbr-2NBTuo",
        "outputId": "8bc680fd-8e0a-4dda-bf91-1b561384c137"
      },
      "source": [
        "df_rearanged_pivot.xs((2000, \"Diabetes mellitus\"), level=[1, \"Causes\"]).agg([\"median\",\"mean\"])"
      ],
      "execution_count": 447,
      "outputs": [
        {
          "output_type": "execute_result",
          "data": {
            "text/html": [
              "<div>\n",
              "<style scoped>\n",
              "    .dataframe tbody tr th:only-of-type {\n",
              "        vertical-align: middle;\n",
              "    }\n",
              "\n",
              "    .dataframe tbody tr th {\n",
              "        vertical-align: top;\n",
              "    }\n",
              "\n",
              "    .dataframe thead th {\n",
              "        text-align: right;\n",
              "    }\n",
              "</style>\n",
              "<table border=\"1\" class=\"dataframe\">\n",
              "  <thead>\n",
              "    <tr style=\"text-align: right;\">\n",
              "      <th></th>\n",
              "      <th>Both sexes_max</th>\n",
              "      <th>Both sexes_min</th>\n",
              "      <th>Both sexes_recent</th>\n",
              "      <th>Female_max</th>\n",
              "      <th>Female_min</th>\n",
              "      <th>Female_recent</th>\n",
              "      <th>Male_max</th>\n",
              "      <th>Male_min</th>\n",
              "      <th>Male_recent</th>\n",
              "    </tr>\n",
              "  </thead>\n",
              "  <tbody>\n",
              "    <tr>\n",
              "      <th>median</th>\n",
              "      <td>2,033</td>\n",
              "      <td>952</td>\n",
              "      <td>1,415</td>\n",
              "      <td>1,134</td>\n",
              "      <td>521</td>\n",
              "      <td>753</td>\n",
              "      <td>917</td>\n",
              "      <td>423</td>\n",
              "      <td>636</td>\n",
              "    </tr>\n",
              "    <tr>\n",
              "      <th>mean</th>\n",
              "      <td>8,095</td>\n",
              "      <td>4,650</td>\n",
              "      <td>6,196</td>\n",
              "      <td>4,263</td>\n",
              "      <td>2,448</td>\n",
              "      <td>3,267</td>\n",
              "      <td>3,832</td>\n",
              "      <td>2,202</td>\n",
              "      <td>2,930</td>\n",
              "    </tr>\n",
              "  </tbody>\n",
              "</table>\n",
              "</div>"
            ],
            "text/plain": [
              "        Both sexes_max  Both sexes_min  ...  Male_min  Male_recent\n",
              "median           2,033             952  ...       423          636\n",
              "mean             8,095           4,650  ...     2,202        2,930\n",
              "\n",
              "[2 rows x 9 columns]"
            ]
          },
          "metadata": {
            "tags": []
          },
          "execution_count": 447
        }
      ]
    },
    {
      "cell_type": "code",
      "metadata": {
        "id": "wBDtskpQhF7U"
      },
      "source": [
        "#fig , ax = plt.subplots(2,1,figsize=(30,5))\n",
        "#ax[0] = sns.histplot(df_rearanged_pivot.xs((2019, \"Diabetes mellitus\"), level=[1, \"Causes\"])[\"Both sexes_recent\"])\n",
        "#ax[1] = sns.histplot(df_rearanged_pivot.xs((2000, \"Diabetes mellitus\"), level=[1, \"Causes\"])[\"Both sexes_recent\"]) ///"
      ],
      "execution_count": 448,
      "outputs": []
    },
    {
      "cell_type": "code",
      "metadata": {
        "colab": {
          "base_uri": "https://localhost:8080/",
          "height": 0
        },
        "id": "26Q5ekF1BJ7t",
        "outputId": "f43f8f42-8d8c-4af6-d329-c9ab0588b067"
      },
      "source": [
        "plt.figure(figsize=(30,5))\n",
        "df_rearanged_pivot.xs((2019, \"Diabetes mellitus\"), level=[1, \"Causes\"])[\"Both sexes_recent\"].plot.bar(color = \"red\")\n"
      ],
      "execution_count": 449,
      "outputs": [
        {
          "output_type": "display_data",
          "data": {
            "application/javascript": [
              "\n",
              "        if (window._pyforest_update_imports_cell) { window._pyforest_update_imports_cell('import spacy\\nfrom sklearn import svm\\nimport matplotlib.pyplot as plt\\nimport glob\\nimport statistics\\nimport seaborn as sns\\nimport plotly.graph_objs as go\\nimport plotly.express as px\\nimport pandas as pd\\nimport re\\nimport numpy as np\\nimport pickle\\nimport matplotlib as mpl\\nimport altair as alt\\nimport nltk\\nimport sys\\nimport lightgbm as lgb\\nimport bokeh\\nfrom pathlib import Path\\nimport pydot\\nimport plotly as py\\nfrom openpyxl import load_workbook\\nimport sklearn\\nimport gensim'); }\n",
              "    "
            ],
            "text/plain": [
              "<IPython.core.display.Javascript object>"
            ]
          },
          "metadata": {
            "tags": []
          }
        },
        {
          "output_type": "execute_result",
          "data": {
            "text/plain": [
              "<matplotlib.axes._subplots.AxesSubplot at 0x7fee2d922dd0>"
            ]
          },
          "metadata": {
            "tags": []
          },
          "execution_count": 449
        },
        {
          "output_type": "display_data",
          "data": {
            "image/png": "[encoded data removed]",
            "text/plain": [
              "<Figure size 2160x360 with 1 Axes>"
            ]
          },
          "metadata": {
            "tags": [],
            "needs_background": "light"
          }
        }
      ]
    },
    {
      "cell_type": "code",
      "metadata": {
        "colab": {
          "base_uri": "https://localhost:8080/",
          "height": 0
        },
        "id": "mwyVgDVW79al",
        "outputId": "f32134f5-83ac-4e0a-ff71-837c97cccdd3"
      },
      "source": [
        "plt.figure(figsize=(30,5))\n",
        "df_rearanged_pivot.xs((2000, \"Diabetes mellitus\"), level=[1, \"Causes\"])[\"Both sexes_recent\"].plot.bar()"
      ],
      "execution_count": 450,
      "outputs": [
        {
          "output_type": "display_data",
          "data": {
            "application/javascript": [
              "\n",
              "        if (window._pyforest_update_imports_cell) { window._pyforest_update_imports_cell('import spacy\\nfrom sklearn import svm\\nimport matplotlib.pyplot as plt\\nimport glob\\nimport statistics\\nimport seaborn as sns\\nimport plotly.graph_objs as go\\nimport plotly.express as px\\nimport pandas as pd\\nimport re\\nimport numpy as np\\nimport pickle\\nimport matplotlib as mpl\\nimport altair as alt\\nimport nltk\\nimport sys\\nimport lightgbm as lgb\\nimport bokeh\\nfrom pathlib import Path\\nimport pydot\\nimport plotly as py\\nfrom openpyxl import load_workbook\\nimport sklearn\\nimport gensim'); }\n",
              "    "
            ],
            "text/plain": [
              "<IPython.core.display.Javascript object>"
            ]
          },
          "metadata": {
            "tags": []
          }
        },
        {
          "output_type": "execute_result",
          "data": {
            "text/plain": [
              "<matplotlib.axes._subplots.AxesSubplot at 0x7fee2d0e6e90>"
            ]
          },
          "metadata": {
            "tags": []
          },
          "execution_count": 450
        },
        {
          "output_type": "display_data",
          "data": {
            "image/png": "[encoded data removed]",
            "text/plain": [
              "<Figure size 2160x360 with 1 Axes>"
            ]
          },
          "metadata": {
            "tags": [],
            "needs_background": "light"
          }
        }
      ]
    },
    {
      "cell_type": "code",
      "metadata": {
        "colab": {
          "base_uri": "https://localhost:8080/",
          "height": 0
        },
        "id": "Ls0oq0V9_uBV",
        "outputId": "61587811-e71c-404b-c31c-5b75d9a6a4d5"
      },
      "source": [
        "plt.figure(figsize=(30,5))\n",
        "df_rearanged_pivot.xs((2019, \"Diabetes mellitus\"), level=[1, \"Causes\"])[\"Both sexes_recent\"].plot.bar(color = \"red\")\n",
        "df_rearanged_pivot.xs((2000, \"Diabetes mellitus\"), level=[1, \"Causes\"])[\"Both sexes_recent\"].plot.bar()"
      ],
      "execution_count": 451,
      "outputs": [
        {
          "output_type": "display_data",
          "data": {
            "application/javascript": [
              "\n",
              "        if (window._pyforest_update_imports_cell) { window._pyforest_update_imports_cell('import spacy\\nfrom sklearn import svm\\nimport matplotlib.pyplot as plt\\nimport glob\\nimport statistics\\nimport seaborn as sns\\nimport plotly.graph_objs as go\\nimport plotly.express as px\\nimport pandas as pd\\nimport re\\nimport numpy as np\\nimport pickle\\nimport matplotlib as mpl\\nimport altair as alt\\nimport nltk\\nimport sys\\nimport lightgbm as lgb\\nimport bokeh\\nfrom pathlib import Path\\nimport pydot\\nimport plotly as py\\nfrom openpyxl import load_workbook\\nimport sklearn\\nimport gensim'); }\n",
              "    "
            ],
            "text/plain": [
              "<IPython.core.display.Javascript object>"
            ]
          },
          "metadata": {
            "tags": []
          }
        },
        {
          "output_type": "execute_result",
          "data": {
            "text/plain": [
              "<matplotlib.axes._subplots.AxesSubplot at 0x7fee2ccbec50>"
            ]
          },
          "metadata": {
            "tags": []
          },
          "execution_count": 451
        },
        {
          "output_type": "display_data",
          "data": {
            "image/png": "[encoded data removed]",
            "text/plain": [
              "<Figure size 2160x360 with 1 Axes>"
            ]
          },
          "metadata": {
            "tags": [],
            "needs_background": "light"
          }
        }
      ]
    },
    {
      "cell_type": "markdown",
      "metadata": {
        "id": "v7-dH6V70meI"
      },
      "source": [
        ""
      ]
    },
    {
      "cell_type": "markdown",
      "metadata": {
        "id": "Qo30E_lAtXIi"
      },
      "source": [
        "# GDP DATA"
      ]
    },
    {
      "cell_type": "code",
      "metadata": {
        "colab": {
          "base_uri": "https://localhost:8080/",
          "height": 0
        },
        "id": "M_llh_-1GyEJ",
        "outputId": "5c6ad71d-1f12-4d39-c1fe-da08d1543020"
      },
      "source": [
        "df_gdp = pd.read_csv(\"/content/drive/MyDrive/Colab notebooks/pandas/health_vs_gdp/Metadata_Country_API_NY.GDP.MKTP.KD.ZG_DS2_en_csv_v2_2055665.csv\")"
      ],
      "execution_count": 452,
      "outputs": [
        {
          "output_type": "display_data",
          "data": {
            "application/javascript": [
              "\n",
              "        if (window._pyforest_update_imports_cell) { window._pyforest_update_imports_cell('import spacy\\nfrom sklearn import svm\\nimport matplotlib.pyplot as plt\\nimport glob\\nimport statistics\\nimport seaborn as sns\\nimport plotly.graph_objs as go\\nimport plotly.express as px\\nimport pandas as pd\\nimport re\\nimport numpy as np\\nimport pickle\\nimport matplotlib as mpl\\nimport altair as alt\\nimport nltk\\nimport sys\\nimport lightgbm as lgb\\nimport bokeh\\nfrom pathlib import Path\\nimport pydot\\nimport plotly as py\\nfrom openpyxl import load_workbook\\nimport sklearn\\nimport gensim'); }\n",
              "    "
            ],
            "text/plain": [
              "<IPython.core.display.Javascript object>"
            ]
          },
          "metadata": {
            "tags": []
          }
        }
      ]
    },
    {
      "cell_type": "code",
      "metadata": {
        "colab": {
          "base_uri": "https://localhost:8080/",
          "height": 0
        },
        "id": "j4mVFU8EKA0I",
        "outputId": "829bad21-f11e-49fc-e049-e062262369d4"
      },
      "source": [
        "df_gdp"
      ],
      "execution_count": 453,
      "outputs": [
        {
          "output_type": "execute_result",
          "data": {
            "text/html": [
              "<div>\n",
              "<style scoped>\n",
              "    .dataframe tbody tr th:only-of-type {\n",
              "        vertical-align: middle;\n",
              "    }\n",
              "\n",
              "    .dataframe tbody tr th {\n",
              "        vertical-align: top;\n",
              "    }\n",
              "\n",
              "    .dataframe thead th {\n",
              "        text-align: right;\n",
              "    }\n",
              "</style>\n",
              "<table border=\"1\" class=\"dataframe\">\n",
              "  <thead>\n",
              "    <tr style=\"text-align: right;\">\n",
              "      <th></th>\n",
              "      <th>Country Code</th>\n",
              "      <th>Region</th>\n",
              "      <th>IncomeGroup</th>\n",
              "      <th>SpecialNotes</th>\n",
              "      <th>TableName</th>\n",
              "      <th>Unnamed: 5</th>\n",
              "    </tr>\n",
              "  </thead>\n",
              "  <tbody>\n",
              "    <tr>\n",
              "      <th>0</th>\n",
              "      <td>ABW</td>\n",
              "      <td>Latin America &amp; Caribbean</td>\n",
              "      <td>High income</td>\n",
              "      <td>NaN</td>\n",
              "      <td>Aruba</td>\n",
              "      <td>nan</td>\n",
              "    </tr>\n",
              "    <tr>\n",
              "      <th>1</th>\n",
              "      <td>AFG</td>\n",
              "      <td>South Asia</td>\n",
              "      <td>Low income</td>\n",
              "      <td>NaN</td>\n",
              "      <td>Afghanistan</td>\n",
              "      <td>nan</td>\n",
              "    </tr>\n",
              "    <tr>\n",
              "      <th>2</th>\n",
              "      <td>AGO</td>\n",
              "      <td>Sub-Saharan Africa</td>\n",
              "      <td>Lower middle income</td>\n",
              "      <td>NaN</td>\n",
              "      <td>Angola</td>\n",
              "      <td>nan</td>\n",
              "    </tr>\n",
              "    <tr>\n",
              "      <th>3</th>\n",
              "      <td>ALB</td>\n",
              "      <td>Europe &amp; Central Asia</td>\n",
              "      <td>Upper middle income</td>\n",
              "      <td>NaN</td>\n",
              "      <td>Albania</td>\n",
              "      <td>nan</td>\n",
              "    </tr>\n",
              "    <tr>\n",
              "      <th>4</th>\n",
              "      <td>AND</td>\n",
              "      <td>Europe &amp; Central Asia</td>\n",
              "      <td>High income</td>\n",
              "      <td>NaN</td>\n",
              "      <td>Andorra</td>\n",
              "      <td>nan</td>\n",
              "    </tr>\n",
              "    <tr>\n",
              "      <th>...</th>\n",
              "      <td>...</td>\n",
              "      <td>...</td>\n",
              "      <td>...</td>\n",
              "      <td>...</td>\n",
              "      <td>...</td>\n",
              "      <td>...</td>\n",
              "    </tr>\n",
              "    <tr>\n",
              "      <th>258</th>\n",
              "      <td>XKX</td>\n",
              "      <td>Europe &amp; Central Asia</td>\n",
              "      <td>Upper middle income</td>\n",
              "      <td>NaN</td>\n",
              "      <td>Kosovo</td>\n",
              "      <td>nan</td>\n",
              "    </tr>\n",
              "    <tr>\n",
              "      <th>259</th>\n",
              "      <td>YEM</td>\n",
              "      <td>Middle East &amp; North Africa</td>\n",
              "      <td>Low income</td>\n",
              "      <td>NaN</td>\n",
              "      <td>Yemen, Rep.</td>\n",
              "      <td>nan</td>\n",
              "    </tr>\n",
              "    <tr>\n",
              "      <th>260</th>\n",
              "      <td>ZAF</td>\n",
              "      <td>Sub-Saharan Africa</td>\n",
              "      <td>Upper middle income</td>\n",
              "      <td>Fiscal year end: March 31; reporting period fo...</td>\n",
              "      <td>South Africa</td>\n",
              "      <td>nan</td>\n",
              "    </tr>\n",
              "    <tr>\n",
              "      <th>261</th>\n",
              "      <td>ZMB</td>\n",
              "      <td>Sub-Saharan Africa</td>\n",
              "      <td>Lower middle income</td>\n",
              "      <td>National accounts data were rebased to reflect...</td>\n",
              "      <td>Zambia</td>\n",
              "      <td>nan</td>\n",
              "    </tr>\n",
              "    <tr>\n",
              "      <th>262</th>\n",
              "      <td>ZWE</td>\n",
              "      <td>Sub-Saharan Africa</td>\n",
              "      <td>Lower middle income</td>\n",
              "      <td>NaN</td>\n",
              "      <td>Zimbabwe</td>\n",
              "      <td>nan</td>\n",
              "    </tr>\n",
              "  </tbody>\n",
              "</table>\n",
              "<p>263 rows × 6 columns</p>\n",
              "</div>"
            ],
            "text/plain": [
              "    Country Code                      Region  ...     TableName Unnamed: 5\n",
              "0            ABW   Latin America & Caribbean  ...         Aruba        nan\n",
              "1            AFG                  South Asia  ...   Afghanistan        nan\n",
              "2            AGO          Sub-Saharan Africa  ...        Angola        nan\n",
              "3            ALB       Europe & Central Asia  ...       Albania        nan\n",
              "4            AND       Europe & Central Asia  ...       Andorra        nan\n",
              "..           ...                         ...  ...           ...        ...\n",
              "258          XKX       Europe & Central Asia  ...        Kosovo        nan\n",
              "259          YEM  Middle East & North Africa  ...   Yemen, Rep.        nan\n",
              "260          ZAF          Sub-Saharan Africa  ...  South Africa        nan\n",
              "261          ZMB          Sub-Saharan Africa  ...        Zambia        nan\n",
              "262          ZWE          Sub-Saharan Africa  ...      Zimbabwe        nan\n",
              "\n",
              "[263 rows x 6 columns]"
            ]
          },
          "metadata": {
            "tags": []
          },
          "execution_count": 453
        }
      ]
    },
    {
      "cell_type": "code",
      "metadata": {
        "colab": {
          "base_uri": "https://localhost:8080/"
        },
        "id": "M2X3Fsntr-GR",
        "outputId": "643bbdc1-3a8b-4b74-9446-b18c0100e681"
      },
      "source": [
        "for i in df_gdp.columns:\n",
        "  print(df_gdp[i].value_counts(dropna =False))\n",
        "  print(\"*-\"*20)"
      ],
      "execution_count": 454,
      "outputs": [
        {
          "output_type": "stream",
          "text": [
            "TEA    1\n",
            "DNK    1\n",
            "KWT    1\n",
            "SEN    1\n",
            "FSM    1\n",
            "      ..\n",
            "IRN    1\n",
            "COG    1\n",
            "BLZ    1\n",
            "BTN    1\n",
            "VIR    1\n",
            "Name: Country Code, Length: 263, dtype: int64\n",
            "*-*-*-*-*-*-*-*-*-*-*-*-*-*-*-*-*-*-*-*-\n",
            "Europe & Central Asia         58\n",
            "Sub-Saharan Africa            48\n",
            "NaN                           46\n",
            "Latin America & Caribbean     42\n",
            "East Asia & Pacific           37\n",
            "Middle East & North Africa    21\n",
            "South Asia                     8\n",
            "North America                  3\n",
            "Name: Region, dtype: int64\n",
            "*-*-*-*-*-*-*-*-*-*-*-*-*-*-*-*-*-*-*-*-\n",
            "High income            82\n",
            "Upper middle income    56\n",
            "Lower middle income    50\n",
            "NaN                    46\n",
            "Low income             29\n",
            "Name: IncomeGroup, dtype: int64\n",
            "*-*-*-*-*-*-*-*-*-*-*-*-*-*-*-*-*-*-*-*-\n",
            "NaN                                                                                                                                                                                                                                                                                169\n",
            "Fiscal year end: March 31; reporting period for national accounts data: CY.                                                                                                                                                                                                          7\n",
            "Fiscal year end: June 30; reporting period for national accounts data: FY.                                                                                                                                                                                                           6\n",
            "Fiscal year end: June 30; reporting period for national accounts data: CY.                                                                                                                                                                                                           2\n",
            "Fiscal year ends on September 30; reporting period for national accounts data: FY.                                                                                                                                                                                                   2\n",
            "                                                                                                                                                                                                                                                                                  ... \n",
            "Europe & Central Asia (IDA & IBRD countries) aggregate.                                                                                                                                                                                                                              1\n",
            "Middle East & North Africa (IDA & IBRD countries) aggregate.                                                                                                                                                                                                                         1\n",
            "Fiscal year end: March 31; reporting period for national accounts data: CY. Data for Indonesia include Timor-Leste through 1999 unless otherwise noted.                                                                                                                              1\n",
            "National account data were adjusted to reflect the new banknote (1 new Dobra STN = 1000 old Dobra STD)                                                                                                                                                                               1\n",
            "On 1 July 1997 China resumed its exercise of sovereignty over Hong Kong; and on 20 December 1999 China resumed its exercise of sovereignty over Macao. Unless otherwise noted, data for China do not include data for Hong Kong SAR, China; Macao SAR, China; or Taiwan, China.      1\n",
            "Name: SpecialNotes, Length: 81, dtype: int64\n",
            "*-*-*-*-*-*-*-*-*-*-*-*-*-*-*-*-*-*-*-*-\n",
            "Post-demographic dividend                  1\n",
            "Ethiopia                                   1\n",
            "Gambia, The                                1\n",
            "Mauritius                                  1\n",
            "Malta                                      1\n",
            "                                          ..\n",
            "Middle East & North Africa (IDA & IBRD)    1\n",
            "Central African Republic                   1\n",
            "Sudan                                      1\n",
            "Myanmar                                    1\n",
            "Equatorial Guinea                          1\n",
            "Name: TableName, Length: 263, dtype: int64\n",
            "*-*-*-*-*-*-*-*-*-*-*-*-*-*-*-*-*-*-*-*-\n",
            "nan    263\n",
            "Name: Unnamed: 5, dtype: int64\n",
            "*-*-*-*-*-*-*-*-*-*-*-*-*-*-*-*-*-*-*-*-\n"
          ],
          "name": "stdout"
        }
      ]
    },
    {
      "cell_type": "markdown",
      "metadata": {
        "id": "W3GZjNHRivBd"
      },
      "source": [
        "## MISSING VALUES"
      ]
    },
    {
      "cell_type": "code",
      "metadata": {
        "colab": {
          "base_uri": "https://localhost:8080/"
        },
        "id": "kZv_UmEjiXZY",
        "outputId": "7761b124-83da-4d9e-b757-9978bf5d9ca2"
      },
      "source": [
        "df_gdp.isnull().sum()"
      ],
      "execution_count": 455,
      "outputs": [
        {
          "output_type": "execute_result",
          "data": {
            "text/plain": [
              "Country Code      0\n",
              "Region           46\n",
              "IncomeGroup      46\n",
              "SpecialNotes    169\n",
              "TableName         0\n",
              "Unnamed: 5      263\n",
              "dtype: int64"
            ]
          },
          "metadata": {
            "tags": []
          },
          "execution_count": 455
        }
      ]
    },
    {
      "cell_type": "code",
      "metadata": {
        "id": "9AfU4xbaqUQ0"
      },
      "source": [
        "df_gdp.dropna(axis=1,how=\"all\",inplace=True)"
      ],
      "execution_count": 456,
      "outputs": []
    },
    {
      "cell_type": "code",
      "metadata": {
        "id": "bfftLhrSrB5x",
        "colab": {
          "base_uri": "https://localhost:8080/",
          "height": 0
        },
        "outputId": "3c80093e-cb87-4193-b156-da46217bed36"
      },
      "source": [
        "df_gdp.dropna(axis=0,how=\"all\",)#inplace=True)"
      ],
      "execution_count": 457,
      "outputs": [
        {
          "output_type": "execute_result",
          "data": {
            "text/html": [
              "<div>\n",
              "<style scoped>\n",
              "    .dataframe tbody tr th:only-of-type {\n",
              "        vertical-align: middle;\n",
              "    }\n",
              "\n",
              "    .dataframe tbody tr th {\n",
              "        vertical-align: top;\n",
              "    }\n",
              "\n",
              "    .dataframe thead th {\n",
              "        text-align: right;\n",
              "    }\n",
              "</style>\n",
              "<table border=\"1\" class=\"dataframe\">\n",
              "  <thead>\n",
              "    <tr style=\"text-align: right;\">\n",
              "      <th></th>\n",
              "      <th>Country Code</th>\n",
              "      <th>Region</th>\n",
              "      <th>IncomeGroup</th>\n",
              "      <th>SpecialNotes</th>\n",
              "      <th>TableName</th>\n",
              "    </tr>\n",
              "  </thead>\n",
              "  <tbody>\n",
              "    <tr>\n",
              "      <th>0</th>\n",
              "      <td>ABW</td>\n",
              "      <td>Latin America &amp; Caribbean</td>\n",
              "      <td>High income</td>\n",
              "      <td>NaN</td>\n",
              "      <td>Aruba</td>\n",
              "    </tr>\n",
              "    <tr>\n",
              "      <th>1</th>\n",
              "      <td>AFG</td>\n",
              "      <td>South Asia</td>\n",
              "      <td>Low income</td>\n",
              "      <td>NaN</td>\n",
              "      <td>Afghanistan</td>\n",
              "    </tr>\n",
              "    <tr>\n",
              "      <th>2</th>\n",
              "      <td>AGO</td>\n",
              "      <td>Sub-Saharan Africa</td>\n",
              "      <td>Lower middle income</td>\n",
              "      <td>NaN</td>\n",
              "      <td>Angola</td>\n",
              "    </tr>\n",
              "    <tr>\n",
              "      <th>3</th>\n",
              "      <td>ALB</td>\n",
              "      <td>Europe &amp; Central Asia</td>\n",
              "      <td>Upper middle income</td>\n",
              "      <td>NaN</td>\n",
              "      <td>Albania</td>\n",
              "    </tr>\n",
              "    <tr>\n",
              "      <th>4</th>\n",
              "      <td>AND</td>\n",
              "      <td>Europe &amp; Central Asia</td>\n",
              "      <td>High income</td>\n",
              "      <td>NaN</td>\n",
              "      <td>Andorra</td>\n",
              "    </tr>\n",
              "    <tr>\n",
              "      <th>...</th>\n",
              "      <td>...</td>\n",
              "      <td>...</td>\n",
              "      <td>...</td>\n",
              "      <td>...</td>\n",
              "      <td>...</td>\n",
              "    </tr>\n",
              "    <tr>\n",
              "      <th>258</th>\n",
              "      <td>XKX</td>\n",
              "      <td>Europe &amp; Central Asia</td>\n",
              "      <td>Upper middle income</td>\n",
              "      <td>NaN</td>\n",
              "      <td>Kosovo</td>\n",
              "    </tr>\n",
              "    <tr>\n",
              "      <th>259</th>\n",
              "      <td>YEM</td>\n",
              "      <td>Middle East &amp; North Africa</td>\n",
              "      <td>Low income</td>\n",
              "      <td>NaN</td>\n",
              "      <td>Yemen, Rep.</td>\n",
              "    </tr>\n",
              "    <tr>\n",
              "      <th>260</th>\n",
              "      <td>ZAF</td>\n",
              "      <td>Sub-Saharan Africa</td>\n",
              "      <td>Upper middle income</td>\n",
              "      <td>Fiscal year end: March 31; reporting period fo...</td>\n",
              "      <td>South Africa</td>\n",
              "    </tr>\n",
              "    <tr>\n",
              "      <th>261</th>\n",
              "      <td>ZMB</td>\n",
              "      <td>Sub-Saharan Africa</td>\n",
              "      <td>Lower middle income</td>\n",
              "      <td>National accounts data were rebased to reflect...</td>\n",
              "      <td>Zambia</td>\n",
              "    </tr>\n",
              "    <tr>\n",
              "      <th>262</th>\n",
              "      <td>ZWE</td>\n",
              "      <td>Sub-Saharan Africa</td>\n",
              "      <td>Lower middle income</td>\n",
              "      <td>NaN</td>\n",
              "      <td>Zimbabwe</td>\n",
              "    </tr>\n",
              "  </tbody>\n",
              "</table>\n",
              "<p>263 rows × 5 columns</p>\n",
              "</div>"
            ],
            "text/plain": [
              "    Country Code  ...     TableName\n",
              "0            ABW  ...         Aruba\n",
              "1            AFG  ...   Afghanistan\n",
              "2            AGO  ...        Angola\n",
              "3            ALB  ...       Albania\n",
              "4            AND  ...       Andorra\n",
              "..           ...  ...           ...\n",
              "258          XKX  ...        Kosovo\n",
              "259          YEM  ...   Yemen, Rep.\n",
              "260          ZAF  ...  South Africa\n",
              "261          ZMB  ...        Zambia\n",
              "262          ZWE  ...      Zimbabwe\n",
              "\n",
              "[263 rows x 5 columns]"
            ]
          },
          "metadata": {
            "tags": []
          },
          "execution_count": 457
        }
      ]
    },
    {
      "cell_type": "code",
      "metadata": {
        "colab": {
          "base_uri": "https://localhost:8080/",
          "height": 0
        },
        "id": "eII_kW1vKd_i",
        "outputId": "06fd3bc1-4af1-42ea-a972-344210106042"
      },
      "source": [
        "df_gdp.drop(df_gdp.columns[3], axis=1, inplace=True)\n",
        "df_gdp"
      ],
      "execution_count": 458,
      "outputs": [
        {
          "output_type": "execute_result",
          "data": {
            "text/html": [
              "<div>\n",
              "<style scoped>\n",
              "    .dataframe tbody tr th:only-of-type {\n",
              "        vertical-align: middle;\n",
              "    }\n",
              "\n",
              "    .dataframe tbody tr th {\n",
              "        vertical-align: top;\n",
              "    }\n",
              "\n",
              "    .dataframe thead th {\n",
              "        text-align: right;\n",
              "    }\n",
              "</style>\n",
              "<table border=\"1\" class=\"dataframe\">\n",
              "  <thead>\n",
              "    <tr style=\"text-align: right;\">\n",
              "      <th></th>\n",
              "      <th>Country Code</th>\n",
              "      <th>Region</th>\n",
              "      <th>IncomeGroup</th>\n",
              "      <th>TableName</th>\n",
              "    </tr>\n",
              "  </thead>\n",
              "  <tbody>\n",
              "    <tr>\n",
              "      <th>0</th>\n",
              "      <td>ABW</td>\n",
              "      <td>Latin America &amp; Caribbean</td>\n",
              "      <td>High income</td>\n",
              "      <td>Aruba</td>\n",
              "    </tr>\n",
              "    <tr>\n",
              "      <th>1</th>\n",
              "      <td>AFG</td>\n",
              "      <td>South Asia</td>\n",
              "      <td>Low income</td>\n",
              "      <td>Afghanistan</td>\n",
              "    </tr>\n",
              "    <tr>\n",
              "      <th>2</th>\n",
              "      <td>AGO</td>\n",
              "      <td>Sub-Saharan Africa</td>\n",
              "      <td>Lower middle income</td>\n",
              "      <td>Angola</td>\n",
              "    </tr>\n",
              "    <tr>\n",
              "      <th>3</th>\n",
              "      <td>ALB</td>\n",
              "      <td>Europe &amp; Central Asia</td>\n",
              "      <td>Upper middle income</td>\n",
              "      <td>Albania</td>\n",
              "    </tr>\n",
              "    <tr>\n",
              "      <th>4</th>\n",
              "      <td>AND</td>\n",
              "      <td>Europe &amp; Central Asia</td>\n",
              "      <td>High income</td>\n",
              "      <td>Andorra</td>\n",
              "    </tr>\n",
              "    <tr>\n",
              "      <th>...</th>\n",
              "      <td>...</td>\n",
              "      <td>...</td>\n",
              "      <td>...</td>\n",
              "      <td>...</td>\n",
              "    </tr>\n",
              "    <tr>\n",
              "      <th>258</th>\n",
              "      <td>XKX</td>\n",
              "      <td>Europe &amp; Central Asia</td>\n",
              "      <td>Upper middle income</td>\n",
              "      <td>Kosovo</td>\n",
              "    </tr>\n",
              "    <tr>\n",
              "      <th>259</th>\n",
              "      <td>YEM</td>\n",
              "      <td>Middle East &amp; North Africa</td>\n",
              "      <td>Low income</td>\n",
              "      <td>Yemen, Rep.</td>\n",
              "    </tr>\n",
              "    <tr>\n",
              "      <th>260</th>\n",
              "      <td>ZAF</td>\n",
              "      <td>Sub-Saharan Africa</td>\n",
              "      <td>Upper middle income</td>\n",
              "      <td>South Africa</td>\n",
              "    </tr>\n",
              "    <tr>\n",
              "      <th>261</th>\n",
              "      <td>ZMB</td>\n",
              "      <td>Sub-Saharan Africa</td>\n",
              "      <td>Lower middle income</td>\n",
              "      <td>Zambia</td>\n",
              "    </tr>\n",
              "    <tr>\n",
              "      <th>262</th>\n",
              "      <td>ZWE</td>\n",
              "      <td>Sub-Saharan Africa</td>\n",
              "      <td>Lower middle income</td>\n",
              "      <td>Zimbabwe</td>\n",
              "    </tr>\n",
              "  </tbody>\n",
              "</table>\n",
              "<p>263 rows × 4 columns</p>\n",
              "</div>"
            ],
            "text/plain": [
              "    Country Code                      Region          IncomeGroup     TableName\n",
              "0            ABW   Latin America & Caribbean          High income         Aruba\n",
              "1            AFG                  South Asia           Low income   Afghanistan\n",
              "2            AGO          Sub-Saharan Africa  Lower middle income        Angola\n",
              "3            ALB       Europe & Central Asia  Upper middle income       Albania\n",
              "4            AND       Europe & Central Asia          High income       Andorra\n",
              "..           ...                         ...                  ...           ...\n",
              "258          XKX       Europe & Central Asia  Upper middle income        Kosovo\n",
              "259          YEM  Middle East & North Africa           Low income   Yemen, Rep.\n",
              "260          ZAF          Sub-Saharan Africa  Upper middle income  South Africa\n",
              "261          ZMB          Sub-Saharan Africa  Lower middle income        Zambia\n",
              "262          ZWE          Sub-Saharan Africa  Lower middle income      Zimbabwe\n",
              "\n",
              "[263 rows x 4 columns]"
            ]
          },
          "metadata": {
            "tags": []
          },
          "execution_count": 458
        }
      ]
    },
    {
      "cell_type": "code",
      "metadata": {
        "colab": {
          "base_uri": "https://localhost:8080/"
        },
        "id": "U7qqkV0dsZJL",
        "outputId": "65994621-1f86-46b0-915e-b3c7903670f4"
      },
      "source": [
        "df_gdp.isnull().sum()"
      ],
      "execution_count": 459,
      "outputs": [
        {
          "output_type": "execute_result",
          "data": {
            "text/plain": [
              "Country Code     0\n",
              "Region          46\n",
              "IncomeGroup     46\n",
              "TableName        0\n",
              "dtype: int64"
            ]
          },
          "metadata": {
            "tags": []
          },
          "execution_count": 459
        }
      ]
    },
    {
      "cell_type": "code",
      "metadata": {
        "colab": {
          "base_uri": "https://localhost:8080/",
          "height": 0
        },
        "id": "gcG7EdvPsatH",
        "outputId": "6038af51-412c-4b8d-ee9c-df8e10f16e5a"
      },
      "source": [
        "df_gdp[df_gdp[\"Region\"].isnull() | df_gdp[\"IncomeGroup\"].isnull()]#.shape[0]"
      ],
      "execution_count": 460,
      "outputs": [
        {
          "output_type": "execute_result",
          "data": {
            "text/html": [
              "<div>\n",
              "<style scoped>\n",
              "    .dataframe tbody tr th:only-of-type {\n",
              "        vertical-align: middle;\n",
              "    }\n",
              "\n",
              "    .dataframe tbody tr th {\n",
              "        vertical-align: top;\n",
              "    }\n",
              "\n",
              "    .dataframe thead th {\n",
              "        text-align: right;\n",
              "    }\n",
              "</style>\n",
              "<table border=\"1\" class=\"dataframe\">\n",
              "  <thead>\n",
              "    <tr style=\"text-align: right;\">\n",
              "      <th></th>\n",
              "      <th>Country Code</th>\n",
              "      <th>Region</th>\n",
              "      <th>IncomeGroup</th>\n",
              "      <th>TableName</th>\n",
              "    </tr>\n",
              "  </thead>\n",
              "  <tbody>\n",
              "    <tr>\n",
              "      <th>5</th>\n",
              "      <td>ARB</td>\n",
              "      <td>NaN</td>\n",
              "      <td>NaN</td>\n",
              "      <td>Arab World</td>\n",
              "    </tr>\n",
              "    <tr>\n",
              "      <th>34</th>\n",
              "      <td>CEB</td>\n",
              "      <td>NaN</td>\n",
              "      <td>NaN</td>\n",
              "      <td>Central Europe and the Baltics</td>\n",
              "    </tr>\n",
              "    <tr>\n",
              "      <th>47</th>\n",
              "      <td>CSS</td>\n",
              "      <td>NaN</td>\n",
              "      <td>NaN</td>\n",
              "      <td>Caribbean small states</td>\n",
              "    </tr>\n",
              "    <tr>\n",
              "      <th>59</th>\n",
              "      <td>EAP</td>\n",
              "      <td>NaN</td>\n",
              "      <td>NaN</td>\n",
              "      <td>East Asia &amp; Pacific (excluding high income)</td>\n",
              "    </tr>\n",
              "    <tr>\n",
              "      <th>60</th>\n",
              "      <td>EAR</td>\n",
              "      <td>NaN</td>\n",
              "      <td>NaN</td>\n",
              "      <td>Early-demographic dividend</td>\n",
              "    </tr>\n",
              "    <tr>\n",
              "      <th>61</th>\n",
              "      <td>EAS</td>\n",
              "      <td>NaN</td>\n",
              "      <td>NaN</td>\n",
              "      <td>East Asia &amp; Pacific</td>\n",
              "    </tr>\n",
              "    <tr>\n",
              "      <th>62</th>\n",
              "      <td>ECA</td>\n",
              "      <td>NaN</td>\n",
              "      <td>NaN</td>\n",
              "      <td>Europe &amp; Central Asia (excluding high income)</td>\n",
              "    </tr>\n",
              "    <tr>\n",
              "      <th>63</th>\n",
              "      <td>ECS</td>\n",
              "      <td>NaN</td>\n",
              "      <td>NaN</td>\n",
              "      <td>Europe &amp; Central Asia</td>\n",
              "    </tr>\n",
              "    <tr>\n",
              "      <th>66</th>\n",
              "      <td>EMU</td>\n",
              "      <td>NaN</td>\n",
              "      <td>NaN</td>\n",
              "      <td>Euro area</td>\n",
              "    </tr>\n",
              "    <tr>\n",
              "      <th>71</th>\n",
              "      <td>EUU</td>\n",
              "      <td>NaN</td>\n",
              "      <td>NaN</td>\n",
              "      <td>European Union</td>\n",
              "    </tr>\n",
              "    <tr>\n",
              "      <th>72</th>\n",
              "      <td>FCS</td>\n",
              "      <td>NaN</td>\n",
              "      <td>NaN</td>\n",
              "      <td>Fragile and conflict affected situations</td>\n",
              "    </tr>\n",
              "    <tr>\n",
              "      <th>93</th>\n",
              "      <td>HIC</td>\n",
              "      <td>NaN</td>\n",
              "      <td>NaN</td>\n",
              "      <td>High income</td>\n",
              "    </tr>\n",
              "    <tr>\n",
              "      <th>96</th>\n",
              "      <td>HPC</td>\n",
              "      <td>NaN</td>\n",
              "      <td>NaN</td>\n",
              "      <td>Heavily indebted poor countries (HIPC)</td>\n",
              "    </tr>\n",
              "    <tr>\n",
              "      <th>100</th>\n",
              "      <td>IBD</td>\n",
              "      <td>NaN</td>\n",
              "      <td>NaN</td>\n",
              "      <td>IBRD only</td>\n",
              "    </tr>\n",
              "    <tr>\n",
              "      <th>101</th>\n",
              "      <td>IBT</td>\n",
              "      <td>NaN</td>\n",
              "      <td>NaN</td>\n",
              "      <td>IDA &amp; IBRD total</td>\n",
              "    </tr>\n",
              "    <tr>\n",
              "      <th>102</th>\n",
              "      <td>IDA</td>\n",
              "      <td>NaN</td>\n",
              "      <td>NaN</td>\n",
              "      <td>IDA total</td>\n",
              "    </tr>\n",
              "    <tr>\n",
              "      <th>103</th>\n",
              "      <td>IDB</td>\n",
              "      <td>NaN</td>\n",
              "      <td>NaN</td>\n",
              "      <td>IDA blend</td>\n",
              "    </tr>\n",
              "    <tr>\n",
              "      <th>105</th>\n",
              "      <td>IDX</td>\n",
              "      <td>NaN</td>\n",
              "      <td>NaN</td>\n",
              "      <td>IDA only</td>\n",
              "    </tr>\n",
              "    <tr>\n",
              "      <th>125</th>\n",
              "      <td>LAC</td>\n",
              "      <td>NaN</td>\n",
              "      <td>NaN</td>\n",
              "      <td>Latin America &amp; Caribbean (excluding high income)</td>\n",
              "    </tr>\n",
              "    <tr>\n",
              "      <th>131</th>\n",
              "      <td>LCN</td>\n",
              "      <td>NaN</td>\n",
              "      <td>NaN</td>\n",
              "      <td>Latin America &amp; Caribbean</td>\n",
              "    </tr>\n",
              "    <tr>\n",
              "      <th>132</th>\n",
              "      <td>LDC</td>\n",
              "      <td>NaN</td>\n",
              "      <td>NaN</td>\n",
              "      <td>Least developed countries: UN classification</td>\n",
              "    </tr>\n",
              "    <tr>\n",
              "      <th>133</th>\n",
              "      <td>LIC</td>\n",
              "      <td>NaN</td>\n",
              "      <td>NaN</td>\n",
              "      <td>Low income</td>\n",
              "    </tr>\n",
              "    <tr>\n",
              "      <th>136</th>\n",
              "      <td>LMC</td>\n",
              "      <td>NaN</td>\n",
              "      <td>NaN</td>\n",
              "      <td>Lower middle income</td>\n",
              "    </tr>\n",
              "    <tr>\n",
              "      <th>137</th>\n",
              "      <td>LMY</td>\n",
              "      <td>NaN</td>\n",
              "      <td>NaN</td>\n",
              "      <td>Low &amp; middle income</td>\n",
              "    </tr>\n",
              "    <tr>\n",
              "      <th>139</th>\n",
              "      <td>LTE</td>\n",
              "      <td>NaN</td>\n",
              "      <td>NaN</td>\n",
              "      <td>Late-demographic dividend</td>\n",
              "    </tr>\n",
              "    <tr>\n",
              "      <th>150</th>\n",
              "      <td>MEA</td>\n",
              "      <td>NaN</td>\n",
              "      <td>NaN</td>\n",
              "      <td>Middle East &amp; North Africa</td>\n",
              "    </tr>\n",
              "    <tr>\n",
              "      <th>153</th>\n",
              "      <td>MIC</td>\n",
              "      <td>NaN</td>\n",
              "      <td>NaN</td>\n",
              "      <td>Middle income</td>\n",
              "    </tr>\n",
              "    <tr>\n",
              "      <th>158</th>\n",
              "      <td>MNA</td>\n",
              "      <td>NaN</td>\n",
              "      <td>NaN</td>\n",
              "      <td>Middle East &amp; North Africa (excluding high inc...</td>\n",
              "    </tr>\n",
              "    <tr>\n",
              "      <th>167</th>\n",
              "      <td>NAC</td>\n",
              "      <td>NaN</td>\n",
              "      <td>NaN</td>\n",
              "      <td>North America</td>\n",
              "    </tr>\n",
              "    <tr>\n",
              "      <th>178</th>\n",
              "      <td>OED</td>\n",
              "      <td>NaN</td>\n",
              "      <td>NaN</td>\n",
              "      <td>OECD members</td>\n",
              "    </tr>\n",
              "    <tr>\n",
              "      <th>180</th>\n",
              "      <td>OSS</td>\n",
              "      <td>NaN</td>\n",
              "      <td>NaN</td>\n",
              "      <td>Other small states</td>\n",
              "    </tr>\n",
              "    <tr>\n",
              "      <th>188</th>\n",
              "      <td>PRE</td>\n",
              "      <td>NaN</td>\n",
              "      <td>NaN</td>\n",
              "      <td>Pre-demographic dividend</td>\n",
              "    </tr>\n",
              "    <tr>\n",
              "      <th>194</th>\n",
              "      <td>PSS</td>\n",
              "      <td>NaN</td>\n",
              "      <td>NaN</td>\n",
              "      <td>Pacific island small states</td>\n",
              "    </tr>\n",
              "    <tr>\n",
              "      <th>195</th>\n",
              "      <td>PST</td>\n",
              "      <td>NaN</td>\n",
              "      <td>NaN</td>\n",
              "      <td>Post-demographic dividend</td>\n",
              "    </tr>\n",
              "    <tr>\n",
              "      <th>201</th>\n",
              "      <td>SAS</td>\n",
              "      <td>NaN</td>\n",
              "      <td>NaN</td>\n",
              "      <td>South Asia</td>\n",
              "    </tr>\n",
              "    <tr>\n",
              "      <th>212</th>\n",
              "      <td>SSA</td>\n",
              "      <td>NaN</td>\n",
              "      <td>NaN</td>\n",
              "      <td>Sub-Saharan Africa (excluding high income)</td>\n",
              "    </tr>\n",
              "    <tr>\n",
              "      <th>214</th>\n",
              "      <td>SSF</td>\n",
              "      <td>NaN</td>\n",
              "      <td>NaN</td>\n",
              "      <td>Sub-Saharan Africa</td>\n",
              "    </tr>\n",
              "    <tr>\n",
              "      <th>215</th>\n",
              "      <td>SST</td>\n",
              "      <td>NaN</td>\n",
              "      <td>NaN</td>\n",
              "      <td>Small states</td>\n",
              "    </tr>\n",
              "    <tr>\n",
              "      <th>227</th>\n",
              "      <td>TEA</td>\n",
              "      <td>NaN</td>\n",
              "      <td>NaN</td>\n",
              "      <td>East Asia &amp; Pacific (IDA &amp; IBRD)</td>\n",
              "    </tr>\n",
              "    <tr>\n",
              "      <th>228</th>\n",
              "      <td>TEC</td>\n",
              "      <td>NaN</td>\n",
              "      <td>NaN</td>\n",
              "      <td>Europe &amp; Central Asia (IDA &amp; IBRD)</td>\n",
              "    </tr>\n",
              "    <tr>\n",
              "      <th>233</th>\n",
              "      <td>TLA</td>\n",
              "      <td>NaN</td>\n",
              "      <td>NaN</td>\n",
              "      <td>Latin America &amp; Caribbean (IDA &amp; IBRD)</td>\n",
              "    </tr>\n",
              "    <tr>\n",
              "      <th>235</th>\n",
              "      <td>TMN</td>\n",
              "      <td>NaN</td>\n",
              "      <td>NaN</td>\n",
              "      <td>Middle East &amp; North Africa (IDA &amp; IBRD)</td>\n",
              "    </tr>\n",
              "    <tr>\n",
              "      <th>237</th>\n",
              "      <td>TSA</td>\n",
              "      <td>NaN</td>\n",
              "      <td>NaN</td>\n",
              "      <td>South Asia (IDA &amp; IBRD)</td>\n",
              "    </tr>\n",
              "    <tr>\n",
              "      <th>238</th>\n",
              "      <td>TSS</td>\n",
              "      <td>NaN</td>\n",
              "      <td>NaN</td>\n",
              "      <td>Sub-Saharan Africa (IDA &amp; IBRD)</td>\n",
              "    </tr>\n",
              "    <tr>\n",
              "      <th>246</th>\n",
              "      <td>UMC</td>\n",
              "      <td>NaN</td>\n",
              "      <td>NaN</td>\n",
              "      <td>Upper middle income</td>\n",
              "    </tr>\n",
              "    <tr>\n",
              "      <th>256</th>\n",
              "      <td>WLD</td>\n",
              "      <td>NaN</td>\n",
              "      <td>NaN</td>\n",
              "      <td>World</td>\n",
              "    </tr>\n",
              "  </tbody>\n",
              "</table>\n",
              "</div>"
            ],
            "text/plain": [
              "    Country Code  ...                                          TableName\n",
              "5            ARB  ...                                         Arab World\n",
              "34           CEB  ...                     Central Europe and the Baltics\n",
              "47           CSS  ...                             Caribbean small states\n",
              "59           EAP  ...        East Asia & Pacific (excluding high income)\n",
              "60           EAR  ...                         Early-demographic dividend\n",
              "61           EAS  ...                                East Asia & Pacific\n",
              "62           ECA  ...      Europe & Central Asia (excluding high income)\n",
              "63           ECS  ...                              Europe & Central Asia\n",
              "66           EMU  ...                                          Euro area\n",
              "71           EUU  ...                                     European Union\n",
              "72           FCS  ...           Fragile and conflict affected situations\n",
              "93           HIC  ...                                        High income\n",
              "96           HPC  ...             Heavily indebted poor countries (HIPC)\n",
              "100          IBD  ...                                          IBRD only\n",
              "101          IBT  ...                                   IDA & IBRD total\n",
              "102          IDA  ...                                          IDA total\n",
              "103          IDB  ...                                          IDA blend\n",
              "105          IDX  ...                                           IDA only\n",
              "125          LAC  ...  Latin America & Caribbean (excluding high income)\n",
              "131          LCN  ...                          Latin America & Caribbean\n",
              "132          LDC  ...       Least developed countries: UN classification\n",
              "133          LIC  ...                                         Low income\n",
              "136          LMC  ...                                Lower middle income\n",
              "137          LMY  ...                                Low & middle income\n",
              "139          LTE  ...                          Late-demographic dividend\n",
              "150          MEA  ...                         Middle East & North Africa\n",
              "153          MIC  ...                                      Middle income\n",
              "158          MNA  ...  Middle East & North Africa (excluding high inc...\n",
              "167          NAC  ...                                      North America\n",
              "178          OED  ...                                       OECD members\n",
              "180          OSS  ...                                 Other small states\n",
              "188          PRE  ...                           Pre-demographic dividend\n",
              "194          PSS  ...                        Pacific island small states\n",
              "195          PST  ...                          Post-demographic dividend\n",
              "201          SAS  ...                                         South Asia\n",
              "212          SSA  ...         Sub-Saharan Africa (excluding high income)\n",
              "214          SSF  ...                                 Sub-Saharan Africa\n",
              "215          SST  ...                                       Small states\n",
              "227          TEA  ...                   East Asia & Pacific (IDA & IBRD)\n",
              "228          TEC  ...                 Europe & Central Asia (IDA & IBRD)\n",
              "233          TLA  ...             Latin America & Caribbean (IDA & IBRD)\n",
              "235          TMN  ...            Middle East & North Africa (IDA & IBRD)\n",
              "237          TSA  ...                            South Asia (IDA & IBRD)\n",
              "238          TSS  ...                    Sub-Saharan Africa (IDA & IBRD)\n",
              "246          UMC  ...                                Upper middle income\n",
              "256          WLD  ...                                              World\n",
              "\n",
              "[46 rows x 4 columns]"
            ]
          },
          "metadata": {
            "tags": []
          },
          "execution_count": 460
        }
      ]
    },
    {
      "cell_type": "code",
      "metadata": {
        "colab": {
          "base_uri": "https://localhost:8080/",
          "height": 0
        },
        "id": "SXFBe6DYtoVX",
        "outputId": "7e52efb3-7e60-4e71-a420-9c75e017c7b4"
      },
      "source": [
        "df_gdp.dropna(inplace=True)\n",
        "\n",
        "df_gdp"
      ],
      "execution_count": 461,
      "outputs": [
        {
          "output_type": "execute_result",
          "data": {
            "text/html": [
              "<div>\n",
              "<style scoped>\n",
              "    .dataframe tbody tr th:only-of-type {\n",
              "        vertical-align: middle;\n",
              "    }\n",
              "\n",
              "    .dataframe tbody tr th {\n",
              "        vertical-align: top;\n",
              "    }\n",
              "\n",
              "    .dataframe thead th {\n",
              "        text-align: right;\n",
              "    }\n",
              "</style>\n",
              "<table border=\"1\" class=\"dataframe\">\n",
              "  <thead>\n",
              "    <tr style=\"text-align: right;\">\n",
              "      <th></th>\n",
              "      <th>Country Code</th>\n",
              "      <th>Region</th>\n",
              "      <th>IncomeGroup</th>\n",
              "      <th>TableName</th>\n",
              "    </tr>\n",
              "  </thead>\n",
              "  <tbody>\n",
              "    <tr>\n",
              "      <th>0</th>\n",
              "      <td>ABW</td>\n",
              "      <td>Latin America &amp; Caribbean</td>\n",
              "      <td>High income</td>\n",
              "      <td>Aruba</td>\n",
              "    </tr>\n",
              "    <tr>\n",
              "      <th>1</th>\n",
              "      <td>AFG</td>\n",
              "      <td>South Asia</td>\n",
              "      <td>Low income</td>\n",
              "      <td>Afghanistan</td>\n",
              "    </tr>\n",
              "    <tr>\n",
              "      <th>2</th>\n",
              "      <td>AGO</td>\n",
              "      <td>Sub-Saharan Africa</td>\n",
              "      <td>Lower middle income</td>\n",
              "      <td>Angola</td>\n",
              "    </tr>\n",
              "    <tr>\n",
              "      <th>3</th>\n",
              "      <td>ALB</td>\n",
              "      <td>Europe &amp; Central Asia</td>\n",
              "      <td>Upper middle income</td>\n",
              "      <td>Albania</td>\n",
              "    </tr>\n",
              "    <tr>\n",
              "      <th>4</th>\n",
              "      <td>AND</td>\n",
              "      <td>Europe &amp; Central Asia</td>\n",
              "      <td>High income</td>\n",
              "      <td>Andorra</td>\n",
              "    </tr>\n",
              "    <tr>\n",
              "      <th>...</th>\n",
              "      <td>...</td>\n",
              "      <td>...</td>\n",
              "      <td>...</td>\n",
              "      <td>...</td>\n",
              "    </tr>\n",
              "    <tr>\n",
              "      <th>258</th>\n",
              "      <td>XKX</td>\n",
              "      <td>Europe &amp; Central Asia</td>\n",
              "      <td>Upper middle income</td>\n",
              "      <td>Kosovo</td>\n",
              "    </tr>\n",
              "    <tr>\n",
              "      <th>259</th>\n",
              "      <td>YEM</td>\n",
              "      <td>Middle East &amp; North Africa</td>\n",
              "      <td>Low income</td>\n",
              "      <td>Yemen, Rep.</td>\n",
              "    </tr>\n",
              "    <tr>\n",
              "      <th>260</th>\n",
              "      <td>ZAF</td>\n",
              "      <td>Sub-Saharan Africa</td>\n",
              "      <td>Upper middle income</td>\n",
              "      <td>South Africa</td>\n",
              "    </tr>\n",
              "    <tr>\n",
              "      <th>261</th>\n",
              "      <td>ZMB</td>\n",
              "      <td>Sub-Saharan Africa</td>\n",
              "      <td>Lower middle income</td>\n",
              "      <td>Zambia</td>\n",
              "    </tr>\n",
              "    <tr>\n",
              "      <th>262</th>\n",
              "      <td>ZWE</td>\n",
              "      <td>Sub-Saharan Africa</td>\n",
              "      <td>Lower middle income</td>\n",
              "      <td>Zimbabwe</td>\n",
              "    </tr>\n",
              "  </tbody>\n",
              "</table>\n",
              "<p>217 rows × 4 columns</p>\n",
              "</div>"
            ],
            "text/plain": [
              "    Country Code                      Region          IncomeGroup     TableName\n",
              "0            ABW   Latin America & Caribbean          High income         Aruba\n",
              "1            AFG                  South Asia           Low income   Afghanistan\n",
              "2            AGO          Sub-Saharan Africa  Lower middle income        Angola\n",
              "3            ALB       Europe & Central Asia  Upper middle income       Albania\n",
              "4            AND       Europe & Central Asia          High income       Andorra\n",
              "..           ...                         ...                  ...           ...\n",
              "258          XKX       Europe & Central Asia  Upper middle income        Kosovo\n",
              "259          YEM  Middle East & North Africa           Low income   Yemen, Rep.\n",
              "260          ZAF          Sub-Saharan Africa  Upper middle income  South Africa\n",
              "261          ZMB          Sub-Saharan Africa  Lower middle income        Zambia\n",
              "262          ZWE          Sub-Saharan Africa  Lower middle income      Zimbabwe\n",
              "\n",
              "[217 rows x 4 columns]"
            ]
          },
          "metadata": {
            "tags": []
          },
          "execution_count": 461
        }
      ]
    },
    {
      "cell_type": "markdown",
      "metadata": {
        "id": "cxf51Cxmi4bA"
      },
      "source": [
        "## MERGE"
      ]
    },
    {
      "cell_type": "code",
      "metadata": {
        "colab": {
          "base_uri": "https://localhost:8080/",
          "height": 0
        },
        "id": "Q0rHAAZbLbhC",
        "outputId": "0e0d1993-f6c6-49c9-831e-a0926c76686f"
      },
      "source": [
        "df_rearanged.merge(df_gdp,how=\"inner\", left_on=\"Country\", right_on=\"TableName\")"
      ],
      "execution_count": 462,
      "outputs": [
        {
          "output_type": "execute_result",
          "data": {
            "text/html": [
              "<div>\n",
              "<style scoped>\n",
              "    .dataframe tbody tr th:only-of-type {\n",
              "        vertical-align: middle;\n",
              "    }\n",
              "\n",
              "    .dataframe tbody tr th {\n",
              "        vertical-align: top;\n",
              "    }\n",
              "\n",
              "    .dataframe thead th {\n",
              "        text-align: right;\n",
              "    }\n",
              "</style>\n",
              "<table border=\"1\" class=\"dataframe\">\n",
              "  <thead>\n",
              "    <tr style=\"text-align: right;\">\n",
              "      <th></th>\n",
              "      <th>Country</th>\n",
              "      <th>Year</th>\n",
              "      <th>Causes</th>\n",
              "      <th>Both sexes_recent</th>\n",
              "      <th>Both sexes_min</th>\n",
              "      <th>Both sexes_max</th>\n",
              "      <th>Male_recent</th>\n",
              "      <th>Male_min</th>\n",
              "      <th>Male_max</th>\n",
              "      <th>Female_recent</th>\n",
              "      <th>Female_min</th>\n",
              "      <th>Female_max</th>\n",
              "      <th>Country Code</th>\n",
              "      <th>Region</th>\n",
              "      <th>IncomeGroup</th>\n",
              "      <th>TableName</th>\n",
              "    </tr>\n",
              "  </thead>\n",
              "  <tbody>\n",
              "    <tr>\n",
              "      <th>0</th>\n",
              "      <td>Afghanistan</td>\n",
              "      <td>2019</td>\n",
              "      <td>Malignant neoplasms</td>\n",
              "      <td>15565</td>\n",
              "      <td>7609</td>\n",
              "      <td>28280</td>\n",
              "      <td>7756</td>\n",
              "      <td>3898</td>\n",
              "      <td>13841</td>\n",
              "      <td>7809</td>\n",
              "      <td>3711</td>\n",
              "      <td>14439</td>\n",
              "      <td>AFG</td>\n",
              "      <td>South Asia</td>\n",
              "      <td>Low income</td>\n",
              "      <td>Afghanistan</td>\n",
              "    </tr>\n",
              "    <tr>\n",
              "      <th>1</th>\n",
              "      <td>Afghanistan</td>\n",
              "      <td>2019</td>\n",
              "      <td>Diabetes mellitus</td>\n",
              "      <td>8060</td>\n",
              "      <td>3827</td>\n",
              "      <td>14468</td>\n",
              "      <td>2612</td>\n",
              "      <td>1377</td>\n",
              "      <td>4651</td>\n",
              "      <td>5448</td>\n",
              "      <td>2451</td>\n",
              "      <td>9817</td>\n",
              "      <td>AFG</td>\n",
              "      <td>South Asia</td>\n",
              "      <td>Low income</td>\n",
              "      <td>Afghanistan</td>\n",
              "    </tr>\n",
              "    <tr>\n",
              "      <th>2</th>\n",
              "      <td>Afghanistan</td>\n",
              "      <td>2019</td>\n",
              "      <td>Cardiovascular diseases</td>\n",
              "      <td>71264</td>\n",
              "      <td>42413</td>\n",
              "      <td>108472</td>\n",
              "      <td>33793</td>\n",
              "      <td>20550</td>\n",
              "      <td>51028</td>\n",
              "      <td>37471</td>\n",
              "      <td>21863</td>\n",
              "      <td>57444</td>\n",
              "      <td>AFG</td>\n",
              "      <td>South Asia</td>\n",
              "      <td>Low income</td>\n",
              "      <td>Afghanistan</td>\n",
              "    </tr>\n",
              "    <tr>\n",
              "      <th>3</th>\n",
              "      <td>Afghanistan</td>\n",
              "      <td>2019</td>\n",
              "      <td>Chronic respiratory diseases</td>\n",
              "      <td>8285</td>\n",
              "      <td>3618</td>\n",
              "      <td>14626</td>\n",
              "      <td>3920</td>\n",
              "      <td>1877</td>\n",
              "      <td>6745</td>\n",
              "      <td>4365</td>\n",
              "      <td>1741</td>\n",
              "      <td>7881</td>\n",
              "      <td>AFG</td>\n",
              "      <td>South Asia</td>\n",
              "      <td>Low income</td>\n",
              "      <td>Afghanistan</td>\n",
              "    </tr>\n",
              "    <tr>\n",
              "      <th>4</th>\n",
              "      <td>Afghanistan</td>\n",
              "      <td>2018</td>\n",
              "      <td>Malignant neoplasms</td>\n",
              "      <td>15065</td>\n",
              "      <td>7337</td>\n",
              "      <td>27401</td>\n",
              "      <td>7534</td>\n",
              "      <td>3766</td>\n",
              "      <td>13454</td>\n",
              "      <td>7531</td>\n",
              "      <td>3570</td>\n",
              "      <td>13948</td>\n",
              "      <td>AFG</td>\n",
              "      <td>South Asia</td>\n",
              "      <td>Low income</td>\n",
              "      <td>Afghanistan</td>\n",
              "    </tr>\n",
              "    <tr>\n",
              "      <th>...</th>\n",
              "      <td>...</td>\n",
              "      <td>...</td>\n",
              "      <td>...</td>\n",
              "      <td>...</td>\n",
              "      <td>...</td>\n",
              "      <td>...</td>\n",
              "      <td>...</td>\n",
              "      <td>...</td>\n",
              "      <td>...</td>\n",
              "      <td>...</td>\n",
              "      <td>...</td>\n",
              "      <td>...</td>\n",
              "      <td>...</td>\n",
              "      <td>...</td>\n",
              "      <td>...</td>\n",
              "      <td>...</td>\n",
              "    </tr>\n",
              "    <tr>\n",
              "      <th>12715</th>\n",
              "      <td>Zimbabwe</td>\n",
              "      <td>2001</td>\n",
              "      <td>Chronic respiratory diseases</td>\n",
              "      <td>1884</td>\n",
              "      <td>1044</td>\n",
              "      <td>3046</td>\n",
              "      <td>996</td>\n",
              "      <td>603</td>\n",
              "      <td>1513</td>\n",
              "      <td>887</td>\n",
              "      <td>441</td>\n",
              "      <td>1533</td>\n",
              "      <td>ZWE</td>\n",
              "      <td>Sub-Saharan Africa</td>\n",
              "      <td>Lower middle income</td>\n",
              "      <td>Zimbabwe</td>\n",
              "    </tr>\n",
              "    <tr>\n",
              "      <th>12716</th>\n",
              "      <td>Zimbabwe</td>\n",
              "      <td>2000</td>\n",
              "      <td>Malignant neoplasms</td>\n",
              "      <td>7474</td>\n",
              "      <td>4592</td>\n",
              "      <td>11441</td>\n",
              "      <td>3838</td>\n",
              "      <td>2512</td>\n",
              "      <td>5647</td>\n",
              "      <td>3636</td>\n",
              "      <td>2080</td>\n",
              "      <td>5794</td>\n",
              "      <td>ZWE</td>\n",
              "      <td>Sub-Saharan Africa</td>\n",
              "      <td>Lower middle income</td>\n",
              "      <td>Zimbabwe</td>\n",
              "    </tr>\n",
              "    <tr>\n",
              "      <th>12717</th>\n",
              "      <td>Zimbabwe</td>\n",
              "      <td>2000</td>\n",
              "      <td>Diabetes mellitus</td>\n",
              "      <td>2039</td>\n",
              "      <td>1227</td>\n",
              "      <td>3219</td>\n",
              "      <td>810</td>\n",
              "      <td>507</td>\n",
              "      <td>1246</td>\n",
              "      <td>1229</td>\n",
              "      <td>720</td>\n",
              "      <td>1972</td>\n",
              "      <td>ZWE</td>\n",
              "      <td>Sub-Saharan Africa</td>\n",
              "      <td>Lower middle income</td>\n",
              "      <td>Zimbabwe</td>\n",
              "    </tr>\n",
              "    <tr>\n",
              "      <th>12718</th>\n",
              "      <td>Zimbabwe</td>\n",
              "      <td>2000</td>\n",
              "      <td>Cardiovascular diseases</td>\n",
              "      <td>10368</td>\n",
              "      <td>6335</td>\n",
              "      <td>16076</td>\n",
              "      <td>4425</td>\n",
              "      <td>2818</td>\n",
              "      <td>6837</td>\n",
              "      <td>5943</td>\n",
              "      <td>3516</td>\n",
              "      <td>9239</td>\n",
              "      <td>ZWE</td>\n",
              "      <td>Sub-Saharan Africa</td>\n",
              "      <td>Lower middle income</td>\n",
              "      <td>Zimbabwe</td>\n",
              "    </tr>\n",
              "    <tr>\n",
              "      <th>12719</th>\n",
              "      <td>Zimbabwe</td>\n",
              "      <td>2000</td>\n",
              "      <td>Chronic respiratory diseases</td>\n",
              "      <td>1861</td>\n",
              "      <td>1039</td>\n",
              "      <td>2993</td>\n",
              "      <td>983</td>\n",
              "      <td>605</td>\n",
              "      <td>1481</td>\n",
              "      <td>878</td>\n",
              "      <td>435</td>\n",
              "      <td>1513</td>\n",
              "      <td>ZWE</td>\n",
              "      <td>Sub-Saharan Africa</td>\n",
              "      <td>Lower middle income</td>\n",
              "      <td>Zimbabwe</td>\n",
              "    </tr>\n",
              "  </tbody>\n",
              "</table>\n",
              "<p>12720 rows × 16 columns</p>\n",
              "</div>"
            ],
            "text/plain": [
              "           Country  Year  ...          IncomeGroup    TableName\n",
              "0      Afghanistan  2019  ...           Low income  Afghanistan\n",
              "1      Afghanistan  2019  ...           Low income  Afghanistan\n",
              "2      Afghanistan  2019  ...           Low income  Afghanistan\n",
              "3      Afghanistan  2019  ...           Low income  Afghanistan\n",
              "4      Afghanistan  2018  ...           Low income  Afghanistan\n",
              "...            ...   ...  ...                  ...          ...\n",
              "12715     Zimbabwe  2001  ...  Lower middle income     Zimbabwe\n",
              "12716     Zimbabwe  2000  ...  Lower middle income     Zimbabwe\n",
              "12717     Zimbabwe  2000  ...  Lower middle income     Zimbabwe\n",
              "12718     Zimbabwe  2000  ...  Lower middle income     Zimbabwe\n",
              "12719     Zimbabwe  2000  ...  Lower middle income     Zimbabwe\n",
              "\n",
              "[12720 rows x 16 columns]"
            ]
          },
          "metadata": {
            "tags": []
          },
          "execution_count": 462
        }
      ]
    },
    {
      "cell_type": "code",
      "metadata": {
        "colab": {
          "base_uri": "https://localhost:8080/"
        },
        "id": "f777UFHJubq3",
        "outputId": "a41213b4-2b41-49da-8b1d-034a2dc7789a"
      },
      "source": [
        "df_rearanged.shape"
      ],
      "execution_count": 463,
      "outputs": [
        {
          "output_type": "execute_result",
          "data": {
            "text/plain": [
              "(14640, 12)"
            ]
          },
          "metadata": {
            "tags": []
          },
          "execution_count": 463
        }
      ]
    },
    {
      "cell_type": "code",
      "metadata": {
        "colab": {
          "base_uri": "https://localhost:8080/"
        },
        "id": "370IxTiuMmqC",
        "outputId": "06aa7d2b-30b2-4a5c-dd87-3954850e7305"
      },
      "source": [
        "df_rearanged.Country.unique()"
      ],
      "execution_count": 464,
      "outputs": [
        {
          "output_type": "execute_result",
          "data": {
            "text/plain": [
              "array(['Afghanistan', 'Albania', 'Algeria', 'Angola',\n",
              "       'Antigua and Barbuda', 'Argentina', 'Armenia', 'Australia',\n",
              "       'Austria', 'Azerbaijan', 'Bahamas', 'Bahrain', 'Bangladesh',\n",
              "       'Barbados', 'Belarus', 'Belgium', 'Belize', 'Benin', 'Bhutan',\n",
              "       'Bolivia (Plurinational State of)', 'Bosnia and Herzegovina',\n",
              "       'Botswana', 'Brazil', 'Brunei Darussalam', 'Bulgaria',\n",
              "       'Burkina Faso', 'Burundi', 'Cabo Verde', 'Cambodia', 'Cameroon',\n",
              "       'Canada', 'Central African Republic', 'Chad', 'Chile', 'China',\n",
              "       'Colombia', 'Comoros', 'Congo', 'Costa Rica', \"Côte d'Ivoire\",\n",
              "       'Croatia', 'Cuba', 'Cyprus', 'Czechia',\n",
              "       \"Democratic People's Republic of Korea\",\n",
              "       'Democratic Republic of the Congo', 'Denmark', 'Djibouti',\n",
              "       'Dominican Republic', 'Ecuador', 'Egypt', 'El Salvador',\n",
              "       'Equatorial Guinea', 'Eritrea', 'Estonia', 'Eswatini', 'Ethiopia',\n",
              "       'Fiji', 'Finland', 'France', 'Gabon', 'Gambia', 'Georgia',\n",
              "       'Germany', 'Ghana', 'Greece', 'Grenada', 'Guatemala', 'Guinea',\n",
              "       'Guinea-Bissau', 'Guyana', 'Haiti', 'Honduras', 'Hungary',\n",
              "       'Iceland', 'India', 'Indonesia', 'Iran (Islamic Republic of)',\n",
              "       'Iraq', 'Ireland', 'Israel', 'Italy', 'Jamaica', 'Japan', 'Jordan',\n",
              "       'Kazakhstan', 'Kenya', 'Kiribati', 'Kuwait', 'Kyrgyzstan',\n",
              "       \"Lao People's Democratic Republic\", 'Latvia', 'Lebanon', 'Lesotho',\n",
              "       'Liberia', 'Libya', 'Lithuania', 'Luxembourg', 'Madagascar',\n",
              "       'Malawi', 'Malaysia', 'Maldives', 'Mali', 'Malta', 'Mauritania',\n",
              "       'Mauritius', 'Mexico', 'Micronesia (Federated States of)',\n",
              "       'Mongolia', 'Montenegro', 'Morocco', 'Mozambique', 'Myanmar',\n",
              "       'Namibia', 'Nepal', 'Netherlands', 'New Zealand', 'Nicaragua',\n",
              "       'Niger', 'Nigeria', 'Norway', 'Oman', 'Pakistan', 'Panama',\n",
              "       'Papua New Guinea', 'Paraguay', 'Peru', 'Philippines', 'Poland',\n",
              "       'Portugal', 'Qatar', 'Republic of Korea', 'Republic of Moldova',\n",
              "       'North Macedonia', 'Romania', 'Russian Federation', 'Rwanda',\n",
              "       'Saint Lucia', 'Saint Vincent and the Grenadines', 'Samoa',\n",
              "       'Sao Tome and Principe', 'Saudi Arabia', 'Senegal', 'Serbia',\n",
              "       'Seychelles', 'Sierra Leone', 'Singapore', 'Slovakia', 'Slovenia',\n",
              "       'Solomon Islands', 'Somalia', 'South Africa', 'South Sudan',\n",
              "       'Spain', 'Sri Lanka', 'Sudan', 'Suriname', 'Sweden', 'Switzerland',\n",
              "       'Syrian Arab Republic', 'Tajikistan', 'Thailand', 'Timor-Leste',\n",
              "       'Togo', 'Tonga', 'Trinidad and Tobago', 'Tunisia', 'Turkey',\n",
              "       'Turkmenistan', 'Uganda', 'Ukraine', 'United Arab Emirates',\n",
              "       'United Kingdom of Great Britain and Northern Ireland',\n",
              "       'United Republic of Tanzania', 'United States of America',\n",
              "       'Uruguay', 'Uzbekistan', 'Vanuatu',\n",
              "       'Venezuela (Bolivarian Republic of)', 'Viet Nam', 'Yemen',\n",
              "       'Zambia', 'Zimbabwe'], dtype=object)"
            ]
          },
          "metadata": {
            "tags": []
          },
          "execution_count": 464
        }
      ]
    },
    {
      "cell_type": "code",
      "metadata": {
        "colab": {
          "base_uri": "https://localhost:8080/"
        },
        "id": "eCOooQpmRSJF",
        "outputId": "29b54671-0830-43ad-e3f9-4e838accb3e1"
      },
      "source": [
        "df_gdp.TableName.unique()"
      ],
      "execution_count": 465,
      "outputs": [
        {
          "output_type": "execute_result",
          "data": {
            "text/plain": [
              "array(['Aruba', 'Afghanistan', 'Angola', 'Albania', 'Andorra',\n",
              "       'United Arab Emirates', 'Argentina', 'Armenia', 'American Samoa',\n",
              "       'Antigua and Barbuda', 'Australia', 'Austria', 'Azerbaijan',\n",
              "       'Burundi', 'Belgium', 'Benin', 'Burkina Faso', 'Bangladesh',\n",
              "       'Bulgaria', 'Bahrain', 'Bahamas, The', 'Bosnia and Herzegovina',\n",
              "       'Belarus', 'Belize', 'Bermuda', 'Bolivia', 'Brazil', 'Barbados',\n",
              "       'Brunei Darussalam', 'Bhutan', 'Botswana',\n",
              "       'Central African Republic', 'Canada', 'Switzerland',\n",
              "       'Channel Islands', 'Chile', 'China', \"Côte d'Ivoire\", 'Cameroon',\n",
              "       'Congo, Dem. Rep.', 'Congo, Rep.', 'Colombia', 'Comoros',\n",
              "       'Cabo Verde', 'Costa Rica', 'Cuba', 'Curaçao', 'Cayman Islands',\n",
              "       'Cyprus', 'Czech Republic', 'Germany', 'Djibouti', 'Dominica',\n",
              "       'Denmark', 'Dominican Republic', 'Algeria', 'Ecuador',\n",
              "       'Egypt, Arab Rep.', 'Eritrea', 'Spain', 'Estonia', 'Ethiopia',\n",
              "       'Finland', 'Fiji', 'France', 'Faroe Islands',\n",
              "       'Micronesia, Fed. Sts.', 'Gabon', 'United Kingdom', 'Georgia',\n",
              "       'Ghana', 'Gibraltar', 'Guinea', 'Gambia, The', 'Guinea-Bissau',\n",
              "       'Equatorial Guinea', 'Greece', 'Grenada', 'Greenland', 'Guatemala',\n",
              "       'Guam', 'Guyana', 'Hong Kong SAR, China', 'Honduras', 'Croatia',\n",
              "       'Haiti', 'Hungary', 'Indonesia', 'Isle of Man', 'India', 'Ireland',\n",
              "       'Iran, Islamic Rep.', 'Iraq', 'Iceland', 'Israel', 'Italy',\n",
              "       'Jamaica', 'Jordan', 'Japan', 'Kazakhstan', 'Kenya',\n",
              "       'Kyrgyz Republic', 'Cambodia', 'Kiribati', 'St. Kitts and Nevis',\n",
              "       'Korea, Rep.', 'Kuwait', 'Lao PDR', 'Lebanon', 'Liberia', 'Libya',\n",
              "       'St. Lucia', 'Liechtenstein', 'Sri Lanka', 'Lesotho', 'Lithuania',\n",
              "       'Luxembourg', 'Latvia', 'Macao SAR, China',\n",
              "       'St. Martin (French part)', 'Morocco', 'Monaco', 'Moldova',\n",
              "       'Madagascar', 'Maldives', 'Mexico', 'Marshall Islands',\n",
              "       'North Macedonia', 'Mali', 'Malta', 'Myanmar', 'Montenegro',\n",
              "       'Mongolia', 'Northern Mariana Islands', 'Mozambique', 'Mauritania',\n",
              "       'Mauritius', 'Malawi', 'Malaysia', 'Namibia', 'New Caledonia',\n",
              "       'Niger', 'Nigeria', 'Nicaragua', 'Netherlands', 'Norway', 'Nepal',\n",
              "       'Nauru', 'New Zealand', 'Oman', 'Pakistan', 'Panama', 'Peru',\n",
              "       'Philippines', 'Palau', 'Papua New Guinea', 'Poland',\n",
              "       'Puerto Rico', \"Korea, Dem. People's Rep.\", 'Portugal', 'Paraguay',\n",
              "       'West Bank and Gaza', 'French Polynesia', 'Qatar', 'Romania',\n",
              "       'Russian Federation', 'Rwanda', 'Saudi Arabia', 'Sudan', 'Senegal',\n",
              "       'Singapore', 'Solomon Islands', 'Sierra Leone', 'El Salvador',\n",
              "       'San Marino', 'Somalia', 'Serbia', 'South Sudan',\n",
              "       'São Tomé and Principe', 'Suriname', 'Slovak Republic', 'Slovenia',\n",
              "       'Sweden', 'Eswatini', 'Sint Maarten (Dutch part)', 'Seychelles',\n",
              "       'Syrian Arab Republic', 'Turks and Caicos Islands', 'Chad', 'Togo',\n",
              "       'Thailand', 'Tajikistan', 'Turkmenistan', 'Timor-Leste', 'Tonga',\n",
              "       'Trinidad and Tobago', 'Tunisia', 'Turkey', 'Tuvalu', 'Tanzania',\n",
              "       'Uganda', 'Ukraine', 'Uruguay', 'United States', 'Uzbekistan',\n",
              "       'St. Vincent and the Grenadines', 'Venezuela, RB',\n",
              "       'British Virgin Islands', 'Virgin Islands (U.S.)', 'Vietnam',\n",
              "       'Vanuatu', 'Samoa', 'Kosovo', 'Yemen, Rep.', 'South Africa',\n",
              "       'Zambia', 'Zimbabwe'], dtype=object)"
            ]
          },
          "metadata": {
            "tags": []
          },
          "execution_count": 465
        }
      ]
    },
    {
      "cell_type": "markdown",
      "metadata": {
        "id": "B7OZKLaFAFqs"
      },
      "source": [
        "### FIND THE MISMATCHES"
      ]
    },
    {
      "cell_type": "code",
      "metadata": {
        "id": "TiKFjlmsRkm1"
      },
      "source": [
        "def mismatch (onlynumber = False, only_out=True):\n",
        "  out_num = 0\n",
        "  for i in df_rearanged.Country.unique():\n",
        "    if sum(df_gdp.TableName.unique() == i):\n",
        "      if not onlynumber:\n",
        "        if not only_out:\n",
        "          print(\"in :\",i)\n",
        "    else:\n",
        "      if not onlynumber:\n",
        "        print(\"out :\",i)\n",
        "      out_num += 1\n",
        "  print(f\"{out_num} mismatch(es) between those dataframes\".upper())"
      ],
      "execution_count": 466,
      "outputs": []
    },
    {
      "cell_type": "code",
      "metadata": {
        "colab": {
          "base_uri": "https://localhost:8080/"
        },
        "id": "fmgM5yT6YI-T",
        "outputId": "ce9accf9-a97d-4edd-aa4c-cbd7395e3101"
      },
      "source": [
        "mismatch(only_out=True)"
      ],
      "execution_count": 467,
      "outputs": [
        {
          "output_type": "stream",
          "text": [
            "out : Bahamas\n",
            "out : Bolivia (Plurinational State of)\n",
            "out : Congo\n",
            "out : Czechia\n",
            "out : Democratic People's Republic of Korea\n",
            "out : Democratic Republic of the Congo\n",
            "out : Egypt\n",
            "out : Gambia\n",
            "out : Iran (Islamic Republic of)\n",
            "out : Kyrgyzstan\n",
            "out : Lao People's Democratic Republic\n",
            "out : Micronesia (Federated States of)\n",
            "out : Republic of Korea\n",
            "out : Republic of Moldova\n",
            "out : Saint Lucia\n",
            "out : Saint Vincent and the Grenadines\n",
            "out : Sao Tome and Principe\n",
            "out : Slovakia\n",
            "out : United Kingdom of Great Britain and Northern Ireland\n",
            "out : United Republic of Tanzania\n",
            "out : United States of America\n",
            "out : Venezuela (Bolivarian Republic of)\n",
            "out : Viet Nam\n",
            "out : Yemen\n",
            "24 MISMATCH(ES) BETWEEN THOSE DATAFRAMES\n"
          ],
          "name": "stdout"
        }
      ]
    },
    {
      "cell_type": "code",
      "metadata": {
        "colab": {
          "base_uri": "https://localhost:8080/"
        },
        "id": "TL9NSYzDXnWO",
        "outputId": "f173ce3c-9f1e-48ea-e438-2dd577e6c402"
      },
      "source": [
        "df_gdp.TableName.str.split(\",\")"
      ],
      "execution_count": 468,
      "outputs": [
        {
          "output_type": "execute_result",
          "data": {
            "text/plain": [
              "0             [Aruba]\n",
              "1       [Afghanistan]\n",
              "2            [Angola]\n",
              "3           [Albania]\n",
              "4           [Andorra]\n",
              "            ...      \n",
              "258          [Kosovo]\n",
              "259    [Yemen,  Rep.]\n",
              "260    [South Africa]\n",
              "261          [Zambia]\n",
              "262        [Zimbabwe]\n",
              "Name: TableName, Length: 217, dtype: object"
            ]
          },
          "metadata": {
            "tags": []
          },
          "execution_count": 468
        }
      ]
    },
    {
      "cell_type": "code",
      "metadata": {
        "colab": {
          "base_uri": "https://localhost:8080/",
          "height": 0
        },
        "id": "unHdWnzmM2LE",
        "outputId": "4f410cf8-682b-434d-8f59-0350b437dc91"
      },
      "source": [
        "df_gdp.TableName.str.split(\",\")[0][0]"
      ],
      "execution_count": 469,
      "outputs": [
        {
          "output_type": "execute_result",
          "data": {
            "application/vnd.google.colaboratory.intrinsic+json": {
              "type": "string"
            },
            "text/plain": [
              "'Aruba'"
            ]
          },
          "metadata": {
            "tags": []
          },
          "execution_count": 469
        }
      ]
    },
    {
      "cell_type": "code",
      "metadata": {
        "colab": {
          "base_uri": "https://localhost:8080/"
        },
        "id": "8Ep8jD2QQT35",
        "outputId": "6fbe58e2-2d16-44be-b414-d5a813d382bf"
      },
      "source": [
        "df_gdp.TableName.transform(lambda x : x.split(\",\")[0])"
      ],
      "execution_count": 470,
      "outputs": [
        {
          "output_type": "execute_result",
          "data": {
            "text/plain": [
              "0             Aruba\n",
              "1       Afghanistan\n",
              "2            Angola\n",
              "3           Albania\n",
              "4           Andorra\n",
              "           ...     \n",
              "258          Kosovo\n",
              "259           Yemen\n",
              "260    South Africa\n",
              "261          Zambia\n",
              "262        Zimbabwe\n",
              "Name: TableName, Length: 217, dtype: object"
            ]
          },
          "metadata": {
            "tags": []
          },
          "execution_count": 470
        }
      ]
    },
    {
      "cell_type": "code",
      "metadata": {
        "id": "IOLKMzG6QtEl"
      },
      "source": [
        "df_gdp[\"TableName\"] = df_gdp.TableName.transform(lambda x : x.split(\",\")[0])"
      ],
      "execution_count": 471,
      "outputs": []
    },
    {
      "cell_type": "code",
      "metadata": {
        "colab": {
          "base_uri": "https://localhost:8080/",
          "height": 0
        },
        "id": "TIAV7TARMK98",
        "outputId": "105e36f3-142a-494f-a599-db5b81c6fe02"
      },
      "source": [
        "df_rearanged.merge(df_gdp,how=\"inner\", left_on=\"Country\", right_on=\"TableName\")"
      ],
      "execution_count": 472,
      "outputs": [
        {
          "output_type": "execute_result",
          "data": {
            "text/html": [
              "<div>\n",
              "<style scoped>\n",
              "    .dataframe tbody tr th:only-of-type {\n",
              "        vertical-align: middle;\n",
              "    }\n",
              "\n",
              "    .dataframe tbody tr th {\n",
              "        vertical-align: top;\n",
              "    }\n",
              "\n",
              "    .dataframe thead th {\n",
              "        text-align: right;\n",
              "    }\n",
              "</style>\n",
              "<table border=\"1\" class=\"dataframe\">\n",
              "  <thead>\n",
              "    <tr style=\"text-align: right;\">\n",
              "      <th></th>\n",
              "      <th>Country</th>\n",
              "      <th>Year</th>\n",
              "      <th>Causes</th>\n",
              "      <th>Both sexes_recent</th>\n",
              "      <th>Both sexes_min</th>\n",
              "      <th>Both sexes_max</th>\n",
              "      <th>Male_recent</th>\n",
              "      <th>Male_min</th>\n",
              "      <th>Male_max</th>\n",
              "      <th>Female_recent</th>\n",
              "      <th>Female_min</th>\n",
              "      <th>Female_max</th>\n",
              "      <th>Country Code</th>\n",
              "      <th>Region</th>\n",
              "      <th>IncomeGroup</th>\n",
              "      <th>TableName</th>\n",
              "    </tr>\n",
              "  </thead>\n",
              "  <tbody>\n",
              "    <tr>\n",
              "      <th>0</th>\n",
              "      <td>Afghanistan</td>\n",
              "      <td>2019</td>\n",
              "      <td>Malignant neoplasms</td>\n",
              "      <td>15565</td>\n",
              "      <td>7609</td>\n",
              "      <td>28280</td>\n",
              "      <td>7756</td>\n",
              "      <td>3898</td>\n",
              "      <td>13841</td>\n",
              "      <td>7809</td>\n",
              "      <td>3711</td>\n",
              "      <td>14439</td>\n",
              "      <td>AFG</td>\n",
              "      <td>South Asia</td>\n",
              "      <td>Low income</td>\n",
              "      <td>Afghanistan</td>\n",
              "    </tr>\n",
              "    <tr>\n",
              "      <th>1</th>\n",
              "      <td>Afghanistan</td>\n",
              "      <td>2019</td>\n",
              "      <td>Diabetes mellitus</td>\n",
              "      <td>8060</td>\n",
              "      <td>3827</td>\n",
              "      <td>14468</td>\n",
              "      <td>2612</td>\n",
              "      <td>1377</td>\n",
              "      <td>4651</td>\n",
              "      <td>5448</td>\n",
              "      <td>2451</td>\n",
              "      <td>9817</td>\n",
              "      <td>AFG</td>\n",
              "      <td>South Asia</td>\n",
              "      <td>Low income</td>\n",
              "      <td>Afghanistan</td>\n",
              "    </tr>\n",
              "    <tr>\n",
              "      <th>2</th>\n",
              "      <td>Afghanistan</td>\n",
              "      <td>2019</td>\n",
              "      <td>Cardiovascular diseases</td>\n",
              "      <td>71264</td>\n",
              "      <td>42413</td>\n",
              "      <td>108472</td>\n",
              "      <td>33793</td>\n",
              "      <td>20550</td>\n",
              "      <td>51028</td>\n",
              "      <td>37471</td>\n",
              "      <td>21863</td>\n",
              "      <td>57444</td>\n",
              "      <td>AFG</td>\n",
              "      <td>South Asia</td>\n",
              "      <td>Low income</td>\n",
              "      <td>Afghanistan</td>\n",
              "    </tr>\n",
              "    <tr>\n",
              "      <th>3</th>\n",
              "      <td>Afghanistan</td>\n",
              "      <td>2019</td>\n",
              "      <td>Chronic respiratory diseases</td>\n",
              "      <td>8285</td>\n",
              "      <td>3618</td>\n",
              "      <td>14626</td>\n",
              "      <td>3920</td>\n",
              "      <td>1877</td>\n",
              "      <td>6745</td>\n",
              "      <td>4365</td>\n",
              "      <td>1741</td>\n",
              "      <td>7881</td>\n",
              "      <td>AFG</td>\n",
              "      <td>South Asia</td>\n",
              "      <td>Low income</td>\n",
              "      <td>Afghanistan</td>\n",
              "    </tr>\n",
              "    <tr>\n",
              "      <th>4</th>\n",
              "      <td>Afghanistan</td>\n",
              "      <td>2018</td>\n",
              "      <td>Malignant neoplasms</td>\n",
              "      <td>15065</td>\n",
              "      <td>7337</td>\n",
              "      <td>27401</td>\n",
              "      <td>7534</td>\n",
              "      <td>3766</td>\n",
              "      <td>13454</td>\n",
              "      <td>7531</td>\n",
              "      <td>3570</td>\n",
              "      <td>13948</td>\n",
              "      <td>AFG</td>\n",
              "      <td>South Asia</td>\n",
              "      <td>Low income</td>\n",
              "      <td>Afghanistan</td>\n",
              "    </tr>\n",
              "    <tr>\n",
              "      <th>...</th>\n",
              "      <td>...</td>\n",
              "      <td>...</td>\n",
              "      <td>...</td>\n",
              "      <td>...</td>\n",
              "      <td>...</td>\n",
              "      <td>...</td>\n",
              "      <td>...</td>\n",
              "      <td>...</td>\n",
              "      <td>...</td>\n",
              "      <td>...</td>\n",
              "      <td>...</td>\n",
              "      <td>...</td>\n",
              "      <td>...</td>\n",
              "      <td>...</td>\n",
              "      <td>...</td>\n",
              "      <td>...</td>\n",
              "    </tr>\n",
              "    <tr>\n",
              "      <th>13195</th>\n",
              "      <td>Zimbabwe</td>\n",
              "      <td>2001</td>\n",
              "      <td>Chronic respiratory diseases</td>\n",
              "      <td>1884</td>\n",
              "      <td>1044</td>\n",
              "      <td>3046</td>\n",
              "      <td>996</td>\n",
              "      <td>603</td>\n",
              "      <td>1513</td>\n",
              "      <td>887</td>\n",
              "      <td>441</td>\n",
              "      <td>1533</td>\n",
              "      <td>ZWE</td>\n",
              "      <td>Sub-Saharan Africa</td>\n",
              "      <td>Lower middle income</td>\n",
              "      <td>Zimbabwe</td>\n",
              "    </tr>\n",
              "    <tr>\n",
              "      <th>13196</th>\n",
              "      <td>Zimbabwe</td>\n",
              "      <td>2000</td>\n",
              "      <td>Malignant neoplasms</td>\n",
              "      <td>7474</td>\n",
              "      <td>4592</td>\n",
              "      <td>11441</td>\n",
              "      <td>3838</td>\n",
              "      <td>2512</td>\n",
              "      <td>5647</td>\n",
              "      <td>3636</td>\n",
              "      <td>2080</td>\n",
              "      <td>5794</td>\n",
              "      <td>ZWE</td>\n",
              "      <td>Sub-Saharan Africa</td>\n",
              "      <td>Lower middle income</td>\n",
              "      <td>Zimbabwe</td>\n",
              "    </tr>\n",
              "    <tr>\n",
              "      <th>13197</th>\n",
              "      <td>Zimbabwe</td>\n",
              "      <td>2000</td>\n",
              "      <td>Diabetes mellitus</td>\n",
              "      <td>2039</td>\n",
              "      <td>1227</td>\n",
              "      <td>3219</td>\n",
              "      <td>810</td>\n",
              "      <td>507</td>\n",
              "      <td>1246</td>\n",
              "      <td>1229</td>\n",
              "      <td>720</td>\n",
              "      <td>1972</td>\n",
              "      <td>ZWE</td>\n",
              "      <td>Sub-Saharan Africa</td>\n",
              "      <td>Lower middle income</td>\n",
              "      <td>Zimbabwe</td>\n",
              "    </tr>\n",
              "    <tr>\n",
              "      <th>13198</th>\n",
              "      <td>Zimbabwe</td>\n",
              "      <td>2000</td>\n",
              "      <td>Cardiovascular diseases</td>\n",
              "      <td>10368</td>\n",
              "      <td>6335</td>\n",
              "      <td>16076</td>\n",
              "      <td>4425</td>\n",
              "      <td>2818</td>\n",
              "      <td>6837</td>\n",
              "      <td>5943</td>\n",
              "      <td>3516</td>\n",
              "      <td>9239</td>\n",
              "      <td>ZWE</td>\n",
              "      <td>Sub-Saharan Africa</td>\n",
              "      <td>Lower middle income</td>\n",
              "      <td>Zimbabwe</td>\n",
              "    </tr>\n",
              "    <tr>\n",
              "      <th>13199</th>\n",
              "      <td>Zimbabwe</td>\n",
              "      <td>2000</td>\n",
              "      <td>Chronic respiratory diseases</td>\n",
              "      <td>1861</td>\n",
              "      <td>1039</td>\n",
              "      <td>2993</td>\n",
              "      <td>983</td>\n",
              "      <td>605</td>\n",
              "      <td>1481</td>\n",
              "      <td>878</td>\n",
              "      <td>435</td>\n",
              "      <td>1513</td>\n",
              "      <td>ZWE</td>\n",
              "      <td>Sub-Saharan Africa</td>\n",
              "      <td>Lower middle income</td>\n",
              "      <td>Zimbabwe</td>\n",
              "    </tr>\n",
              "  </tbody>\n",
              "</table>\n",
              "<p>13200 rows × 16 columns</p>\n",
              "</div>"
            ],
            "text/plain": [
              "           Country  Year  ...          IncomeGroup    TableName\n",
              "0      Afghanistan  2019  ...           Low income  Afghanistan\n",
              "1      Afghanistan  2019  ...           Low income  Afghanistan\n",
              "2      Afghanistan  2019  ...           Low income  Afghanistan\n",
              "3      Afghanistan  2019  ...           Low income  Afghanistan\n",
              "4      Afghanistan  2018  ...           Low income  Afghanistan\n",
              "...            ...   ...  ...                  ...          ...\n",
              "13195     Zimbabwe  2001  ...  Lower middle income     Zimbabwe\n",
              "13196     Zimbabwe  2000  ...  Lower middle income     Zimbabwe\n",
              "13197     Zimbabwe  2000  ...  Lower middle income     Zimbabwe\n",
              "13198     Zimbabwe  2000  ...  Lower middle income     Zimbabwe\n",
              "13199     Zimbabwe  2000  ...  Lower middle income     Zimbabwe\n",
              "\n",
              "[13200 rows x 16 columns]"
            ]
          },
          "metadata": {
            "tags": []
          },
          "execution_count": 472
        }
      ]
    },
    {
      "cell_type": "code",
      "metadata": {
        "colab": {
          "base_uri": "https://localhost:8080/"
        },
        "id": "P76beNo-Q-8e",
        "outputId": "95040737-c2bd-4276-c72f-d8bc78b24f0c"
      },
      "source": [
        "mismatch(True)"
      ],
      "execution_count": 473,
      "outputs": [
        {
          "output_type": "stream",
          "text": [
            "19 MISMATCH(ES) BETWEEN THOSE DATAFRAMES\n"
          ],
          "name": "stdout"
        }
      ]
    },
    {
      "cell_type": "code",
      "metadata": {
        "colab": {
          "base_uri": "https://localhost:8080/"
        },
        "id": "VSroOsNLYYgU",
        "outputId": "a755f328-e8ac-4bc2-f13b-23a17e453252"
      },
      "source": [
        "mismatch()"
      ],
      "execution_count": 474,
      "outputs": [
        {
          "output_type": "stream",
          "text": [
            "out : Bolivia (Plurinational State of)\n",
            "out : Czechia\n",
            "out : Democratic People's Republic of Korea\n",
            "out : Democratic Republic of the Congo\n",
            "out : Iran (Islamic Republic of)\n",
            "out : Kyrgyzstan\n",
            "out : Lao People's Democratic Republic\n",
            "out : Micronesia (Federated States of)\n",
            "out : Republic of Korea\n",
            "out : Republic of Moldova\n",
            "out : Saint Lucia\n",
            "out : Saint Vincent and the Grenadines\n",
            "out : Sao Tome and Principe\n",
            "out : Slovakia\n",
            "out : United Kingdom of Great Britain and Northern Ireland\n",
            "out : United Republic of Tanzania\n",
            "out : United States of America\n",
            "out : Venezuela (Bolivarian Republic of)\n",
            "out : Viet Nam\n",
            "19 MISMATCH(ES) BETWEEN THOSE DATAFRAMES\n"
          ],
          "name": "stdout"
        }
      ]
    },
    {
      "cell_type": "code",
      "metadata": {
        "colab": {
          "base_uri": "https://localhost:8080/",
          "height": 0
        },
        "id": "ikayOTgAh6a0",
        "outputId": "3e40575b-2248-4c5e-a285-7a470be2f1b7"
      },
      "source": [
        "df_gdp[df_gdp.TableName == \"Korea\"]"
      ],
      "execution_count": 475,
      "outputs": [
        {
          "output_type": "execute_result",
          "data": {
            "text/html": [
              "<div>\n",
              "<style scoped>\n",
              "    .dataframe tbody tr th:only-of-type {\n",
              "        vertical-align: middle;\n",
              "    }\n",
              "\n",
              "    .dataframe tbody tr th {\n",
              "        vertical-align: top;\n",
              "    }\n",
              "\n",
              "    .dataframe thead th {\n",
              "        text-align: right;\n",
              "    }\n",
              "</style>\n",
              "<table border=\"1\" class=\"dataframe\">\n",
              "  <thead>\n",
              "    <tr style=\"text-align: right;\">\n",
              "      <th></th>\n",
              "      <th>Country Code</th>\n",
              "      <th>Region</th>\n",
              "      <th>IncomeGroup</th>\n",
              "      <th>TableName</th>\n",
              "    </tr>\n",
              "  </thead>\n",
              "  <tbody>\n",
              "    <tr>\n",
              "      <th>123</th>\n",
              "      <td>KOR</td>\n",
              "      <td>East Asia &amp; Pacific</td>\n",
              "      <td>High income</td>\n",
              "      <td>Korea</td>\n",
              "    </tr>\n",
              "    <tr>\n",
              "      <th>190</th>\n",
              "      <td>PRK</td>\n",
              "      <td>East Asia &amp; Pacific</td>\n",
              "      <td>Low income</td>\n",
              "      <td>Korea</td>\n",
              "    </tr>\n",
              "  </tbody>\n",
              "</table>\n",
              "</div>"
            ],
            "text/plain": [
              "    Country Code               Region  IncomeGroup TableName\n",
              "123          KOR  East Asia & Pacific  High income     Korea\n",
              "190          PRK  East Asia & Pacific   Low income     Korea"
            ]
          },
          "metadata": {
            "tags": []
          },
          "execution_count": 475
        }
      ]
    },
    {
      "cell_type": "code",
      "metadata": {
        "id": "1FG25ktnx7iV"
      },
      "source": [
        "df_gdp.loc[(df_gdp.TableName == \"Korea\") & (df_gdp[\"Country Code\"] == \"KOR\"), \"TableName\" ] = \"Republic of Korea\"\n",
        "\n",
        "df_gdp.loc[(df_gdp.TableName == \"Korea\") & (df_gdp[\"Country Code\"] == \"PRK\"), \"TableName\" ] = \"Democratic People's Republic of Korea\""
      ],
      "execution_count": 476,
      "outputs": []
    },
    {
      "cell_type": "code",
      "metadata": {
        "colab": {
          "base_uri": "https://localhost:8080/"
        },
        "id": "0fD-8Npkzg1J",
        "outputId": "ef9fc6d9-a52b-48a5-c308-2d1078d93260"
      },
      "source": [
        "mismatch()"
      ],
      "execution_count": 477,
      "outputs": [
        {
          "output_type": "stream",
          "text": [
            "out : Bolivia (Plurinational State of)\n",
            "out : Czechia\n",
            "out : Democratic Republic of the Congo\n",
            "out : Iran (Islamic Republic of)\n",
            "out : Kyrgyzstan\n",
            "out : Lao People's Democratic Republic\n",
            "out : Micronesia (Federated States of)\n",
            "out : Republic of Moldova\n",
            "out : Saint Lucia\n",
            "out : Saint Vincent and the Grenadines\n",
            "out : Sao Tome and Principe\n",
            "out : Slovakia\n",
            "out : United Kingdom of Great Britain and Northern Ireland\n",
            "out : United Republic of Tanzania\n",
            "out : United States of America\n",
            "out : Venezuela (Bolivarian Republic of)\n",
            "out : Viet Nam\n",
            "17 MISMATCH(ES) BETWEEN THOSE DATAFRAMES\n"
          ],
          "name": "stdout"
        }
      ]
    },
    {
      "cell_type": "code",
      "metadata": {
        "colab": {
          "base_uri": "https://localhost:8080/"
        },
        "id": "_nPO1COJ0S46",
        "outputId": "2320b52f-9b89-4576-afc9-92f51733ebe1"
      },
      "source": [
        "df_rearanged.Country.nunique()"
      ],
      "execution_count": 478,
      "outputs": [
        {
          "output_type": "execute_result",
          "data": {
            "text/plain": [
              "183"
            ]
          },
          "metadata": {
            "tags": []
          },
          "execution_count": 478
        }
      ]
    },
    {
      "cell_type": "code",
      "metadata": {
        "colab": {
          "base_uri": "https://localhost:8080/"
        },
        "id": "_-wBaV5x3uEG",
        "outputId": "107bce93-a53e-4b45-ecef-f20ac0f63ec6"
      },
      "source": [
        "df_gdp.TableName.unique()"
      ],
      "execution_count": 479,
      "outputs": [
        {
          "output_type": "execute_result",
          "data": {
            "text/plain": [
              "array(['Aruba', 'Afghanistan', 'Angola', 'Albania', 'Andorra',\n",
              "       'United Arab Emirates', 'Argentina', 'Armenia', 'American Samoa',\n",
              "       'Antigua and Barbuda', 'Australia', 'Austria', 'Azerbaijan',\n",
              "       'Burundi', 'Belgium', 'Benin', 'Burkina Faso', 'Bangladesh',\n",
              "       'Bulgaria', 'Bahrain', 'Bahamas', 'Bosnia and Herzegovina',\n",
              "       'Belarus', 'Belize', 'Bermuda', 'Bolivia', 'Brazil', 'Barbados',\n",
              "       'Brunei Darussalam', 'Bhutan', 'Botswana',\n",
              "       'Central African Republic', 'Canada', 'Switzerland',\n",
              "       'Channel Islands', 'Chile', 'China', \"Côte d'Ivoire\", 'Cameroon',\n",
              "       'Congo', 'Colombia', 'Comoros', 'Cabo Verde', 'Costa Rica', 'Cuba',\n",
              "       'Curaçao', 'Cayman Islands', 'Cyprus', 'Czech Republic', 'Germany',\n",
              "       'Djibouti', 'Dominica', 'Denmark', 'Dominican Republic', 'Algeria',\n",
              "       'Ecuador', 'Egypt', 'Eritrea', 'Spain', 'Estonia', 'Ethiopia',\n",
              "       'Finland', 'Fiji', 'France', 'Faroe Islands', 'Micronesia',\n",
              "       'Gabon', 'United Kingdom', 'Georgia', 'Ghana', 'Gibraltar',\n",
              "       'Guinea', 'Gambia', 'Guinea-Bissau', 'Equatorial Guinea', 'Greece',\n",
              "       'Grenada', 'Greenland', 'Guatemala', 'Guam', 'Guyana',\n",
              "       'Hong Kong SAR', 'Honduras', 'Croatia', 'Haiti', 'Hungary',\n",
              "       'Indonesia', 'Isle of Man', 'India', 'Ireland', 'Iran', 'Iraq',\n",
              "       'Iceland', 'Israel', 'Italy', 'Jamaica', 'Jordan', 'Japan',\n",
              "       'Kazakhstan', 'Kenya', 'Kyrgyz Republic', 'Cambodia', 'Kiribati',\n",
              "       'St. Kitts and Nevis', 'Republic of Korea', 'Kuwait', 'Lao PDR',\n",
              "       'Lebanon', 'Liberia', 'Libya', 'St. Lucia', 'Liechtenstein',\n",
              "       'Sri Lanka', 'Lesotho', 'Lithuania', 'Luxembourg', 'Latvia',\n",
              "       'Macao SAR', 'St. Martin (French part)', 'Morocco', 'Monaco',\n",
              "       'Moldova', 'Madagascar', 'Maldives', 'Mexico', 'Marshall Islands',\n",
              "       'North Macedonia', 'Mali', 'Malta', 'Myanmar', 'Montenegro',\n",
              "       'Mongolia', 'Northern Mariana Islands', 'Mozambique', 'Mauritania',\n",
              "       'Mauritius', 'Malawi', 'Malaysia', 'Namibia', 'New Caledonia',\n",
              "       'Niger', 'Nigeria', 'Nicaragua', 'Netherlands', 'Norway', 'Nepal',\n",
              "       'Nauru', 'New Zealand', 'Oman', 'Pakistan', 'Panama', 'Peru',\n",
              "       'Philippines', 'Palau', 'Papua New Guinea', 'Poland',\n",
              "       'Puerto Rico', \"Democratic People's Republic of Korea\", 'Portugal',\n",
              "       'Paraguay', 'West Bank and Gaza', 'French Polynesia', 'Qatar',\n",
              "       'Romania', 'Russian Federation', 'Rwanda', 'Saudi Arabia', 'Sudan',\n",
              "       'Senegal', 'Singapore', 'Solomon Islands', 'Sierra Leone',\n",
              "       'El Salvador', 'San Marino', 'Somalia', 'Serbia', 'South Sudan',\n",
              "       'São Tomé and Principe', 'Suriname', 'Slovak Republic', 'Slovenia',\n",
              "       'Sweden', 'Eswatini', 'Sint Maarten (Dutch part)', 'Seychelles',\n",
              "       'Syrian Arab Republic', 'Turks and Caicos Islands', 'Chad', 'Togo',\n",
              "       'Thailand', 'Tajikistan', 'Turkmenistan', 'Timor-Leste', 'Tonga',\n",
              "       'Trinidad and Tobago', 'Tunisia', 'Turkey', 'Tuvalu', 'Tanzania',\n",
              "       'Uganda', 'Ukraine', 'Uruguay', 'United States', 'Uzbekistan',\n",
              "       'St. Vincent and the Grenadines', 'Venezuela',\n",
              "       'British Virgin Islands', 'Virgin Islands (U.S.)', 'Vietnam',\n",
              "       'Vanuatu', 'Samoa', 'Kosovo', 'Yemen', 'South Africa', 'Zambia',\n",
              "       'Zimbabwe'], dtype=object)"
            ]
          },
          "metadata": {
            "tags": []
          },
          "execution_count": 479
        }
      ]
    },
    {
      "cell_type": "code",
      "metadata": {
        "id": "noTJew-P0lSJ"
      },
      "source": [
        "df_rearanged[\"Country\"] =  df_rearanged.Country.transform(lambda x : x.split(\"(\")[0].strip())"
      ],
      "execution_count": 480,
      "outputs": []
    },
    {
      "cell_type": "code",
      "metadata": {
        "colab": {
          "base_uri": "https://localhost:8080/"
        },
        "id": "g9kZCqRL1A09",
        "outputId": "3f4f1088-ecd7-4fd4-fcbc-b14665fe6f98"
      },
      "source": [
        "mismatch()"
      ],
      "execution_count": 481,
      "outputs": [
        {
          "output_type": "stream",
          "text": [
            "out : Czechia\n",
            "out : Democratic Republic of the Congo\n",
            "out : Kyrgyzstan\n",
            "out : Lao People's Democratic Republic\n",
            "out : Republic of Moldova\n",
            "out : Saint Lucia\n",
            "out : Saint Vincent and the Grenadines\n",
            "out : Sao Tome and Principe\n",
            "out : Slovakia\n",
            "out : United Kingdom of Great Britain and Northern Ireland\n",
            "out : United Republic of Tanzania\n",
            "out : United States of America\n",
            "out : Viet Nam\n",
            "13 MISMATCH(ES) BETWEEN THOSE DATAFRAMES\n"
          ],
          "name": "stdout"
        }
      ]
    },
    {
      "cell_type": "code",
      "metadata": {
        "colab": {
          "base_uri": "https://localhost:8080/",
          "height": 0
        },
        "id": "ocIxtLJL1bPu",
        "outputId": "fcbeef4d-2185-47a8-aa9c-8078593dd4c6"
      },
      "source": [
        "df_gdp[df_gdp.TableName.str.contains(\"Slovak\")]"
      ],
      "execution_count": 482,
      "outputs": [
        {
          "output_type": "execute_result",
          "data": {
            "text/html": [
              "<div>\n",
              "<style scoped>\n",
              "    .dataframe tbody tr th:only-of-type {\n",
              "        vertical-align: middle;\n",
              "    }\n",
              "\n",
              "    .dataframe tbody tr th {\n",
              "        vertical-align: top;\n",
              "    }\n",
              "\n",
              "    .dataframe thead th {\n",
              "        text-align: right;\n",
              "    }\n",
              "</style>\n",
              "<table border=\"1\" class=\"dataframe\">\n",
              "  <thead>\n",
              "    <tr style=\"text-align: right;\">\n",
              "      <th></th>\n",
              "      <th>Country Code</th>\n",
              "      <th>Region</th>\n",
              "      <th>IncomeGroup</th>\n",
              "      <th>TableName</th>\n",
              "    </tr>\n",
              "  </thead>\n",
              "  <tbody>\n",
              "    <tr>\n",
              "      <th>218</th>\n",
              "      <td>SVK</td>\n",
              "      <td>Europe &amp; Central Asia</td>\n",
              "      <td>High income</td>\n",
              "      <td>Slovak Republic</td>\n",
              "    </tr>\n",
              "  </tbody>\n",
              "</table>\n",
              "</div>"
            ],
            "text/plain": [
              "    Country Code                 Region  IncomeGroup        TableName\n",
              "218          SVK  Europe & Central Asia  High income  Slovak Republic"
            ]
          },
          "metadata": {
            "tags": []
          },
          "execution_count": 482
        }
      ]
    },
    {
      "cell_type": "code",
      "metadata": {
        "id": "JTUqdKhr2Xie"
      },
      "source": [
        "df_gdp.loc[df_gdp.TableName.str.contains(\"Slovak\"), \"TableName\"] = \"Slovakia\""
      ],
      "execution_count": 483,
      "outputs": []
    },
    {
      "cell_type": "code",
      "metadata": {
        "colab": {
          "base_uri": "https://localhost:8080/"
        },
        "id": "uLfJAt4w6vuu",
        "outputId": "bbd15c36-ee17-491a-98f7-348d23e9d94f"
      },
      "source": [
        "mismatch()"
      ],
      "execution_count": 484,
      "outputs": [
        {
          "output_type": "stream",
          "text": [
            "out : Czechia\n",
            "out : Democratic Republic of the Congo\n",
            "out : Kyrgyzstan\n",
            "out : Lao People's Democratic Republic\n",
            "out : Republic of Moldova\n",
            "out : Saint Lucia\n",
            "out : Saint Vincent and the Grenadines\n",
            "out : Sao Tome and Principe\n",
            "out : United Kingdom of Great Britain and Northern Ireland\n",
            "out : United Republic of Tanzania\n",
            "out : United States of America\n",
            "out : Viet Nam\n",
            "12 MISMATCH(ES) BETWEEN THOSE DATAFRAMES\n"
          ],
          "name": "stdout"
        }
      ]
    },
    {
      "cell_type": "markdown",
      "metadata": {
        "id": "kx86Ix3jv-bt"
      },
      "source": [
        "Czechia,\n",
        "Democratic Republic of the Congo,\n",
        "Kyrgyzstan,\n",
        "Lao People's Democratic Republic,\n",
        "Republic of Moldova,\n",
        "Saint Vincent and the Grenadines,\n",
        "Sao Tome and Principe,\n",
        "United Kingdom of Great Britain and Northern Ireland,\n",
        "United Republic of Tanzania,\n",
        "Viet Nam"
      ]
    },
    {
      "cell_type": "code",
      "metadata": {
        "colab": {
          "base_uri": "https://localhost:8080/",
          "height": 0
        },
        "id": "lp0yrdoE9XRV",
        "outputId": "fddc0a9f-30a4-4c07-9484-ae41b2ac1494"
      },
      "source": [
        "df_gdp[df_gdp.TableName.str.contains(\"Sao\")]"
      ],
      "execution_count": 485,
      "outputs": [
        {
          "output_type": "execute_result",
          "data": {
            "text/html": [
              "<div>\n",
              "<style scoped>\n",
              "    .dataframe tbody tr th:only-of-type {\n",
              "        vertical-align: middle;\n",
              "    }\n",
              "\n",
              "    .dataframe tbody tr th {\n",
              "        vertical-align: top;\n",
              "    }\n",
              "\n",
              "    .dataframe thead th {\n",
              "        text-align: right;\n",
              "    }\n",
              "</style>\n",
              "<table border=\"1\" class=\"dataframe\">\n",
              "  <thead>\n",
              "    <tr style=\"text-align: right;\">\n",
              "      <th></th>\n",
              "      <th>Country Code</th>\n",
              "      <th>Region</th>\n",
              "      <th>IncomeGroup</th>\n",
              "      <th>TableName</th>\n",
              "    </tr>\n",
              "  </thead>\n",
              "  <tbody>\n",
              "  </tbody>\n",
              "</table>\n",
              "</div>"
            ],
            "text/plain": [
              "Empty DataFrame\n",
              "Columns: [Country Code, Region, IncomeGroup, TableName]\n",
              "Index: []"
            ]
          },
          "metadata": {
            "tags": []
          },
          "execution_count": 485
        }
      ]
    },
    {
      "cell_type": "code",
      "metadata": {
        "colab": {
          "base_uri": "https://localhost:8080/",
          "height": 0
        },
        "id": "2xmN9Mzg6xss",
        "outputId": "97946d37-f5c9-4303-9504-9bdea9b273bd"
      },
      "source": [
        "df_gdp[df_gdp.TableName.str.contains(\"Prin\")]"
      ],
      "execution_count": 486,
      "outputs": [
        {
          "output_type": "execute_result",
          "data": {
            "text/html": [
              "<div>\n",
              "<style scoped>\n",
              "    .dataframe tbody tr th:only-of-type {\n",
              "        vertical-align: middle;\n",
              "    }\n",
              "\n",
              "    .dataframe tbody tr th {\n",
              "        vertical-align: top;\n",
              "    }\n",
              "\n",
              "    .dataframe thead th {\n",
              "        text-align: right;\n",
              "    }\n",
              "</style>\n",
              "<table border=\"1\" class=\"dataframe\">\n",
              "  <thead>\n",
              "    <tr style=\"text-align: right;\">\n",
              "      <th></th>\n",
              "      <th>Country Code</th>\n",
              "      <th>Region</th>\n",
              "      <th>IncomeGroup</th>\n",
              "      <th>TableName</th>\n",
              "    </tr>\n",
              "  </thead>\n",
              "  <tbody>\n",
              "    <tr>\n",
              "      <th>216</th>\n",
              "      <td>STP</td>\n",
              "      <td>Sub-Saharan Africa</td>\n",
              "      <td>Lower middle income</td>\n",
              "      <td>São Tomé and Principe</td>\n",
              "    </tr>\n",
              "  </tbody>\n",
              "</table>\n",
              "</div>"
            ],
            "text/plain": [
              "    Country Code  ...              TableName\n",
              "216          STP  ...  São Tomé and Principe\n",
              "\n",
              "[1 rows x 4 columns]"
            ]
          },
          "metadata": {
            "tags": []
          },
          "execution_count": 486
        }
      ]
    },
    {
      "cell_type": "code",
      "metadata": {
        "id": "efOVOs5s7rGN"
      },
      "source": [
        "df_gdp.loc[df_gdp.TableName.str.contains(\"Prin\"), \"TableName\"] = \"Sao Tome and Principe\""
      ],
      "execution_count": 487,
      "outputs": []
    },
    {
      "cell_type": "code",
      "metadata": {
        "colab": {
          "base_uri": "https://localhost:8080/"
        },
        "id": "GN087CMp8gXv",
        "outputId": "1a000ab1-b19b-4f72-c822-2be2bc60c9a6"
      },
      "source": [
        "mismatch(True)"
      ],
      "execution_count": 488,
      "outputs": [
        {
          "output_type": "stream",
          "text": [
            "11 MISMATCH(ES) BETWEEN THOSE DATAFRAMES\n"
          ],
          "name": "stdout"
        }
      ]
    },
    {
      "cell_type": "code",
      "metadata": {
        "colab": {
          "base_uri": "https://localhost:8080/",
          "height": 0
        },
        "id": "Nra1JRC-86PC",
        "outputId": "9f3c7513-0362-46fd-8c2a-33fdb6a0de04"
      },
      "source": [
        "df_gdp[df_gdp.TableName.str.contains(\"Congo\")]"
      ],
      "execution_count": 489,
      "outputs": [
        {
          "output_type": "execute_result",
          "data": {
            "text/html": [
              "<div>\n",
              "<style scoped>\n",
              "    .dataframe tbody tr th:only-of-type {\n",
              "        vertical-align: middle;\n",
              "    }\n",
              "\n",
              "    .dataframe tbody tr th {\n",
              "        vertical-align: top;\n",
              "    }\n",
              "\n",
              "    .dataframe thead th {\n",
              "        text-align: right;\n",
              "    }\n",
              "</style>\n",
              "<table border=\"1\" class=\"dataframe\">\n",
              "  <thead>\n",
              "    <tr style=\"text-align: right;\">\n",
              "      <th></th>\n",
              "      <th>Country Code</th>\n",
              "      <th>Region</th>\n",
              "      <th>IncomeGroup</th>\n",
              "      <th>TableName</th>\n",
              "    </tr>\n",
              "  </thead>\n",
              "  <tbody>\n",
              "    <tr>\n",
              "      <th>41</th>\n",
              "      <td>COD</td>\n",
              "      <td>Sub-Saharan Africa</td>\n",
              "      <td>Low income</td>\n",
              "      <td>Congo</td>\n",
              "    </tr>\n",
              "    <tr>\n",
              "      <th>42</th>\n",
              "      <td>COG</td>\n",
              "      <td>Sub-Saharan Africa</td>\n",
              "      <td>Lower middle income</td>\n",
              "      <td>Congo</td>\n",
              "    </tr>\n",
              "  </tbody>\n",
              "</table>\n",
              "</div>"
            ],
            "text/plain": [
              "   Country Code              Region          IncomeGroup TableName\n",
              "41          COD  Sub-Saharan Africa           Low income     Congo\n",
              "42          COG  Sub-Saharan Africa  Lower middle income     Congo"
            ]
          },
          "metadata": {
            "tags": []
          },
          "execution_count": 489
        }
      ]
    },
    {
      "cell_type": "code",
      "metadata": {
        "id": "pSJpustt8lFd"
      },
      "source": [
        "df_gdp.loc[((df_gdp.TableName.str.contains(\"Congo\")) & (df_gdp[\"Country Code\"] == \"COD\")), \"TableName\"] = \"Democratic Republic of the Congo\""
      ],
      "execution_count": 490,
      "outputs": []
    },
    {
      "cell_type": "code",
      "metadata": {
        "colab": {
          "base_uri": "https://localhost:8080/"
        },
        "id": "cYFVPfuf8zBs",
        "outputId": "3382fa97-ec02-48ed-c4ac-50cf380d86bc"
      },
      "source": [
        "mismatch()"
      ],
      "execution_count": 491,
      "outputs": [
        {
          "output_type": "stream",
          "text": [
            "out : Czechia\n",
            "out : Kyrgyzstan\n",
            "out : Lao People's Democratic Republic\n",
            "out : Republic of Moldova\n",
            "out : Saint Lucia\n",
            "out : Saint Vincent and the Grenadines\n",
            "out : United Kingdom of Great Britain and Northern Ireland\n",
            "out : United Republic of Tanzania\n",
            "out : United States of America\n",
            "out : Viet Nam\n",
            "10 MISMATCH(ES) BETWEEN THOSE DATAFRAMES\n"
          ],
          "name": "stdout"
        }
      ]
    },
    {
      "cell_type": "code",
      "metadata": {
        "colab": {
          "base_uri": "https://localhost:8080/",
          "height": 0
        },
        "id": "sf5p6ubu81n9",
        "outputId": "0a535f91-9981-4f3a-b448-5b179c1a1503"
      },
      "source": [
        "df_gdp[df_gdp.TableName.str.contains(\"Lucia\")]"
      ],
      "execution_count": 492,
      "outputs": [
        {
          "output_type": "execute_result",
          "data": {
            "text/html": [
              "<div>\n",
              "<style scoped>\n",
              "    .dataframe tbody tr th:only-of-type {\n",
              "        vertical-align: middle;\n",
              "    }\n",
              "\n",
              "    .dataframe tbody tr th {\n",
              "        vertical-align: top;\n",
              "    }\n",
              "\n",
              "    .dataframe thead th {\n",
              "        text-align: right;\n",
              "    }\n",
              "</style>\n",
              "<table border=\"1\" class=\"dataframe\">\n",
              "  <thead>\n",
              "    <tr style=\"text-align: right;\">\n",
              "      <th></th>\n",
              "      <th>Country Code</th>\n",
              "      <th>Region</th>\n",
              "      <th>IncomeGroup</th>\n",
              "      <th>TableName</th>\n",
              "    </tr>\n",
              "  </thead>\n",
              "  <tbody>\n",
              "    <tr>\n",
              "      <th>130</th>\n",
              "      <td>LCA</td>\n",
              "      <td>Latin America &amp; Caribbean</td>\n",
              "      <td>Upper middle income</td>\n",
              "      <td>St. Lucia</td>\n",
              "    </tr>\n",
              "  </tbody>\n",
              "</table>\n",
              "</div>"
            ],
            "text/plain": [
              "    Country Code                     Region          IncomeGroup  TableName\n",
              "130          LCA  Latin America & Caribbean  Upper middle income  St. Lucia"
            ]
          },
          "metadata": {
            "tags": []
          },
          "execution_count": 492
        }
      ]
    },
    {
      "cell_type": "code",
      "metadata": {
        "id": "oDoX0EcCA0Ve"
      },
      "source": [
        "df_gdp.loc[df_gdp.TableName.str.contains(\"Lucia\"), \"TableName\"] = \"Saint Lucia\""
      ],
      "execution_count": 493,
      "outputs": []
    },
    {
      "cell_type": "code",
      "metadata": {
        "colab": {
          "base_uri": "https://localhost:8080/"
        },
        "id": "B-jAV6LVBE1-",
        "outputId": "a2e0255e-c8a5-4635-871b-f150566860f1"
      },
      "source": [
        "mismatch()"
      ],
      "execution_count": 494,
      "outputs": [
        {
          "output_type": "stream",
          "text": [
            "out : Czechia\n",
            "out : Kyrgyzstan\n",
            "out : Lao People's Democratic Republic\n",
            "out : Republic of Moldova\n",
            "out : Saint Vincent and the Grenadines\n",
            "out : United Kingdom of Great Britain and Northern Ireland\n",
            "out : United Republic of Tanzania\n",
            "out : United States of America\n",
            "out : Viet Nam\n",
            "9 MISMATCH(ES) BETWEEN THOSE DATAFRAMES\n"
          ],
          "name": "stdout"
        }
      ]
    },
    {
      "cell_type": "code",
      "metadata": {
        "id": "_Sw68g35BGev"
      },
      "source": [
        "def finder(value = \"\"):\n",
        "  if df_gdp.TableName.str.contains(value).sum():\n",
        "    print(df_gdp[df_gdp.TableName.str.contains(value)])\n",
        "  return df_rearanged[df_rearanged[\"Country\"].str.contains(value)][\"Country\"].values[0]"
      ],
      "execution_count": 495,
      "outputs": []
    },
    {
      "cell_type": "code",
      "metadata": {
        "colab": {
          "base_uri": "https://localhost:8080/",
          "height": 0
        },
        "id": "6PRKtkTrBjql",
        "outputId": "0c417177-7c4c-4b3a-ff5a-6c1dfe167c05"
      },
      "source": [
        "finder(\"Czec\")"
      ],
      "execution_count": 496,
      "outputs": [
        {
          "output_type": "stream",
          "text": [
            "   Country Code                 Region  IncomeGroup       TableName\n",
            "52          CZE  Europe & Central Asia  High income  Czech Republic\n"
          ],
          "name": "stdout"
        },
        {
          "output_type": "execute_result",
          "data": {
            "application/vnd.google.colaboratory.intrinsic+json": {
              "type": "string"
            },
            "text/plain": [
              "'Czechia'"
            ]
          },
          "metadata": {
            "tags": []
          },
          "execution_count": 496
        }
      ]
    },
    {
      "cell_type": "code",
      "metadata": {
        "id": "3wDj_vPYBoAu"
      },
      "source": [
        "def changer(last_val =\"\", first_val=\"\"):\n",
        "  df_gdp.loc[df_gdp.TableName.str.contains(first_val), \"TableName\"] = last_val"
      ],
      "execution_count": 497,
      "outputs": []
    },
    {
      "cell_type": "code",
      "metadata": {
        "colab": {
          "base_uri": "https://localhost:8080/"
        },
        "id": "fIC4G4stFIrf",
        "outputId": "d950a0c8-c766-472a-f06b-fd53513d7737"
      },
      "source": [
        "changer(last_val=finder(\"Czec\"),first_val=\"Czec\")"
      ],
      "execution_count": 498,
      "outputs": [
        {
          "output_type": "stream",
          "text": [
            "   Country Code                 Region  IncomeGroup       TableName\n",
            "52          CZE  Europe & Central Asia  High income  Czech Republic\n"
          ],
          "name": "stdout"
        }
      ]
    },
    {
      "cell_type": "code",
      "metadata": {
        "colab": {
          "base_uri": "https://localhost:8080/"
        },
        "id": "BaCcJ3FfFpRD",
        "outputId": "7d377ffe-cc50-46f2-cc37-85713030214a"
      },
      "source": [
        "mismatch()"
      ],
      "execution_count": 499,
      "outputs": [
        {
          "output_type": "stream",
          "text": [
            "out : Kyrgyzstan\n",
            "out : Lao People's Democratic Republic\n",
            "out : Republic of Moldova\n",
            "out : Saint Vincent and the Grenadines\n",
            "out : United Kingdom of Great Britain and Northern Ireland\n",
            "out : United Republic of Tanzania\n",
            "out : United States of America\n",
            "out : Viet Nam\n",
            "8 MISMATCH(ES) BETWEEN THOSE DATAFRAMES\n"
          ],
          "name": "stdout"
        }
      ]
    },
    {
      "cell_type": "code",
      "metadata": {
        "colab": {
          "base_uri": "https://localhost:8080/",
          "height": 0
        },
        "id": "Q68CELuGHxKc",
        "outputId": "1fb15cd2-ce86-4e0c-8102-93eda282c202"
      },
      "source": [
        "finder(\"Kyrg\")"
      ],
      "execution_count": 500,
      "outputs": [
        {
          "output_type": "stream",
          "text": [
            "    Country Code                 Region          IncomeGroup        TableName\n",
            "119          KGZ  Europe & Central Asia  Lower middle income  Kyrgyz Republic\n"
          ],
          "name": "stdout"
        },
        {
          "output_type": "execute_result",
          "data": {
            "application/vnd.google.colaboratory.intrinsic+json": {
              "type": "string"
            },
            "text/plain": [
              "'Kyrgyzstan'"
            ]
          },
          "metadata": {
            "tags": []
          },
          "execution_count": 500
        }
      ]
    },
    {
      "cell_type": "code",
      "metadata": {
        "colab": {
          "base_uri": "https://localhost:8080/"
        },
        "id": "NEooPEh78Fc0",
        "outputId": "a4ea6287-16dc-4a92-b821-4b2c71db61f6"
      },
      "source": [
        "changer(finder(\"Kyrg\"), \"Kyrg\")"
      ],
      "execution_count": 501,
      "outputs": [
        {
          "output_type": "stream",
          "text": [
            "    Country Code                 Region          IncomeGroup        TableName\n",
            "119          KGZ  Europe & Central Asia  Lower middle income  Kyrgyz Republic\n"
          ],
          "name": "stdout"
        }
      ]
    },
    {
      "cell_type": "code",
      "metadata": {
        "colab": {
          "base_uri": "https://localhost:8080/"
        },
        "id": "7QlxvlQ08h3c",
        "outputId": "308bc933-ce68-4537-d612-42e00f7b5eba"
      },
      "source": [
        "mismatch()"
      ],
      "execution_count": 502,
      "outputs": [
        {
          "output_type": "stream",
          "text": [
            "out : Lao People's Democratic Republic\n",
            "out : Republic of Moldova\n",
            "out : Saint Vincent and the Grenadines\n",
            "out : United Kingdom of Great Britain and Northern Ireland\n",
            "out : United Republic of Tanzania\n",
            "out : United States of America\n",
            "out : Viet Nam\n",
            "7 MISMATCH(ES) BETWEEN THOSE DATAFRAMES\n"
          ],
          "name": "stdout"
        }
      ]
    },
    {
      "cell_type": "code",
      "metadata": {
        "colab": {
          "base_uri": "https://localhost:8080/"
        },
        "id": "gfiel4pL8k7s",
        "outputId": "c1a99c38-428c-4d80-f74b-c3a1b4dfecfd"
      },
      "source": [
        "changer(finder(\"Lao\"), \"Lao\")"
      ],
      "execution_count": 503,
      "outputs": [
        {
          "output_type": "stream",
          "text": [
            "    Country Code               Region          IncomeGroup TableName\n",
            "126          LAO  East Asia & Pacific  Lower middle income   Lao PDR\n"
          ],
          "name": "stdout"
        }
      ]
    },
    {
      "cell_type": "code",
      "metadata": {
        "colab": {
          "base_uri": "https://localhost:8080/"
        },
        "id": "Zw5a3zvA85Qg",
        "outputId": "d2418414-3483-49f2-aef7-6a84c57932fd"
      },
      "source": [
        "mismatch()"
      ],
      "execution_count": 504,
      "outputs": [
        {
          "output_type": "stream",
          "text": [
            "out : Republic of Moldova\n",
            "out : Saint Vincent and the Grenadines\n",
            "out : United Kingdom of Great Britain and Northern Ireland\n",
            "out : United Republic of Tanzania\n",
            "out : United States of America\n",
            "out : Viet Nam\n",
            "6 MISMATCH(ES) BETWEEN THOSE DATAFRAMES\n"
          ],
          "name": "stdout"
        }
      ]
    },
    {
      "cell_type": "code",
      "metadata": {
        "colab": {
          "base_uri": "https://localhost:8080/"
        },
        "id": "Owq7QBjp87GT",
        "outputId": "fba723ea-c30a-402b-85a8-1d186a3bad9a"
      },
      "source": [
        "changer(finder(\"Moldova\"), \"Moldova\")"
      ],
      "execution_count": 505,
      "outputs": [
        {
          "output_type": "stream",
          "text": [
            "    Country Code                 Region          IncomeGroup TableName\n",
            "147          MDA  Europe & Central Asia  Lower middle income   Moldova\n"
          ],
          "name": "stdout"
        }
      ]
    },
    {
      "cell_type": "code",
      "metadata": {
        "colab": {
          "base_uri": "https://localhost:8080/"
        },
        "id": "E1bFwsGz9I6E",
        "outputId": "84848b68-c1cb-4c99-f770-118da540c11b"
      },
      "source": [
        "mismatch()"
      ],
      "execution_count": 506,
      "outputs": [
        {
          "output_type": "stream",
          "text": [
            "out : Saint Vincent and the Grenadines\n",
            "out : United Kingdom of Great Britain and Northern Ireland\n",
            "out : United Republic of Tanzania\n",
            "out : United States of America\n",
            "out : Viet Nam\n",
            "5 MISMATCH(ES) BETWEEN THOSE DATAFRAMES\n"
          ],
          "name": "stdout"
        }
      ]
    },
    {
      "cell_type": "code",
      "metadata": {
        "colab": {
          "base_uri": "https://localhost:8080/"
        },
        "id": "AkALVeTm9PZr",
        "outputId": "9e12147c-e534-423b-d875-eb43bc446caa"
      },
      "source": [
        "changer(finder(\"Vincent\"), \"Vincent \")\n",
        "mismatch()"
      ],
      "execution_count": 507,
      "outputs": [
        {
          "output_type": "stream",
          "text": [
            "    Country Code  ...                       TableName\n",
            "250          VCT  ...  St. Vincent and the Grenadines\n",
            "\n",
            "[1 rows x 4 columns]\n",
            "out : United Kingdom of Great Britain and Northern Ireland\n",
            "out : United Republic of Tanzania\n",
            "out : United States of America\n",
            "out : Viet Nam\n",
            "4 MISMATCH(ES) BETWEEN THOSE DATAFRAMES\n"
          ],
          "name": "stdout"
        }
      ]
    },
    {
      "cell_type": "code",
      "metadata": {
        "colab": {
          "base_uri": "https://localhost:8080/"
        },
        "id": "hN3-Hc2u9dCT",
        "outputId": "21ba22f8-e867-4ba2-ff5b-84e12260bfe0"
      },
      "source": [
        "changer(finder(\"Kingdom\"), \"Kingdom\") #great britain didnt work\n",
        "mismatch()"
      ],
      "execution_count": 508,
      "outputs": [
        {
          "output_type": "stream",
          "text": [
            "   Country Code                 Region  IncomeGroup       TableName\n",
            "79          GBR  Europe & Central Asia  High income  United Kingdom\n",
            "out : United Republic of Tanzania\n",
            "out : United States of America\n",
            "out : Viet Nam\n",
            "3 MISMATCH(ES) BETWEEN THOSE DATAFRAMES\n"
          ],
          "name": "stdout"
        }
      ]
    },
    {
      "cell_type": "code",
      "metadata": {
        "colab": {
          "base_uri": "https://localhost:8080/"
        },
        "id": "KEa4PZIj9c_m",
        "outputId": "ccbe7d1c-a358-4ea6-fae2-38a23fdaebea"
      },
      "source": [
        "changer(finder(\"Tanz\"), \"Tanz\") \n",
        "mismatch()"
      ],
      "execution_count": 509,
      "outputs": [
        {
          "output_type": "stream",
          "text": [
            "    Country Code              Region          IncomeGroup TableName\n",
            "243          TZA  Sub-Saharan Africa  Lower middle income  Tanzania\n",
            "out : United States of America\n",
            "out : Viet Nam\n",
            "2 MISMATCH(ES) BETWEEN THOSE DATAFRAMES\n"
          ],
          "name": "stdout"
        }
      ]
    },
    {
      "cell_type": "code",
      "metadata": {
        "colab": {
          "base_uri": "https://localhost:8080/"
        },
        "id": "Lte73Yaa9c8v",
        "outputId": "55e4495a-a70c-4ef7-be30-1188a14e25cd"
      },
      "source": [
        "changer(finder(\"State\"), \"State\")\n",
        "mismatch() "
      ],
      "execution_count": 510,
      "outputs": [
        {
          "output_type": "stream",
          "text": [
            "    Country Code         Region  IncomeGroup      TableName\n",
            "248          USA  North America  High income  United States\n",
            "out : Viet Nam\n",
            "1 MISMATCH(ES) BETWEEN THOSE DATAFRAMES\n"
          ],
          "name": "stdout"
        }
      ]
    },
    {
      "cell_type": "code",
      "metadata": {
        "colab": {
          "base_uri": "https://localhost:8080/"
        },
        "id": "vjY4C5ur9c6H",
        "outputId": "67b114c5-bd99-41c6-d7b9-1bfcae451e73"
      },
      "source": [
        "changer(finder(\"Viet\"), \"Viet\")\n",
        "mismatch() "
      ],
      "execution_count": 511,
      "outputs": [
        {
          "output_type": "stream",
          "text": [
            "    Country Code               Region          IncomeGroup TableName\n",
            "254          VNM  East Asia & Pacific  Lower middle income   Vietnam\n",
            "0 MISMATCH(ES) BETWEEN THOSE DATAFRAMES\n"
          ],
          "name": "stdout"
        }
      ]
    },
    {
      "cell_type": "code",
      "metadata": {
        "colab": {
          "base_uri": "https://localhost:8080/"
        },
        "id": "ha9xhNHe-67T",
        "outputId": "28e56b1d-ad62-4eef-d7c4-b3bef6745dd5"
      },
      "source": [
        "mismatch(only_out=False)"
      ],
      "execution_count": 512,
      "outputs": [
        {
          "output_type": "stream",
          "text": [
            "in : Afghanistan\n",
            "in : Albania\n",
            "in : Algeria\n",
            "in : Angola\n",
            "in : Antigua and Barbuda\n",
            "in : Argentina\n",
            "in : Armenia\n",
            "in : Australia\n",
            "in : Austria\n",
            "in : Azerbaijan\n",
            "in : Bahamas\n",
            "in : Bahrain\n",
            "in : Bangladesh\n",
            "in : Barbados\n",
            "in : Belarus\n",
            "in : Belgium\n",
            "in : Belize\n",
            "in : Benin\n",
            "in : Bhutan\n",
            "in : Bolivia\n",
            "in : Bosnia and Herzegovina\n",
            "in : Botswana\n",
            "in : Brazil\n",
            "in : Brunei Darussalam\n",
            "in : Bulgaria\n",
            "in : Burkina Faso\n",
            "in : Burundi\n",
            "in : Cabo Verde\n",
            "in : Cambodia\n",
            "in : Cameroon\n",
            "in : Canada\n",
            "in : Central African Republic\n",
            "in : Chad\n",
            "in : Chile\n",
            "in : China\n",
            "in : Colombia\n",
            "in : Comoros\n",
            "in : Congo\n",
            "in : Costa Rica\n",
            "in : Côte d'Ivoire\n",
            "in : Croatia\n",
            "in : Cuba\n",
            "in : Cyprus\n",
            "in : Czechia\n",
            "in : Democratic People's Republic of Korea\n",
            "in : Democratic Republic of the Congo\n",
            "in : Denmark\n",
            "in : Djibouti\n",
            "in : Dominican Republic\n",
            "in : Ecuador\n",
            "in : Egypt\n",
            "in : El Salvador\n",
            "in : Equatorial Guinea\n",
            "in : Eritrea\n",
            "in : Estonia\n",
            "in : Eswatini\n",
            "in : Ethiopia\n",
            "in : Fiji\n",
            "in : Finland\n",
            "in : France\n",
            "in : Gabon\n",
            "in : Gambia\n",
            "in : Georgia\n",
            "in : Germany\n",
            "in : Ghana\n",
            "in : Greece\n",
            "in : Grenada\n",
            "in : Guatemala\n",
            "in : Guinea\n",
            "in : Guinea-Bissau\n",
            "in : Guyana\n",
            "in : Haiti\n",
            "in : Honduras\n",
            "in : Hungary\n",
            "in : Iceland\n",
            "in : India\n",
            "in : Indonesia\n",
            "in : Iran\n",
            "in : Iraq\n",
            "in : Ireland\n",
            "in : Israel\n",
            "in : Italy\n",
            "in : Jamaica\n",
            "in : Japan\n",
            "in : Jordan\n",
            "in : Kazakhstan\n",
            "in : Kenya\n",
            "in : Kiribati\n",
            "in : Kuwait\n",
            "in : Kyrgyzstan\n",
            "in : Lao People's Democratic Republic\n",
            "in : Latvia\n",
            "in : Lebanon\n",
            "in : Lesotho\n",
            "in : Liberia\n",
            "in : Libya\n",
            "in : Lithuania\n",
            "in : Luxembourg\n",
            "in : Madagascar\n",
            "in : Malawi\n",
            "in : Malaysia\n",
            "in : Maldives\n",
            "in : Mali\n",
            "in : Malta\n",
            "in : Mauritania\n",
            "in : Mauritius\n",
            "in : Mexico\n",
            "in : Micronesia\n",
            "in : Mongolia\n",
            "in : Montenegro\n",
            "in : Morocco\n",
            "in : Mozambique\n",
            "in : Myanmar\n",
            "in : Namibia\n",
            "in : Nepal\n",
            "in : Netherlands\n",
            "in : New Zealand\n",
            "in : Nicaragua\n",
            "in : Niger\n",
            "in : Nigeria\n",
            "in : Norway\n",
            "in : Oman\n",
            "in : Pakistan\n",
            "in : Panama\n",
            "in : Papua New Guinea\n",
            "in : Paraguay\n",
            "in : Peru\n",
            "in : Philippines\n",
            "in : Poland\n",
            "in : Portugal\n",
            "in : Qatar\n",
            "in : Republic of Korea\n",
            "in : Republic of Moldova\n",
            "in : North Macedonia\n",
            "in : Romania\n",
            "in : Russian Federation\n",
            "in : Rwanda\n",
            "in : Saint Lucia\n",
            "in : Saint Vincent and the Grenadines\n",
            "in : Samoa\n",
            "in : Sao Tome and Principe\n",
            "in : Saudi Arabia\n",
            "in : Senegal\n",
            "in : Serbia\n",
            "in : Seychelles\n",
            "in : Sierra Leone\n",
            "in : Singapore\n",
            "in : Slovakia\n",
            "in : Slovenia\n",
            "in : Solomon Islands\n",
            "in : Somalia\n",
            "in : South Africa\n",
            "in : South Sudan\n",
            "in : Spain\n",
            "in : Sri Lanka\n",
            "in : Sudan\n",
            "in : Suriname\n",
            "in : Sweden\n",
            "in : Switzerland\n",
            "in : Syrian Arab Republic\n",
            "in : Tajikistan\n",
            "in : Thailand\n",
            "in : Timor-Leste\n",
            "in : Togo\n",
            "in : Tonga\n",
            "in : Trinidad and Tobago\n",
            "in : Tunisia\n",
            "in : Turkey\n",
            "in : Turkmenistan\n",
            "in : Uganda\n",
            "in : Ukraine\n",
            "in : United Arab Emirates\n",
            "in : United Kingdom of Great Britain and Northern Ireland\n",
            "in : United Republic of Tanzania\n",
            "in : United States of America\n",
            "in : Uruguay\n",
            "in : Uzbekistan\n",
            "in : Vanuatu\n",
            "in : Venezuela\n",
            "in : Viet Nam\n",
            "in : Yemen\n",
            "in : Zambia\n",
            "in : Zimbabwe\n",
            "0 MISMATCH(ES) BETWEEN THOSE DATAFRAMES\n"
          ],
          "name": "stdout"
        }
      ]
    },
    {
      "cell_type": "markdown",
      "metadata": {
        "id": "J6Si9_pFAW34"
      },
      "source": [
        "# REMERGE"
      ]
    },
    {
      "cell_type": "code",
      "metadata": {
        "colab": {
          "base_uri": "https://localhost:8080/",
          "height": 538
        },
        "id": "4cmOSuBt-_3N",
        "outputId": "79512193-784d-47f8-bde2-2774838c51f2"
      },
      "source": [
        "df_rearanged.merge(df_gdp,how=\"inner\", left_on=\"Country\", right_on=\"TableName\")"
      ],
      "execution_count": 513,
      "outputs": [
        {
          "output_type": "execute_result",
          "data": {
            "text/html": [
              "<div>\n",
              "<style scoped>\n",
              "    .dataframe tbody tr th:only-of-type {\n",
              "        vertical-align: middle;\n",
              "    }\n",
              "\n",
              "    .dataframe tbody tr th {\n",
              "        vertical-align: top;\n",
              "    }\n",
              "\n",
              "    .dataframe thead th {\n",
              "        text-align: right;\n",
              "    }\n",
              "</style>\n",
              "<table border=\"1\" class=\"dataframe\">\n",
              "  <thead>\n",
              "    <tr style=\"text-align: right;\">\n",
              "      <th></th>\n",
              "      <th>Country</th>\n",
              "      <th>Year</th>\n",
              "      <th>Causes</th>\n",
              "      <th>Both sexes_recent</th>\n",
              "      <th>Both sexes_min</th>\n",
              "      <th>Both sexes_max</th>\n",
              "      <th>Male_recent</th>\n",
              "      <th>Male_min</th>\n",
              "      <th>Male_max</th>\n",
              "      <th>Female_recent</th>\n",
              "      <th>Female_min</th>\n",
              "      <th>Female_max</th>\n",
              "      <th>Country Code</th>\n",
              "      <th>Region</th>\n",
              "      <th>IncomeGroup</th>\n",
              "      <th>TableName</th>\n",
              "    </tr>\n",
              "  </thead>\n",
              "  <tbody>\n",
              "    <tr>\n",
              "      <th>0</th>\n",
              "      <td>Afghanistan</td>\n",
              "      <td>2019</td>\n",
              "      <td>Malignant neoplasms</td>\n",
              "      <td>15565</td>\n",
              "      <td>7609</td>\n",
              "      <td>28280</td>\n",
              "      <td>7756</td>\n",
              "      <td>3898</td>\n",
              "      <td>13841</td>\n",
              "      <td>7809</td>\n",
              "      <td>3711</td>\n",
              "      <td>14439</td>\n",
              "      <td>AFG</td>\n",
              "      <td>South Asia</td>\n",
              "      <td>Low income</td>\n",
              "      <td>Afghanistan</td>\n",
              "    </tr>\n",
              "    <tr>\n",
              "      <th>1</th>\n",
              "      <td>Afghanistan</td>\n",
              "      <td>2019</td>\n",
              "      <td>Diabetes mellitus</td>\n",
              "      <td>8060</td>\n",
              "      <td>3827</td>\n",
              "      <td>14468</td>\n",
              "      <td>2612</td>\n",
              "      <td>1377</td>\n",
              "      <td>4651</td>\n",
              "      <td>5448</td>\n",
              "      <td>2451</td>\n",
              "      <td>9817</td>\n",
              "      <td>AFG</td>\n",
              "      <td>South Asia</td>\n",
              "      <td>Low income</td>\n",
              "      <td>Afghanistan</td>\n",
              "    </tr>\n",
              "    <tr>\n",
              "      <th>2</th>\n",
              "      <td>Afghanistan</td>\n",
              "      <td>2019</td>\n",
              "      <td>Cardiovascular diseases</td>\n",
              "      <td>71264</td>\n",
              "      <td>42413</td>\n",
              "      <td>108472</td>\n",
              "      <td>33793</td>\n",
              "      <td>20550</td>\n",
              "      <td>51028</td>\n",
              "      <td>37471</td>\n",
              "      <td>21863</td>\n",
              "      <td>57444</td>\n",
              "      <td>AFG</td>\n",
              "      <td>South Asia</td>\n",
              "      <td>Low income</td>\n",
              "      <td>Afghanistan</td>\n",
              "    </tr>\n",
              "    <tr>\n",
              "      <th>3</th>\n",
              "      <td>Afghanistan</td>\n",
              "      <td>2019</td>\n",
              "      <td>Chronic respiratory diseases</td>\n",
              "      <td>8285</td>\n",
              "      <td>3618</td>\n",
              "      <td>14626</td>\n",
              "      <td>3920</td>\n",
              "      <td>1877</td>\n",
              "      <td>6745</td>\n",
              "      <td>4365</td>\n",
              "      <td>1741</td>\n",
              "      <td>7881</td>\n",
              "      <td>AFG</td>\n",
              "      <td>South Asia</td>\n",
              "      <td>Low income</td>\n",
              "      <td>Afghanistan</td>\n",
              "    </tr>\n",
              "    <tr>\n",
              "      <th>4</th>\n",
              "      <td>Afghanistan</td>\n",
              "      <td>2018</td>\n",
              "      <td>Malignant neoplasms</td>\n",
              "      <td>15065</td>\n",
              "      <td>7337</td>\n",
              "      <td>27401</td>\n",
              "      <td>7534</td>\n",
              "      <td>3766</td>\n",
              "      <td>13454</td>\n",
              "      <td>7531</td>\n",
              "      <td>3570</td>\n",
              "      <td>13948</td>\n",
              "      <td>AFG</td>\n",
              "      <td>South Asia</td>\n",
              "      <td>Low income</td>\n",
              "      <td>Afghanistan</td>\n",
              "    </tr>\n",
              "    <tr>\n",
              "      <th>...</th>\n",
              "      <td>...</td>\n",
              "      <td>...</td>\n",
              "      <td>...</td>\n",
              "      <td>...</td>\n",
              "      <td>...</td>\n",
              "      <td>...</td>\n",
              "      <td>...</td>\n",
              "      <td>...</td>\n",
              "      <td>...</td>\n",
              "      <td>...</td>\n",
              "      <td>...</td>\n",
              "      <td>...</td>\n",
              "      <td>...</td>\n",
              "      <td>...</td>\n",
              "      <td>...</td>\n",
              "      <td>...</td>\n",
              "    </tr>\n",
              "    <tr>\n",
              "      <th>14635</th>\n",
              "      <td>Zimbabwe</td>\n",
              "      <td>2001</td>\n",
              "      <td>Chronic respiratory diseases</td>\n",
              "      <td>1884</td>\n",
              "      <td>1044</td>\n",
              "      <td>3046</td>\n",
              "      <td>996</td>\n",
              "      <td>603</td>\n",
              "      <td>1513</td>\n",
              "      <td>887</td>\n",
              "      <td>441</td>\n",
              "      <td>1533</td>\n",
              "      <td>ZWE</td>\n",
              "      <td>Sub-Saharan Africa</td>\n",
              "      <td>Lower middle income</td>\n",
              "      <td>Zimbabwe</td>\n",
              "    </tr>\n",
              "    <tr>\n",
              "      <th>14636</th>\n",
              "      <td>Zimbabwe</td>\n",
              "      <td>2000</td>\n",
              "      <td>Malignant neoplasms</td>\n",
              "      <td>7474</td>\n",
              "      <td>4592</td>\n",
              "      <td>11441</td>\n",
              "      <td>3838</td>\n",
              "      <td>2512</td>\n",
              "      <td>5647</td>\n",
              "      <td>3636</td>\n",
              "      <td>2080</td>\n",
              "      <td>5794</td>\n",
              "      <td>ZWE</td>\n",
              "      <td>Sub-Saharan Africa</td>\n",
              "      <td>Lower middle income</td>\n",
              "      <td>Zimbabwe</td>\n",
              "    </tr>\n",
              "    <tr>\n",
              "      <th>14637</th>\n",
              "      <td>Zimbabwe</td>\n",
              "      <td>2000</td>\n",
              "      <td>Diabetes mellitus</td>\n",
              "      <td>2039</td>\n",
              "      <td>1227</td>\n",
              "      <td>3219</td>\n",
              "      <td>810</td>\n",
              "      <td>507</td>\n",
              "      <td>1246</td>\n",
              "      <td>1229</td>\n",
              "      <td>720</td>\n",
              "      <td>1972</td>\n",
              "      <td>ZWE</td>\n",
              "      <td>Sub-Saharan Africa</td>\n",
              "      <td>Lower middle income</td>\n",
              "      <td>Zimbabwe</td>\n",
              "    </tr>\n",
              "    <tr>\n",
              "      <th>14638</th>\n",
              "      <td>Zimbabwe</td>\n",
              "      <td>2000</td>\n",
              "      <td>Cardiovascular diseases</td>\n",
              "      <td>10368</td>\n",
              "      <td>6335</td>\n",
              "      <td>16076</td>\n",
              "      <td>4425</td>\n",
              "      <td>2818</td>\n",
              "      <td>6837</td>\n",
              "      <td>5943</td>\n",
              "      <td>3516</td>\n",
              "      <td>9239</td>\n",
              "      <td>ZWE</td>\n",
              "      <td>Sub-Saharan Africa</td>\n",
              "      <td>Lower middle income</td>\n",
              "      <td>Zimbabwe</td>\n",
              "    </tr>\n",
              "    <tr>\n",
              "      <th>14639</th>\n",
              "      <td>Zimbabwe</td>\n",
              "      <td>2000</td>\n",
              "      <td>Chronic respiratory diseases</td>\n",
              "      <td>1861</td>\n",
              "      <td>1039</td>\n",
              "      <td>2993</td>\n",
              "      <td>983</td>\n",
              "      <td>605</td>\n",
              "      <td>1481</td>\n",
              "      <td>878</td>\n",
              "      <td>435</td>\n",
              "      <td>1513</td>\n",
              "      <td>ZWE</td>\n",
              "      <td>Sub-Saharan Africa</td>\n",
              "      <td>Lower middle income</td>\n",
              "      <td>Zimbabwe</td>\n",
              "    </tr>\n",
              "  </tbody>\n",
              "</table>\n",
              "<p>14640 rows × 16 columns</p>\n",
              "</div>"
            ],
            "text/plain": [
              "           Country  Year  ...          IncomeGroup    TableName\n",
              "0      Afghanistan  2019  ...           Low income  Afghanistan\n",
              "1      Afghanistan  2019  ...           Low income  Afghanistan\n",
              "2      Afghanistan  2019  ...           Low income  Afghanistan\n",
              "3      Afghanistan  2019  ...           Low income  Afghanistan\n",
              "4      Afghanistan  2018  ...           Low income  Afghanistan\n",
              "...            ...   ...  ...                  ...          ...\n",
              "14635     Zimbabwe  2001  ...  Lower middle income     Zimbabwe\n",
              "14636     Zimbabwe  2000  ...  Lower middle income     Zimbabwe\n",
              "14637     Zimbabwe  2000  ...  Lower middle income     Zimbabwe\n",
              "14638     Zimbabwe  2000  ...  Lower middle income     Zimbabwe\n",
              "14639     Zimbabwe  2000  ...  Lower middle income     Zimbabwe\n",
              "\n",
              "[14640 rows x 16 columns]"
            ]
          },
          "metadata": {
            "tags": []
          },
          "execution_count": 513
        }
      ]
    },
    {
      "cell_type": "code",
      "metadata": {
        "colab": {
          "base_uri": "https://localhost:8080/"
        },
        "id": "s3q59JCV_HKN",
        "outputId": "abb0ba0b-3ef9-48a0-c1ad-412656628a01"
      },
      "source": [
        "df_rearanged.shape"
      ],
      "execution_count": 514,
      "outputs": [
        {
          "output_type": "execute_result",
          "data": {
            "text/plain": [
              "(14640, 12)"
            ]
          },
          "metadata": {
            "tags": []
          },
          "execution_count": 514
        }
      ]
    },
    {
      "cell_type": "code",
      "metadata": {
        "id": "MuavvKLm_ORl"
      },
      "source": [
        "df_merged = df_rearanged.merge(df_gdp,how=\"inner\", left_on=\"Country\", right_on=\"TableName\")"
      ],
      "execution_count": 515,
      "outputs": []
    },
    {
      "cell_type": "code",
      "metadata": {
        "id": "IZDUgLx1_Udf"
      },
      "source": [
        "df_merged.drop(\"TableName\", axis=1, inplace=True)"
      ],
      "execution_count": 517,
      "outputs": []
    },
    {
      "cell_type": "markdown",
      "metadata": {
        "id": "SDq-l53aAgxu"
      },
      "source": [
        "# INCOME VS DISEASE"
      ]
    },
    {
      "cell_type": "code",
      "metadata": {
        "colab": {
          "base_uri": "https://localhost:8080/",
          "height": 204
        },
        "id": "24KV4yQP_eLF",
        "outputId": "4d98dd0e-051f-4b12-e1c1-350885b1c585"
      },
      "source": [
        "df_merged.groupby(by=[\"IncomeGroup\",\"Causes\"])[[\"Male_recent\"]].mean().xs(\"Cardiovascular diseases\",level =1).sort_values(\"Male_recent\")"
      ],
      "execution_count": 520,
      "outputs": [
        {
          "output_type": "execute_result",
          "data": {
            "text/html": [
              "<div>\n",
              "<style scoped>\n",
              "    .dataframe tbody tr th:only-of-type {\n",
              "        vertical-align: middle;\n",
              "    }\n",
              "\n",
              "    .dataframe tbody tr th {\n",
              "        vertical-align: top;\n",
              "    }\n",
              "\n",
              "    .dataframe thead th {\n",
              "        text-align: right;\n",
              "    }\n",
              "</style>\n",
              "<table border=\"1\" class=\"dataframe\">\n",
              "  <thead>\n",
              "    <tr style=\"text-align: right;\">\n",
              "      <th></th>\n",
              "      <th>Male_recent</th>\n",
              "    </tr>\n",
              "    <tr>\n",
              "      <th>IncomeGroup</th>\n",
              "      <th></th>\n",
              "    </tr>\n",
              "  </thead>\n",
              "  <tbody>\n",
              "    <tr>\n",
              "      <th>Low income</th>\n",
              "      <td>12,442</td>\n",
              "    </tr>\n",
              "    <tr>\n",
              "      <th>High income</th>\n",
              "      <td>29,623</td>\n",
              "    </tr>\n",
              "    <tr>\n",
              "      <th>Lower middle income</th>\n",
              "      <td>51,360</td>\n",
              "    </tr>\n",
              "    <tr>\n",
              "      <th>Upper middle income</th>\n",
              "      <td>73,388</td>\n",
              "    </tr>\n",
              "  </tbody>\n",
              "</table>\n",
              "</div>"
            ],
            "text/plain": [
              "                     Male_recent\n",
              "IncomeGroup                     \n",
              "Low income                12,442\n",
              "High income               29,623\n",
              "Lower middle income       51,360\n",
              "Upper middle income       73,388"
            ]
          },
          "metadata": {
            "tags": []
          },
          "execution_count": 520
        }
      ]
    },
    {
      "cell_type": "code",
      "metadata": {
        "colab": {
          "base_uri": "https://localhost:8080/",
          "height": 204
        },
        "id": "Gp2dC8_sE2eF",
        "outputId": "5ec1fb06-98d0-4efc-a6c1-84d88a0c735e"
      },
      "source": [
        "df_merged.groupby(by=[\"IncomeGroup\",\"Causes\"])[[\"Female_recent\"]].mean().xs(\"Cardiovascular diseases\",level =1).sort_values(\"Female_recent\")"
      ],
      "execution_count": 522,
      "outputs": [
        {
          "output_type": "execute_result",
          "data": {
            "text/html": [
              "<div>\n",
              "<style scoped>\n",
              "    .dataframe tbody tr th:only-of-type {\n",
              "        vertical-align: middle;\n",
              "    }\n",
              "\n",
              "    .dataframe tbody tr th {\n",
              "        vertical-align: top;\n",
              "    }\n",
              "\n",
              "    .dataframe thead th {\n",
              "        text-align: right;\n",
              "    }\n",
              "</style>\n",
              "<table border=\"1\" class=\"dataframe\">\n",
              "  <thead>\n",
              "    <tr style=\"text-align: right;\">\n",
              "      <th></th>\n",
              "      <th>Female_recent</th>\n",
              "    </tr>\n",
              "    <tr>\n",
              "      <th>IncomeGroup</th>\n",
              "      <th></th>\n",
              "    </tr>\n",
              "  </thead>\n",
              "  <tbody>\n",
              "    <tr>\n",
              "      <th>Low income</th>\n",
              "      <td>12,772</td>\n",
              "    </tr>\n",
              "    <tr>\n",
              "      <th>High income</th>\n",
              "      <td>33,624</td>\n",
              "    </tr>\n",
              "    <tr>\n",
              "      <th>Lower middle income</th>\n",
              "      <td>44,423</td>\n",
              "    </tr>\n",
              "    <tr>\n",
              "      <th>Upper middle income</th>\n",
              "      <td>66,784</td>\n",
              "    </tr>\n",
              "  </tbody>\n",
              "</table>\n",
              "</div>"
            ],
            "text/plain": [
              "                     Female_recent\n",
              "IncomeGroup                       \n",
              "Low income                  12,772\n",
              "High income                 33,624\n",
              "Lower middle income         44,423\n",
              "Upper middle income         66,784"
            ]
          },
          "metadata": {
            "tags": []
          },
          "execution_count": 522
        }
      ]
    },
    {
      "cell_type": "code",
      "metadata": {
        "colab": {
          "base_uri": "https://localhost:8080/",
          "height": 282
        },
        "id": "FgZ691XGBG2o",
        "outputId": "a2c0effa-d4be-49f0-93b5-0020e37fb65a"
      },
      "source": [
        "df_merged.groupby(by=[\"IncomeGroup\",\"Causes\"])[[\"Male_recent\"]].median().sort_values(\"Male_recent\").plot.barh()"
      ],
      "execution_count": 351,
      "outputs": [
        {
          "output_type": "execute_result",
          "data": {
            "text/plain": [
              "<matplotlib.axes._subplots.AxesSubplot at 0x7fee34161390>"
            ]
          },
          "metadata": {
            "tags": []
          },
          "execution_count": 351
        },
        {
          "output_type": "display_data",
          "data": {
            "image/png": "[encoded data removed]",
            "text/plain": [
              "<Figure size 432x288 with 1 Axes>"
            ]
          },
          "metadata": {
            "tags": [],
            "needs_background": "light"
          }
        }
      ]
    },
    {
      "cell_type": "markdown",
      "metadata": {
        "id": "xBzZfSk-DPiZ"
      },
      "source": [
        "* In context of income we could say that a higher income-Male has higher risk in Cardiovascular diseases"
      ]
    },
    {
      "cell_type": "code",
      "metadata": {
        "colab": {
          "base_uri": "https://localhost:8080/",
          "height": 282
        },
        "id": "-K7QADPZB2bV",
        "outputId": "908f418a-e818-4e79-b350-4c581d39c2d2"
      },
      "source": [
        "df_merged.groupby(by=[\"IncomeGroup\",\"Causes\"])[[\"Female_recent\"]].median().sort_values(\"Female_recent\").plot.barh()"
      ],
      "execution_count": 336,
      "outputs": [
        {
          "output_type": "execute_result",
          "data": {
            "text/plain": [
              "<matplotlib.axes._subplots.AxesSubplot at 0x7fee34130450>"
            ]
          },
          "metadata": {
            "tags": []
          },
          "execution_count": 336
        },
        {
          "output_type": "display_data",
          "data": {
            "image/png": "[encoded data removed]",
            "text/plain": [
              "<Figure size 432x288 with 1 Axes>"
            ]
          },
          "metadata": {
            "tags": [],
            "needs_background": "light"
          }
        }
      ]
    },
    {
      "cell_type": "markdown",
      "metadata": {
        "id": "eDlSTNSFEihh"
      },
      "source": [
        "* we could say that females are more prone to Cardiovascular diseases and also interms of income same as males "
      ]
    },
    {
      "cell_type": "code",
      "metadata": {
        "colab": {
          "base_uri": "https://localhost:8080/",
          "height": 17
        },
        "id": "YxH-9X9_EOhD",
        "outputId": "e1dfbc61-f35f-4889-88a4-33d381a8d898"
      },
      "source": [
        "df_merged_pivot = pd.pivot_table(df_merged,values= ['Both sexes_recent', 'Both sexes_min', 'Both sexes_max', 'Male_recent',\n",
        "       'Male_min', 'Male_max', 'Female_recent', 'Female_min', 'Female_max'], index=['IncomeGroup','Region','Country', 'Year', 'Causes'])"
      ],
      "execution_count": 523,
      "outputs": [
        {
          "output_type": "display_data",
          "data": {
            "application/javascript": [
              "\n",
              "        if (window._pyforest_update_imports_cell) { window._pyforest_update_imports_cell('import spacy\\nfrom sklearn import svm\\nimport matplotlib.pyplot as plt\\nimport glob\\nimport statistics\\nimport seaborn as sns\\nimport plotly.graph_objs as go\\nimport plotly.express as px\\nimport pandas as pd\\nimport re\\nimport numpy as np\\nimport pickle\\nimport matplotlib as mpl\\nimport altair as alt\\nimport nltk\\nimport sys\\nimport lightgbm as lgb\\nimport bokeh\\nfrom pathlib import Path\\nimport pydot\\nimport plotly as py\\nfrom openpyxl import load_workbook\\nimport sklearn\\nimport gensim'); }\n",
              "    "
            ],
            "text/plain": [
              "<IPython.core.display.Javascript object>"
            ]
          },
          "metadata": {
            "tags": []
          }
        }
      ]
    },
    {
      "cell_type": "code",
      "metadata": {
        "colab": {
          "base_uri": "https://localhost:8080/",
          "height": 450
        },
        "id": "WdBw_VhBGCFz",
        "outputId": "3d3576bf-0645-4319-8ec0-78af18169e95"
      },
      "source": [
        "df_merged_pivot"
      ],
      "execution_count": 524,
      "outputs": [
        {
          "output_type": "execute_result",
          "data": {
            "text/html": [
              "<div>\n",
              "<style scoped>\n",
              "    .dataframe tbody tr th:only-of-type {\n",
              "        vertical-align: middle;\n",
              "    }\n",
              "\n",
              "    .dataframe tbody tr th {\n",
              "        vertical-align: top;\n",
              "    }\n",
              "\n",
              "    .dataframe thead th {\n",
              "        text-align: right;\n",
              "    }\n",
              "</style>\n",
              "<table border=\"1\" class=\"dataframe\">\n",
              "  <thead>\n",
              "    <tr style=\"text-align: right;\">\n",
              "      <th></th>\n",
              "      <th></th>\n",
              "      <th></th>\n",
              "      <th></th>\n",
              "      <th></th>\n",
              "      <th>Both sexes_max</th>\n",
              "      <th>Both sexes_min</th>\n",
              "      <th>Both sexes_recent</th>\n",
              "      <th>Female_max</th>\n",
              "      <th>Female_min</th>\n",
              "      <th>Female_recent</th>\n",
              "      <th>Male_max</th>\n",
              "      <th>Male_min</th>\n",
              "      <th>Male_recent</th>\n",
              "    </tr>\n",
              "    <tr>\n",
              "      <th>IncomeGroup</th>\n",
              "      <th>Region</th>\n",
              "      <th>Country</th>\n",
              "      <th>Year</th>\n",
              "      <th>Causes</th>\n",
              "      <th></th>\n",
              "      <th></th>\n",
              "      <th></th>\n",
              "      <th></th>\n",
              "      <th></th>\n",
              "      <th></th>\n",
              "      <th></th>\n",
              "      <th></th>\n",
              "      <th></th>\n",
              "    </tr>\n",
              "  </thead>\n",
              "  <tbody>\n",
              "    <tr>\n",
              "      <th rowspan=\"5\" valign=\"top\">High income</th>\n",
              "      <th rowspan=\"5\" valign=\"top\">East Asia &amp; Pacific</th>\n",
              "      <th rowspan=\"5\" valign=\"top\">Australia</th>\n",
              "      <th rowspan=\"4\" valign=\"top\">2000</th>\n",
              "      <th>Cardiovascular diseases</th>\n",
              "      <td>54254</td>\n",
              "      <td>40271</td>\n",
              "      <td>47663</td>\n",
              "      <td>28696</td>\n",
              "      <td>20353</td>\n",
              "      <td>25006</td>\n",
              "      <td>25558</td>\n",
              "      <td>19918</td>\n",
              "      <td>22658</td>\n",
              "    </tr>\n",
              "    <tr>\n",
              "      <th>Chronic respiratory diseases</th>\n",
              "      <td>9984</td>\n",
              "      <td>6830</td>\n",
              "      <td>8487</td>\n",
              "      <td>4449</td>\n",
              "      <td>2752</td>\n",
              "      <td>3674</td>\n",
              "      <td>5535</td>\n",
              "      <td>4078</td>\n",
              "      <td>4813</td>\n",
              "    </tr>\n",
              "    <tr>\n",
              "      <th>Diabetes mellitus</th>\n",
              "      <td>3391</td>\n",
              "      <td>2486</td>\n",
              "      <td>2937</td>\n",
              "      <td>1627</td>\n",
              "      <td>1140</td>\n",
              "      <td>1389</td>\n",
              "      <td>1764</td>\n",
              "      <td>1345</td>\n",
              "      <td>1548</td>\n",
              "    </tr>\n",
              "    <tr>\n",
              "      <th>Malignant neoplasms</th>\n",
              "      <td>40612</td>\n",
              "      <td>29929</td>\n",
              "      <td>35245</td>\n",
              "      <td>17604</td>\n",
              "      <td>12959</td>\n",
              "      <td>15298</td>\n",
              "      <td>23008</td>\n",
              "      <td>16969</td>\n",
              "      <td>19947</td>\n",
              "    </tr>\n",
              "    <tr>\n",
              "      <th>2001</th>\n",
              "      <th>Cardiovascular diseases</th>\n",
              "      <td>53925</td>\n",
              "      <td>39668</td>\n",
              "      <td>47202</td>\n",
              "      <td>28368</td>\n",
              "      <td>19951</td>\n",
              "      <td>24650</td>\n",
              "      <td>25557</td>\n",
              "      <td>19717</td>\n",
              "      <td>22552</td>\n",
              "    </tr>\n",
              "    <tr>\n",
              "      <th>...</th>\n",
              "      <th>...</th>\n",
              "      <th>...</th>\n",
              "      <th>...</th>\n",
              "      <th>...</th>\n",
              "      <td>...</td>\n",
              "      <td>...</td>\n",
              "      <td>...</td>\n",
              "      <td>...</td>\n",
              "      <td>...</td>\n",
              "      <td>...</td>\n",
              "      <td>...</td>\n",
              "      <td>...</td>\n",
              "      <td>...</td>\n",
              "    </tr>\n",
              "    <tr>\n",
              "      <th rowspan=\"5\" valign=\"top\">Upper middle income</th>\n",
              "      <th rowspan=\"5\" valign=\"top\">Sub-Saharan Africa</th>\n",
              "      <th rowspan=\"5\" valign=\"top\">South Africa</th>\n",
              "      <th>2018</th>\n",
              "      <th>Malignant neoplasms</th>\n",
              "      <td>72458</td>\n",
              "      <td>43001</td>\n",
              "      <td>56728</td>\n",
              "      <td>36928</td>\n",
              "      <td>20317</td>\n",
              "      <td>28094</td>\n",
              "      <td>35530</td>\n",
              "      <td>22684</td>\n",
              "      <td>28635</td>\n",
              "    </tr>\n",
              "    <tr>\n",
              "      <th rowspan=\"4\" valign=\"top\">2019</th>\n",
              "      <th>Cardiovascular diseases</th>\n",
              "      <td>107835</td>\n",
              "      <td>69709</td>\n",
              "      <td>87794</td>\n",
              "      <td>55767</td>\n",
              "      <td>35406</td>\n",
              "      <td>45163</td>\n",
              "      <td>52068</td>\n",
              "      <td>34304</td>\n",
              "      <td>42630</td>\n",
              "    </tr>\n",
              "    <tr>\n",
              "      <th>Chronic respiratory diseases</th>\n",
              "      <td>25492</td>\n",
              "      <td>15117</td>\n",
              "      <td>19525</td>\n",
              "      <td>11969</td>\n",
              "      <td>6158</td>\n",
              "      <td>8558</td>\n",
              "      <td>13523</td>\n",
              "      <td>8958</td>\n",
              "      <td>10966</td>\n",
              "    </tr>\n",
              "    <tr>\n",
              "      <th>Diabetes mellitus</th>\n",
              "      <td>42803</td>\n",
              "      <td>27088</td>\n",
              "      <td>34401</td>\n",
              "      <td>23776</td>\n",
              "      <td>14922</td>\n",
              "      <td>19075</td>\n",
              "      <td>19027</td>\n",
              "      <td>12166</td>\n",
              "      <td>15327</td>\n",
              "    </tr>\n",
              "    <tr>\n",
              "      <th>Malignant neoplasms</th>\n",
              "      <td>73325</td>\n",
              "      <td>42812</td>\n",
              "      <td>56845</td>\n",
              "      <td>37339</td>\n",
              "      <td>20491</td>\n",
              "      <td>28315</td>\n",
              "      <td>35985</td>\n",
              "      <td>22321</td>\n",
              "      <td>28530</td>\n",
              "    </tr>\n",
              "  </tbody>\n",
              "</table>\n",
              "<p>14640 rows × 9 columns</p>\n",
              "</div>"
            ],
            "text/plain": [
              "                                                                                        Both sexes_max  ...  Male_recent\n",
              "IncomeGroup         Region              Country      Year Causes                                        ...             \n",
              "High income         East Asia & Pacific Australia    2000 Cardiovascular diseases                54254  ...        22658\n",
              "                                                          Chronic respiratory diseases            9984  ...         4813\n",
              "                                                          Diabetes mellitus                       3391  ...         1548\n",
              "                                                          Malignant neoplasms                    40612  ...        19947\n",
              "                                                     2001 Cardiovascular diseases                53925  ...        22552\n",
              "...                                                                                                ...  ...          ...\n",
              "Upper middle income Sub-Saharan Africa  South Africa 2018 Malignant neoplasms                    72458  ...        28635\n",
              "                                                     2019 Cardiovascular diseases               107835  ...        42630\n",
              "                                                          Chronic respiratory diseases           25492  ...        10966\n",
              "                                                          Diabetes mellitus                      42803  ...        15327\n",
              "                                                          Malignant neoplasms                    73325  ...        28530\n",
              "\n",
              "[14640 rows x 9 columns]"
            ]
          },
          "metadata": {
            "tags": []
          },
          "execution_count": 524
        }
      ]
    },
    {
      "cell_type": "code",
      "metadata": {
        "id": "C5mMdcYeGDvr"
      },
      "source": [
        "df_merged_pivot.to_excel(\"income_disease_by_year.xlsx\")"
      ],
      "execution_count": 525,
      "outputs": []
    },
    {
      "cell_type": "code",
      "metadata": {
        "id": "5UypgWlPGz7a"
      },
      "source": [
        ""
      ],
      "execution_count": null,
      "outputs": []
    }
  ]
}